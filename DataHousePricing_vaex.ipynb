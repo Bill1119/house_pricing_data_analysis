{
 "cells": [
  {
   "cell_type": "code",
   "execution_count": 370,
   "metadata": {},
   "outputs": [],
   "source": [
    "    # import the libraies that will be using\n",
    "import numpy as np\n",
    "import pandas as pd\n",
    "import vaex \n",
    "import glob\n",
    "\n",
    "# about how to use vaex and run this jupyter note book\n",
    "# please install vaex with Anaconda or with regular python intall\n",
    "# in Anaconda cmd: conda install -c conda-forge vaex\n",
    "# in regular cmd(python installed): pip install vaex"
   ]
  },
  {
   "cell_type": "code",
   "execution_count": 371,
   "metadata": {},
   "outputs": [],
   "source": [
    "# open the hdf5 file with vaex, todealing with the large dataset, should convert the csv to hdf5\n",
    "# caution with Windows operating system, python 3.8 with Windows may cause bugs when dealing with vaex\n",
    "\n",
    "# After debugging the data, sold_at seems have some relation to expired_at. I don't know why sold_at can't filter out None, it will show error.\n",
    "# Also, every time I try to catch specific information in the sold_at, such as find which row contains 2019 or 2020, it still shows a lot of None on sold_at column.\n",
    "# It should output rows that is with stings contains 2019 or 2020 in sold_at but not with None, it seems sold_at column do have some problems.\n",
    "# I do find when I search sold_at with contains 2019 or 2020, the date such as expired_at, created_at, or updated_on do have some relation to it, even sold_at still shows None.\n",
    "\n",
    "    # road the hdf5 file\n",
    "df = vaex.open('listings_hdf5.hdf5')\n",
    "\n",
    "# to convert csv to hdf5 is to type in cmd with : vaex convert file gaia-dr1.fits gaia-dr1.hdf5\n",
    "\n"
   ]
  },
  {
   "cell_type": "code",
   "execution_count": 372,
   "metadata": {},
   "outputs": [],
   "source": [
    "# testing the is_rental correctness\n",
    "#df['is_rental']\n",
    "#(df.is_rental.values == 'f').sum() # 3508281\n",
    "#(df.is_rental.values == 't').sum() # 406839\n",
    "#(df.is_rental.values != 'f').sum() # 406968\n",
    "#(df.is_rental.values != 't').sum() # 3508410\n"
   ]
  },
  {
   "cell_type": "code",
   "execution_count": 373,
   "metadata": {},
   "outputs": [
    {
     "data": {
      "text/html": [
       "<div>\n",
       "<style scoped>\n",
       "    .dataframe tbody tr th:only-of-type {\n",
       "        vertical-align: middle;\n",
       "    }\n",
       "\n",
       "    .dataframe tbody tr th {\n",
       "        vertical-align: top;\n",
       "    }\n",
       "\n",
       "    .dataframe thead th {\n",
       "        text-align: right;\n",
       "    }\n",
       "</style>\n",
       "<table border=\"1\" class=\"dataframe\">\n",
       "  <thead>\n",
       "    <tr style=\"text-align: right;\">\n",
       "      <th></th>\n",
       "      <th>address</th>\n",
       "      <th>municipality</th>\n",
       "      <th>province</th>\n",
       "      <th>postal_code</th>\n",
       "      <th>geocoding_type_id</th>\n",
       "      <th>id</th>\n",
       "      <th>mls</th>\n",
       "      <th>price</th>\n",
       "      <th>description</th>\n",
       "      <th>bedrooms</th>\n",
       "      <th>...</th>\n",
       "      <th>url_slug</th>\n",
       "      <th>square_footage</th>\n",
       "      <th>kitchen_count</th>\n",
       "      <th>is_rental</th>\n",
       "      <th>expired_at</th>\n",
       "      <th>sold_price</th>\n",
       "      <th>sold_at</th>\n",
       "      <th>thumbnails_count</th>\n",
       "      <th>address_id</th>\n",
       "      <th>address_ids</th>\n",
       "    </tr>\n",
       "  </thead>\n",
       "  <tbody>\n",
       "    <tr>\n",
       "      <th>dtype</th>\n",
       "      <td>str</td>\n",
       "      <td>str</td>\n",
       "      <td>str</td>\n",
       "      <td>str</td>\n",
       "      <td>float64</td>\n",
       "      <td>int64</td>\n",
       "      <td>str</td>\n",
       "      <td>float64</td>\n",
       "      <td>str</td>\n",
       "      <td>float64</td>\n",
       "      <td>...</td>\n",
       "      <td>str</td>\n",
       "      <td>str</td>\n",
       "      <td>float64</td>\n",
       "      <td>str</td>\n",
       "      <td>str</td>\n",
       "      <td>float64</td>\n",
       "      <td>str</td>\n",
       "      <td>float64</td>\n",
       "      <td>float64</td>\n",
       "      <td>str</td>\n",
       "    </tr>\n",
       "    <tr>\n",
       "      <th>count</th>\n",
       "      <td>3915249</td>\n",
       "      <td>3914119</td>\n",
       "      <td>3909013</td>\n",
       "      <td>3858369</td>\n",
       "      <td>3505731</td>\n",
       "      <td>3915249</td>\n",
       "      <td>3915249</td>\n",
       "      <td>3913763</td>\n",
       "      <td>3907421</td>\n",
       "      <td>3690058</td>\n",
       "      <td>...</td>\n",
       "      <td>3915249</td>\n",
       "      <td>2578383</td>\n",
       "      <td>2974091</td>\n",
       "      <td>3915120</td>\n",
       "      <td>3587429</td>\n",
       "      <td>691112</td>\n",
       "      <td>613900</td>\n",
       "      <td>1503831</td>\n",
       "      <td>3849194</td>\n",
       "      <td>3858615</td>\n",
       "    </tr>\n",
       "    <tr>\n",
       "      <th>NA</th>\n",
       "      <td>0</td>\n",
       "      <td>1130</td>\n",
       "      <td>6236</td>\n",
       "      <td>56880</td>\n",
       "      <td>409518</td>\n",
       "      <td>0</td>\n",
       "      <td>0</td>\n",
       "      <td>1486</td>\n",
       "      <td>7828</td>\n",
       "      <td>225191</td>\n",
       "      <td>...</td>\n",
       "      <td>0</td>\n",
       "      <td>1336866</td>\n",
       "      <td>941158</td>\n",
       "      <td>129</td>\n",
       "      <td>327820</td>\n",
       "      <td>3224137</td>\n",
       "      <td>3301349</td>\n",
       "      <td>2411418</td>\n",
       "      <td>66055</td>\n",
       "      <td>56634</td>\n",
       "    </tr>\n",
       "    <tr>\n",
       "      <th>mean</th>\n",
       "      <td>--</td>\n",
       "      <td>--</td>\n",
       "      <td>--</td>\n",
       "      <td>--</td>\n",
       "      <td>22.882743142585667</td>\n",
       "      <td>5336143.436108917</td>\n",
       "      <td>--</td>\n",
       "      <td>581522.0258825023</td>\n",
       "      <td>--</td>\n",
       "      <td>3.0052253921212078</td>\n",
       "      <td>...</td>\n",
       "      <td>--</td>\n",
       "      <td>--</td>\n",
       "      <td>0.9920829591293608</td>\n",
       "      <td>--</td>\n",
       "      <td>--</td>\n",
       "      <td>483661.85834939935</td>\n",
       "      <td>--</td>\n",
       "      <td>21.069484536493796</td>\n",
       "      <td>1206016.7423920436</td>\n",
       "      <td>--</td>\n",
       "    </tr>\n",
       "    <tr>\n",
       "      <th>std</th>\n",
       "      <td>--</td>\n",
       "      <td>--</td>\n",
       "      <td>--</td>\n",
       "      <td>--</td>\n",
       "      <td>1.76213</td>\n",
       "      <td>1.1308e+06</td>\n",
       "      <td>--</td>\n",
       "      <td>1.08284e+06</td>\n",
       "      <td>--</td>\n",
       "      <td>1.52657</td>\n",
       "      <td>...</td>\n",
       "      <td>--</td>\n",
       "      <td>--</td>\n",
       "      <td>0.390108</td>\n",
       "      <td>--</td>\n",
       "      <td>--</td>\n",
       "      <td>552604</td>\n",
       "      <td>--</td>\n",
       "      <td>12.3117</td>\n",
       "      <td>795788</td>\n",
       "      <td>--</td>\n",
       "    </tr>\n",
       "    <tr>\n",
       "      <th>min</th>\n",
       "      <td>--</td>\n",
       "      <td>--</td>\n",
       "      <td>--</td>\n",
       "      <td>--</td>\n",
       "      <td>1</td>\n",
       "      <td>1</td>\n",
       "      <td>--</td>\n",
       "      <td>0</td>\n",
       "      <td>--</td>\n",
       "      <td>0</td>\n",
       "      <td>...</td>\n",
       "      <td>--</td>\n",
       "      <td>--</td>\n",
       "      <td>0</td>\n",
       "      <td>--</td>\n",
       "      <td>--</td>\n",
       "      <td>0</td>\n",
       "      <td>--</td>\n",
       "      <td>0</td>\n",
       "      <td>9431</td>\n",
       "      <td>--</td>\n",
       "    </tr>\n",
       "    <tr>\n",
       "      <th>max</th>\n",
       "      <td>--</td>\n",
       "      <td>--</td>\n",
       "      <td>--</td>\n",
       "      <td>--</td>\n",
       "      <td>27</td>\n",
       "      <td>7294048</td>\n",
       "      <td>--</td>\n",
       "      <td>1e+09</td>\n",
       "      <td>--</td>\n",
       "      <td>1593</td>\n",
       "      <td>...</td>\n",
       "      <td>--</td>\n",
       "      <td>--</td>\n",
       "      <td>11</td>\n",
       "      <td>--</td>\n",
       "      <td>--</td>\n",
       "      <td>4.625e+07</td>\n",
       "      <td>--</td>\n",
       "      <td>100</td>\n",
       "      <td>2.76438e+06</td>\n",
       "      <td>--</td>\n",
       "    </tr>\n",
       "  </tbody>\n",
       "</table>\n",
       "<p>7 rows × 45 columns</p>\n",
       "</div>"
      ],
      "text/plain": [
       "       address municipality province postal_code   geocoding_type_id  \\\n",
       "dtype      str          str      str         str             float64   \n",
       "count  3915249      3914119  3909013     3858369             3505731   \n",
       "NA           0         1130     6236       56880              409518   \n",
       "mean        --           --       --          --  22.882743142585667   \n",
       "std         --           --       --          --             1.76213   \n",
       "min         --           --       --          --                   1   \n",
       "max         --           --       --          --                  27   \n",
       "\n",
       "                      id      mls              price description  \\\n",
       "dtype              int64      str            float64         str   \n",
       "count            3915249  3915249            3913763     3907421   \n",
       "NA                     0        0               1486        7828   \n",
       "mean   5336143.436108917       --  581522.0258825023          --   \n",
       "std           1.1308e+06       --        1.08284e+06          --   \n",
       "min                    1       --                  0          --   \n",
       "max              7294048       --              1e+09          --   \n",
       "\n",
       "                 bedrooms  ... url_slug square_footage       kitchen_count  \\\n",
       "dtype             float64  ...      str            str             float64   \n",
       "count             3690058  ...  3915249        2578383             2974091   \n",
       "NA                 225191  ...        0        1336866              941158   \n",
       "mean   3.0052253921212078  ...       --             --  0.9920829591293608   \n",
       "std               1.52657  ...       --             --            0.390108   \n",
       "min                     0  ...       --             --                   0   \n",
       "max                  1593  ...       --             --                  11   \n",
       "\n",
       "      is_rental expired_at          sold_price  sold_at    thumbnails_count  \\\n",
       "dtype       str        str             float64      str             float64   \n",
       "count   3915120    3587429              691112   613900             1503831   \n",
       "NA          129     327820             3224137  3301349             2411418   \n",
       "mean         --         --  483661.85834939935       --  21.069484536493796   \n",
       "std          --         --              552604       --             12.3117   \n",
       "min          --         --                   0       --                   0   \n",
       "max          --         --           4.625e+07       --                 100   \n",
       "\n",
       "               address_id address_ids  \n",
       "dtype             float64         str  \n",
       "count             3849194     3858615  \n",
       "NA                  66055       56634  \n",
       "mean   1206016.7423920436          --  \n",
       "std                795788          --  \n",
       "min                  9431          --  \n",
       "max           2.76438e+06          --  \n",
       "\n",
       "[7 rows x 45 columns]"
      ]
     },
     "execution_count": 373,
     "metadata": {},
     "output_type": "execute_result"
    }
   ],
   "source": [
    "df.describe()"
   ]
  },
  {
   "cell_type": "code",
   "execution_count": 360,
   "metadata": {},
   "outputs": [],
   "source": [
    "    # testing area\n",
    "#ttt = df[df['sold_price'] > df['price']*3]\n",
    "#ttt.head(5)"
   ]
  },
  {
   "cell_type": "code",
   "execution_count": 382,
   "metadata": {},
   "outputs": [],
   "source": [
    "    # analyze and filter out useless information, make it more easy for data analysis and higher correctness.\n",
    "\n",
    "    # lines that maybe useful\n",
    "#(df_testna.municipality.isna()).sum()\n",
    "#(df.municipality.isna()).sum()\n",
    "#df = df[df['province'].isna() == False]\n",
    "#df = df[df['province_same'].isna() == False]\n",
    "#df = df[df['municipality'].isna() == False]\n",
    "#df = df[df['municipality_same'].isna() == False]\n",
    "#(df_testna.municipality.isna()).sum()\n",
    "#(df.municipality.isna()).sum()\n",
    "\n",
    "    # filter out the null value from several columns\n",
    "df = df[df['updated_on'].isna() == False]\n",
    "df = df[df['is_rental'].isna() == False]\n",
    "    # not using isna() for postal code, because it will cause 2019 data with index error\n",
    "df = df[df['postal_code'].str.len()>5]\n",
    "df = df[df['sold_price'].isna() == False]\n",
    "df = df[df['price'].isna() == False]\n",
    "    # remove na and also which house type is not house or condo\n",
    "df = df[df['style_id'].isna() == False]\n",
    "df = df[df['style_id'] != 24]\n",
    "df = df[df['style_id'] != 111]\n",
    "\n",
    "    # filter out the single value of year and month\n",
    "df['updated_on'].str.replace(' ', '-')\n",
    "df['time'] = df['updated_on'].str.slice(start=0, stop=7)\n",
    "df['year'] = df['time'].str.slice(start=0, stop=4)\n",
    "df = df[df['year'].str.isdigit()]\n",
    "df = df[df['year'].str.len()==4]\n",
    "df['month'] = df['time'].str.slice(start=5, stop=7)\n",
    "    \n",
    "    # ignore the difference with upper and lower letter and export useful information with regions and postal code\n",
    "#df['municipality_same'] = df.municipality.str.lower()\n",
    "df['province_same'] = df.province.str.lower()\n",
    "df['region_territory'] = df['postal_code'].str.slice(start=0, stop=1)\n",
    "df['region_territory'] = df['region_territory'].str.upper()\n",
    "df = df[df['region_territory'].str.isalpha()]\n",
    "df['region_place'] = df['postal_code'].str.slice(start=0, stop=3)\n",
    "df['region_place'] = df['region_place'].str.upper()\n",
    "\n",
    "    # using number of kitchens, parking slots, bedrooms, and bathrooms to find out the size of the house\n",
    "    # 4 data columns have high data completion\n",
    "    # the data of square_footage has over 1336866 missing data it may impact the result\n",
    "    # it is also possible to use square_footage though \n",
    "df['home_size'] = df['kitchen_count'] + df['parking_spaces'] + df['bedrooms'] + df['bathrooms']\n",
    "\n",
    "    # it contains 82% of data with NA value, is a risk to filter it out, need to do it carefully\n",
    "    # sold_at data do has some problems, most of it only shows None in the column\n",
    "#df = df[df['sold_at'].isna() == False]"
   ]
  },
  {
   "cell_type": "code",
   "execution_count": 383,
   "metadata": {},
   "outputs": [],
   "source": [
    "    # columns show which is condo or house\n",
    "df['condo'] = ((df['style_id'] < 108) & (df['style_id'] > 104))\n",
    "df['house'] = ((df['style_id'] > 107) | (df['style_id'] < 104))\n",
    "df['home_type'] = df.condo.apply(lambda s: 'condo' if s==True else 'house')\n"
   ]
  },
  {
   "cell_type": "code",
   "execution_count": 384,
   "metadata": {},
   "outputs": [],
   "source": [
    "    # filter out useless columns\n",
    "df_clean = df.drop(['geocoding_type_id','id','mls','url','search','broker_id','the_geom','provider_id','virtual_tour_url'\n",
    "                   ,'web_bug_url', 'quad_tree', 'title', 'real_estate_board_id', 'bedrooms_partial', 'bathrooms_partial', 'source_id'\n",
    "                   , 'email', 'listing_images_count'])"
   ]
  },
  {
   "cell_type": "code",
   "execution_count": 385,
   "metadata": {},
   "outputs": [],
   "source": [
    "    # show whether the deal is in Sep. Use it if only want the Sep. deals.\n",
    "df_clean['is_sep'] = df_clean['month'] == '09'\n"
   ]
  },
  {
   "cell_type": "code",
   "execution_count": 386,
   "metadata": {},
   "outputs": [],
   "source": [
    "    # separate rent and sell only houses, not yet consider the house for both\n",
    "df_rent = df_clean[df_clean['is_rental'] == 't']\n",
    "df_sell = df_clean[df_clean['is_rental'] == 'f']"
   ]
  },
  {
   "cell_type": "code",
   "execution_count": 387,
   "metadata": {},
   "outputs": [],
   "source": [
    "    # find the total numbers of each deals that is sold price > list price and list price > sold price\n",
    "    # earn_passive shows the deal higher than expected, earn_negative shows the deal lower than expected\n",
    "df_sell['earn'] = df_sell['sold_price'] - df_sell['price']\n",
    "\n",
    "df_sell['earn_passive'] = df_sell['earn'] > 0\n",
    "df_sell['earn_negative'] = df_sell['earn'] <= 0\n",
    "\n",
    "#df_sell"
   ]
  },
  {
   "cell_type": "code",
   "execution_count": null,
   "metadata": {},
   "outputs": [],
   "source": []
  },
  {
   "cell_type": "code",
   "execution_count": 388,
   "metadata": {},
   "outputs": [],
   "source": [
    "    # this is for house only for sell\n",
    "    # setting the condition to filter out noise data.\n",
    "    # need a better improve for this part with a more detailed house price knowledge.\n",
    "df_sell_res = df_sell[(df_sell['year'] == '2020')|(df_sell['year'] == '2019')]\n",
    "df_sell_res = df_sell_res[df_sell_res['sold_price']>40000]\n",
    "df_sell_res = df_sell_res[df_sell_res['sold_price']<20000000]\n",
    "#df_sell_res = df_sell_res[df_sell_res['sold_price']<df_sell_res['price']*3]\n",
    "df_sell_res = df_sell_res[df_sell_res['price']>40000]\n",
    "df_sell_res = df_sell_res[df_sell_res['price']<20000000]"
   ]
  },
  {
   "cell_type": "code",
   "execution_count": 389,
   "metadata": {},
   "outputs": [
    {
     "data": {
      "text/html": [
       "<table>\n",
       "<thead>\n",
       "<tr><th>#                            </th><th>address                            </th><th>municipality  </th><th>province  </th><th>postal_code  </th><th style=\"text-align: right;\">    price</th><th>description                                        </th><th style=\"text-align: right;\">  bedrooms</th><th style=\"text-align: right;\">  bathrooms</th><th style=\"text-align: right;\">  status_id</th><th style=\"text-align: right;\">  style_id</th><th>created_at                   </th><th>updated_on                </th><th>extras                                             </th><th>address_components                                 </th><th style=\"text-align: right;\">  parking_spaces</th><th>has_garage  </th><th>has_locker  </th><th>url_slug                 </th><th>square_footage  </th><th style=\"text-align: right;\">  kitchen_count</th><th>is_rental  </th><th>expired_at            </th><th style=\"text-align: right;\">  sold_price</th><th>sold_at  </th><th style=\"text-align: right;\">  thumbnails_count</th><th style=\"text-align: right;\">  address_id</th><th>address_ids    </th><th>time   </th><th style=\"text-align: right;\">  year</th><th style=\"text-align: right;\">  month</th><th>province_same  </th><th>region_territory  </th><th>region_place  </th><th style=\"text-align: right;\">  home_size</th><th>condo  </th><th>house  </th><th>home_type  </th><th>is_sep  </th><th style=\"text-align: right;\">   earn</th><th>earn_passive  </th><th>earn_negative  </th></tr>\n",
       "</thead>\n",
       "<tbody>\n",
       "<tr><td><i style='opacity: 0.6'>0</i></td><td>3 Geranium Crt, Toronto, ON, M2M0A2</td><td>Toronto       </td><td>ON        </td><td>M2M0A2       </td><td style=\"text-align: right;\">2.388e+06</td><td>&#x27;Stunning Executive Custom Built Home On Quiet C...</td><td style=\"text-align: right;\">         4</td><td style=\"text-align: right;\">          5</td><td style=\"text-align: right;\">          3</td><td style=\"text-align: right;\">       101</td><td>2020-03-10 08:45:40.479724-04</td><td>2020-04-16 16:45:45.766633</td><td>&#x27;{&quot;lot&quot;: {&quot;unit&quot;: &quot;feet&quot;, &quot;depth&quot;: 103, &quot;front&quot;:...</td><td>&#x27;{&quot;postal&quot;:&quot;M2M0A2&quot;,&quot;street&quot;:&quot;3 Geranium Crt&quot;,&quot;s...</td><td style=\"text-align: right;\">               6</td><td>t           </td><td>f           </td><td>3-geranium-crt-toronto-on</td><td>[3500,5001)     </td><td style=\"text-align: right;\">              1</td><td>f          </td><td>2020-04-07 00:00:00-04</td><td style=\"text-align: right;\">     2.2e+06</td><td>None     </td><td style=\"text-align: right;\">                20</td><td style=\"text-align: right;\"> 1.60803e+06</td><td>{2875,1,2,8135}</td><td>2020-04</td><td style=\"text-align: right;\">  2020</td><td style=\"text-align: right;\">     04</td><td>on             </td><td>M                 </td><td>M2M           </td><td style=\"text-align: right;\">         16</td><td>False  </td><td>True   </td><td>house      </td><td>False   </td><td style=\"text-align: right;\">-188000</td><td>False         </td><td>True           </td></tr>\n",
       "</tbody>\n",
       "</table>"
      ],
      "text/plain": [
       "  #  address                              municipality    province    postal_code        price  description                                            bedrooms    bathrooms    status_id    style_id  created_at                     updated_on                  extras                                               address_components                                     parking_spaces  has_garage    has_locker    url_slug                   square_footage      kitchen_count  is_rental    expired_at                sold_price  sold_at      thumbnails_count    address_id  address_ids      time       year    month  province_same    region_territory    region_place      home_size  condo    house    home_type    is_sep       earn  earn_passive    earn_negative\n",
       "  0  3 Geranium Crt, Toronto, ON, M2M0A2  Toronto         ON          M2M0A2         2.388e+06  'Stunning Executive Custom Built Home On Quiet C...           4            5            3         101  2020-03-10 08:45:40.479724-04  2020-04-16 16:45:45.766633  '{\"lot\": {\"unit\": \"feet\", \"depth\": 103, \"front\":...  '{\"postal\":\"M2M0A2\",\"street\":\"3 Geranium Crt\",\"s...                 6  t             f             3-geranium-crt-toronto-on  [3500,5001)                     1  f            2020-04-07 00:00:00-04       2.2e+06  None                       20   1.60803e+06  {2875,1,2,8135}  2020-04    2020       04  on               M                   M2M                      16  False    True     house        False     -188000  False           True"
      ]
     },
     "execution_count": 389,
     "metadata": {},
     "output_type": "execute_result"
    }
   ],
   "source": [
    "df_sell_res.head(1)"
   ]
  },
  {
   "cell_type": "code",
   "execution_count": 391,
   "metadata": {},
   "outputs": [
    {
     "data": {
      "text/html": [
       "<table>\n",
       "<thead>\n",
       "<tr><th>#                                </th><th>region_place  </th><th>year  </th><th>home_type  </th><th>mean_sold         </th><th>mean_price        </th><th>mean_rank         </th><th>mean_size         </th><th>min_sold  </th><th>min_price  </th><th>max_size  </th><th>popular_area  </th><th>sold_above_list_price  </th><th>sold_below_list_price  </th></tr>\n",
       "</thead>\n",
       "<tbody>\n",
       "<tr><td><i style='opacity: 0.6'>0</i>    </td><td>M2M           </td><td>2019  </td><td>house      </td><td>1658787.7982608695</td><td>1675520.9008695653</td><td>14.23076923076923 </td><td>12.415458937198068</td><td>53000.0   </td><td>65000.0    </td><td>24.0      </td><td>575           </td><td>151                    </td><td>424                    </td></tr>\n",
       "<tr><td><i style='opacity: 0.6'>1</i>    </td><td>M2M           </td><td>2019  </td><td>condo      </td><td>511935.7828348504 </td><td>504970.0390117035 </td><td>14.928205128205128</td><td>5.441322314049587 </td><td>251000.0  </td><td>229000.0   </td><td>10.0      </td><td>769           </td><td>247                    </td><td>522                    </td></tr>\n",
       "<tr><td><i style='opacity: 0.6'>2</i>    </td><td>M2M           </td><td>2020  </td><td>house      </td><td>1497870.2211538462</td><td>1514043.5692307693</td><td>22.0              </td><td>12.149606299212598</td><td>209100.0  </td><td>212900.0   </td><td>22.0      </td><td>130           </td><td>40                     </td><td>90                     </td></tr>\n",
       "<tr><td><i style='opacity: 0.6'>3</i>    </td><td>M2M           </td><td>2020  </td><td>condo      </td><td>345494.90379008744</td><td>347223.0583090379 </td><td>17.944            </td><td>5.445427728613569 </td><td>135000.0  </td><td>139900.0   </td><td>8.0       </td><td>343           </td><td>60                     </td><td>283                    </td></tr>\n",
       "<tr><td><i style='opacity: 0.6'>4</i>    </td><td>L4L           </td><td>2019  </td><td>house      </td><td>1055380.8172161172</td><td>1074575.931135531 </td><td>17.629545454545454</td><td>13.055855855855857</td><td>390000.0  </td><td>345000.0   </td><td>41.0      </td><td>1365          </td><td>314                    </td><td>1051                   </td></tr>\n",
       "<tr><td>...                              </td><td>...           </td><td>...   </td><td>...        </td><td>...               </td><td>...               </td><td>...               </td><td>...               </td><td>...       </td><td>...        </td><td>...       </td><td>...           </td><td>...                    </td><td>...                    </td></tr>\n",
       "<tr><td><i style='opacity: 0.6'>2,078</i></td><td>LC7           </td><td>2020  </td><td>house      </td><td>1215000.0         </td><td>1199900.0         </td><td>1.0               </td><td>13.0              </td><td>1215000.0 </td><td>1199900.0  </td><td>13.0      </td><td>1             </td><td>1                      </td><td>0                      </td></tr>\n",
       "<tr><td><i style='opacity: 0.6'>2,079</i></td><td>M65           </td><td>2020  </td><td>condo      </td><td>640000.0          </td><td>649000.0          </td><td>21.0              </td><td>6.0               </td><td>640000.0  </td><td>649000.0   </td><td>6.0       </td><td>1             </td><td>0                      </td><td>1                      </td></tr>\n",
       "<tr><td><i style='opacity: 0.6'>2,080</i></td><td>LOG           </td><td>2020  </td><td>house      </td><td>745000.0          </td><td>763950.0          </td><td>10.0              </td><td>12.0              </td><td>675000.0  </td><td>698900.0   </td><td>16.0      </td><td>2             </td><td>0                      </td><td>2                      </td></tr>\n",
       "<tr><td><i style='opacity: 0.6'>2,081</i></td><td>L75           </td><td>2020  </td><td>house      </td><td>220000.0          </td><td>227900.0          </td><td>nan               </td><td>6.0               </td><td>220000.0  </td><td>227900.0   </td><td>6.0       </td><td>1             </td><td>0                      </td><td>1                      </td></tr>\n",
       "<tr><td><i style='opacity: 0.6'>2,082</i></td><td>N!R           </td><td>2020  </td><td>house      </td><td>1700000.0         </td><td>1650000.0         </td><td>40.0              </td><td>29.0              </td><td>1700000.0 </td><td>1650000.0  </td><td>29.0      </td><td>1             </td><td>1                      </td><td>0                      </td></tr>\n",
       "</tbody>\n",
       "</table>"
      ],
      "text/plain": [
       "#      region_place    year    home_type    mean_sold           mean_price          mean_rank           mean_size           min_sold    min_price    max_size    popular_area    sold_above_list_price    sold_below_list_price\n",
       "0      M2M             2019    house        1658787.7982608695  1675520.9008695653  14.23076923076923   12.415458937198068  53000.0     65000.0      24.0        575             151                      424\n",
       "1      M2M             2019    condo        511935.7828348504   504970.0390117035   14.928205128205128  5.441322314049587   251000.0    229000.0     10.0        769             247                      522\n",
       "2      M2M             2020    house        1497870.2211538462  1514043.5692307693  22.0                12.149606299212598  209100.0    212900.0     22.0        130             40                       90\n",
       "3      M2M             2020    condo        345494.90379008744  347223.0583090379   17.944              5.445427728613569   135000.0    139900.0     8.0         343             60                       283\n",
       "4      L4L             2019    house        1055380.8172161172  1074575.931135531   17.629545454545454  13.055855855855857  390000.0    345000.0     41.0        1365            314                      1051\n",
       "...    ...             ...     ...          ...                 ...                 ...                 ...                 ...         ...          ...         ...             ...                      ...\n",
       "2,078  LC7             2020    house        1215000.0           1199900.0           1.0                 13.0                1215000.0   1199900.0    13.0        1               1                        0\n",
       "2,079  M65             2020    condo        640000.0            649000.0            21.0                6.0                 640000.0    649000.0     6.0         1               0                        1\n",
       "2,080  LOG             2020    house        745000.0            763950.0            10.0                12.0                675000.0    698900.0     16.0        2               0                        2\n",
       "2,081  L75             2020    house        220000.0            227900.0            nan                 6.0                 220000.0    227900.0     6.0         1               0                        1\n",
       "2,082  N!R             2020    house        1700000.0           1650000.0           40.0                29.0                1700000.0   1650000.0    29.0        1               1                        0"
      ]
     },
     "execution_count": 391,
     "metadata": {},
     "output_type": "execute_result"
    }
   ],
   "source": [
    "    # the result grouping with place, year, and home type\n",
    "df_res1 = df_sell_res.groupby(['region_place','year','home_type'],\n",
    "              agg={'mean_sold': vaex.agg.mean('sold_price'),\n",
    "                   'mean_price': vaex.agg.mean('price'),\n",
    "                   'mean_rank': vaex.agg.mean('thumbnails_count'),\n",
    "                   'mean_size': vaex.agg.mean('home_size'),\n",
    "                   'min_sold': vaex.agg.min('sold_price'),\n",
    "                   'min_price': vaex.agg.min('price'),\n",
    "                   'max_size': vaex.agg.max('home_size'),\n",
    "                   'popular_area': vaex.agg.count('sold_price'),\n",
    "                   'sold_above_list_price': vaex.agg.sum('earn_passive'),\n",
    "                   'sold_below_list_price': vaex.agg.sum('earn_negative')\n",
    "              }\n",
    "          )\n",
    "df_res1\n",
    "#df_res1.export_csv('res1.csv')"
   ]
  },
  {
   "cell_type": "code",
   "execution_count": 392,
   "metadata": {},
   "outputs": [
    {
     "data": {
      "text/html": [
       "<table>\n",
       "<thead>\n",
       "<tr><th>#                            </th><th>region_place  </th><th style=\"text-align: right;\">  year</th><th>home_type  </th><th style=\"text-align: right;\">       mean_sold</th><th style=\"text-align: right;\">      mean_price</th><th style=\"text-align: right;\">  mean_rank</th><th style=\"text-align: right;\">  mean_size</th><th style=\"text-align: right;\">  min_sold</th><th style=\"text-align: right;\">  min_price</th><th style=\"text-align: right;\">  max_size</th><th style=\"text-align: right;\">  popular_area</th><th style=\"text-align: right;\">  sold_above_list_price</th><th style=\"text-align: right;\">  sold_below_list_price</th></tr>\n",
       "</thead>\n",
       "<tbody>\n",
       "<tr><td><i style='opacity: 0.6'>0</i></td><td>M2M           </td><td style=\"text-align: right;\">  2019</td><td>house      </td><td style=\"text-align: right;\">     1.65879e+06</td><td style=\"text-align: right;\">     1.67552e+06</td><td style=\"text-align: right;\">    14.2308</td><td style=\"text-align: right;\">   12.4155 </td><td style=\"text-align: right;\">     53000</td><td style=\"text-align: right;\">      65000</td><td style=\"text-align: right;\">        24</td><td style=\"text-align: right;\">           575</td><td style=\"text-align: right;\">                    151</td><td style=\"text-align: right;\">                    424</td></tr>\n",
       "<tr><td><i style='opacity: 0.6'>1</i></td><td>M2M           </td><td style=\"text-align: right;\">  2019</td><td>condo      </td><td style=\"text-align: right;\">511936          </td><td style=\"text-align: right;\">504970          </td><td style=\"text-align: right;\">    14.9282</td><td style=\"text-align: right;\">    5.44132</td><td style=\"text-align: right;\">    251000</td><td style=\"text-align: right;\">     229000</td><td style=\"text-align: right;\">        10</td><td style=\"text-align: right;\">           769</td><td style=\"text-align: right;\">                    247</td><td style=\"text-align: right;\">                    522</td></tr>\n",
       "<tr><td><i style='opacity: 0.6'>2</i></td><td>M2M           </td><td style=\"text-align: right;\">  2020</td><td>house      </td><td style=\"text-align: right;\">     1.49787e+06</td><td style=\"text-align: right;\">     1.51404e+06</td><td style=\"text-align: right;\">    22     </td><td style=\"text-align: right;\">   12.1496 </td><td style=\"text-align: right;\">    209100</td><td style=\"text-align: right;\">     212900</td><td style=\"text-align: right;\">        22</td><td style=\"text-align: right;\">           130</td><td style=\"text-align: right;\">                     40</td><td style=\"text-align: right;\">                     90</td></tr>\n",
       "<tr><td><i style='opacity: 0.6'>3</i></td><td>M2M           </td><td style=\"text-align: right;\">  2020</td><td>condo      </td><td style=\"text-align: right;\">345495          </td><td style=\"text-align: right;\">347223          </td><td style=\"text-align: right;\">    17.944 </td><td style=\"text-align: right;\">    5.44543</td><td style=\"text-align: right;\">    135000</td><td style=\"text-align: right;\">     139900</td><td style=\"text-align: right;\">         8</td><td style=\"text-align: right;\">           343</td><td style=\"text-align: right;\">                     60</td><td style=\"text-align: right;\">                    283</td></tr>\n",
       "</tbody>\n",
       "</table>"
      ],
      "text/plain": [
       "  #  region_place      year  home_type           mean_sold        mean_price    mean_rank    mean_size    min_sold    min_price    max_size    popular_area    sold_above_list_price    sold_below_list_price\n",
       "  0  M2M               2019  house             1.65879e+06       1.67552e+06      14.2308     12.4155        53000        65000          24             575                      151                      424\n",
       "  1  M2M               2019  condo        511936            504970                14.9282      5.44132      251000       229000          10             769                      247                      522\n",
       "  2  M2M               2020  house             1.49787e+06       1.51404e+06      22          12.1496       209100       212900          22             130                       40                       90\n",
       "  3  M2M               2020  condo        345495            347223                17.944       5.44543      135000       139900           8             343                       60                      283"
      ]
     },
     "execution_count": 392,
     "metadata": {},
     "output_type": "execute_result"
    }
   ],
   "source": [
    "    # find specific place of data, please change the 3 character in first_three_postal\n",
    "first_three_postal = 'M2M'\n",
    "target_place = df_res1[df_res1['region_place'] == first_three_postal]\n",
    "target_place"
   ]
  },
  {
   "cell_type": "code",
   "execution_count": 393,
   "metadata": {},
   "outputs": [
    {
     "data": {
      "text/html": [
       "<table>\n",
       "<thead>\n",
       "<tr><th>#                                </th><th>region_place  </th><th>year  </th><th>home_type  </th><th>mean_sold         </th><th>mean_price        </th><th>mean_rank         </th><th>mean_size         </th><th>min_sold  </th><th>min_price  </th><th>max_size  </th><th>popular_area  </th><th>sold_above_list_price  </th><th>sold_below_list_price  </th><th>is_popular  </th></tr>\n",
       "</thead>\n",
       "<tbody>\n",
       "<tr><td><i style='opacity: 0.6'>0</i>    </td><td>M2M           </td><td>2019  </td><td>house      </td><td>1658787.7982608695</td><td>1675520.9008695653</td><td>14.23076923076923 </td><td>12.415458937198068</td><td>53000.0   </td><td>65000.0    </td><td>24.0      </td><td>575           </td><td>151                    </td><td>424                    </td><td>True        </td></tr>\n",
       "<tr><td><i style='opacity: 0.6'>1</i>    </td><td>M2M           </td><td>2019  </td><td>condo      </td><td>511935.7828348504 </td><td>504970.0390117035 </td><td>14.928205128205128</td><td>5.441322314049587 </td><td>251000.0  </td><td>229000.0   </td><td>10.0      </td><td>769           </td><td>247                    </td><td>522                    </td><td>True        </td></tr>\n",
       "<tr><td><i style='opacity: 0.6'>2</i>    </td><td>M2M           </td><td>2020  </td><td>house      </td><td>1497870.2211538462</td><td>1514043.5692307693</td><td>22.0              </td><td>12.149606299212598</td><td>209100.0  </td><td>212900.0   </td><td>22.0      </td><td>130           </td><td>40                     </td><td>90                     </td><td>False       </td></tr>\n",
       "<tr><td><i style='opacity: 0.6'>3</i>    </td><td>M2M           </td><td>2020  </td><td>condo      </td><td>345494.90379008744</td><td>347223.0583090379 </td><td>17.944            </td><td>5.445427728613569 </td><td>135000.0  </td><td>139900.0   </td><td>8.0       </td><td>343           </td><td>60                     </td><td>283                    </td><td>True        </td></tr>\n",
       "<tr><td><i style='opacity: 0.6'>4</i>    </td><td>L4L           </td><td>2019  </td><td>house      </td><td>1055380.8172161172</td><td>1074575.931135531 </td><td>17.629545454545454</td><td>13.055855855855857</td><td>390000.0  </td><td>345000.0   </td><td>41.0      </td><td>1365          </td><td>314                    </td><td>1051                   </td><td>True        </td></tr>\n",
       "<tr><td>...                              </td><td>...           </td><td>...   </td><td>...        </td><td>...               </td><td>...               </td><td>...               </td><td>...               </td><td>...       </td><td>...        </td><td>...       </td><td>...           </td><td>...                    </td><td>...                    </td><td>...         </td></tr>\n",
       "<tr><td><i style='opacity: 0.6'>2,078</i></td><td>LC7           </td><td>2020  </td><td>house      </td><td>1215000.0         </td><td>1199900.0         </td><td>1.0               </td><td>13.0              </td><td>1215000.0 </td><td>1199900.0  </td><td>13.0      </td><td>1             </td><td>1                      </td><td>0                      </td><td>False       </td></tr>\n",
       "<tr><td><i style='opacity: 0.6'>2,079</i></td><td>M65           </td><td>2020  </td><td>condo      </td><td>640000.0          </td><td>649000.0          </td><td>21.0              </td><td>6.0               </td><td>640000.0  </td><td>649000.0   </td><td>6.0       </td><td>1             </td><td>0                      </td><td>1                      </td><td>False       </td></tr>\n",
       "<tr><td><i style='opacity: 0.6'>2,080</i></td><td>LOG           </td><td>2020  </td><td>house      </td><td>745000.0          </td><td>763950.0          </td><td>10.0              </td><td>12.0              </td><td>675000.0  </td><td>698900.0   </td><td>16.0      </td><td>2             </td><td>0                      </td><td>2                      </td><td>False       </td></tr>\n",
       "<tr><td><i style='opacity: 0.6'>2,081</i></td><td>L75           </td><td>2020  </td><td>house      </td><td>220000.0          </td><td>227900.0          </td><td>nan               </td><td>6.0               </td><td>220000.0  </td><td>227900.0   </td><td>6.0       </td><td>1             </td><td>0                      </td><td>1                      </td><td>False       </td></tr>\n",
       "<tr><td><i style='opacity: 0.6'>2,082</i></td><td>N!R           </td><td>2020  </td><td>house      </td><td>1700000.0         </td><td>1650000.0         </td><td>40.0              </td><td>29.0              </td><td>1700000.0 </td><td>1650000.0  </td><td>29.0      </td><td>1             </td><td>1                      </td><td>0                      </td><td>False       </td></tr>\n",
       "</tbody>\n",
       "</table>"
      ],
      "text/plain": [
       "#      region_place    year    home_type    mean_sold           mean_price          mean_rank           mean_size           min_sold    min_price    max_size    popular_area    sold_above_list_price    sold_below_list_price    is_popular\n",
       "0      M2M             2019    house        1658787.7982608695  1675520.9008695653  14.23076923076923   12.415458937198068  53000.0     65000.0      24.0        575             151                      424                      True\n",
       "1      M2M             2019    condo        511935.7828348504   504970.0390117035   14.928205128205128  5.441322314049587   251000.0    229000.0     10.0        769             247                      522                      True\n",
       "2      M2M             2020    house        1497870.2211538462  1514043.5692307693  22.0                12.149606299212598  209100.0    212900.0     22.0        130             40                       90                       False\n",
       "3      M2M             2020    condo        345494.90379008744  347223.0583090379   17.944              5.445427728613569   135000.0    139900.0     8.0         343             60                       283                      True\n",
       "4      L4L             2019    house        1055380.8172161172  1074575.931135531   17.629545454545454  13.055855855855857  390000.0    345000.0     41.0        1365            314                      1051                     True\n",
       "...    ...             ...     ...          ...                 ...                 ...                 ...                 ...         ...          ...         ...             ...                      ...                      ...\n",
       "2,078  LC7             2020    house        1215000.0           1199900.0           1.0                 13.0                1215000.0   1199900.0    13.0        1               1                        0                        False\n",
       "2,079  M65             2020    condo        640000.0            649000.0            21.0                6.0                 640000.0    649000.0     6.0         1               0                        1                        False\n",
       "2,080  LOG             2020    house        745000.0            763950.0            10.0                12.0                675000.0    698900.0     16.0        2               0                        2                        False\n",
       "2,081  L75             2020    house        220000.0            227900.0            nan                 6.0                 220000.0    227900.0     6.0         1               0                        1                        False\n",
       "2,082  N!R             2020    house        1700000.0           1650000.0           40.0                29.0                1700000.0   1650000.0    29.0        1               1                        0                        False"
      ]
     },
     "execution_count": 393,
     "metadata": {},
     "output_type": "execute_result"
    }
   ],
   "source": [
    "    # find the avg of popular deals\n",
    "    # it means how many houses were sold\n",
    "mean_pop = df_res1['popular_area'].mean()\n",
    "\n",
    "df_res1['is_popular'] = df_res1['popular_area'] >= 200\n",
    "df_res1"
   ]
  },
  {
   "cell_type": "code",
   "execution_count": 394,
   "metadata": {},
   "outputs": [],
   "source": [
    "    # find the avg of ranks\n",
    "    # it means how many avg ranks of the place\n",
    "total_mean_rank = df_res1['mean_rank'].mean()\n",
    "total_mean_rank\n",
    "df_res1['good_rank'] = df_res1['mean_rank'] >= 18\n",
    "#df_res1\n",
    "    # besty ranking\n",
    "#total_mean_rank = df_res1['mean_rank'].max()"
   ]
  },
  {
   "cell_type": "code",
   "execution_count": 395,
   "metadata": {},
   "outputs": [],
   "source": [
    "    # please change the value you want here\n",
    "    # changing values here to make further method output different results\n",
    "# mainly with 2019 and 2020\n",
    "target_year = '2019'\n",
    "# house deal avg which is higher than the mean\n",
    "target_popular = True\n",
    "# two types: house or condo\n",
    "target_house_type = 'condo'\n",
    "# do the ranking higher than the mean\n",
    "is_good_rank = True\n",
    "# tpye a size for searching\n",
    "target_size = ''\n"
   ]
  },
  {
   "cell_type": "code",
   "execution_count": 397,
   "metadata": {},
   "outputs": [
    {
     "data": {
      "text/html": [
       "<table>\n",
       "<thead>\n",
       "<tr><th>#                            </th><th>region_place  </th><th style=\"text-align: right;\">  year</th><th>home_type  </th><th style=\"text-align: right;\">  mean_sold</th><th style=\"text-align: right;\">  mean_price</th><th style=\"text-align: right;\">  mean_rank</th><th style=\"text-align: right;\">  mean_size</th><th style=\"text-align: right;\">  min_sold</th><th style=\"text-align: right;\">  min_price</th><th style=\"text-align: right;\">  max_size</th><th style=\"text-align: right;\">  popular_area</th><th style=\"text-align: right;\">  sold_above_list_price</th><th style=\"text-align: right;\">  sold_below_list_price</th><th>is_popular  </th><th>good_rank  </th></tr>\n",
       "</thead>\n",
       "<tbody>\n",
       "<tr><td><i style='opacity: 0.6'>0</i></td><td>L9R           </td><td style=\"text-align: right;\">  2019</td><td>condo      </td><td style=\"text-align: right;\">     517610</td><td style=\"text-align: right;\">      525411</td><td style=\"text-align: right;\">    18.2747</td><td style=\"text-align: right;\">    7.99522</td><td style=\"text-align: right;\">    222000</td><td style=\"text-align: right;\">     223900</td><td style=\"text-align: right;\">        16</td><td style=\"text-align: right;\">           248</td><td style=\"text-align: right;\">                     35</td><td style=\"text-align: right;\">                    213</td><td>True        </td><td>True       </td></tr>\n",
       "</tbody>\n",
       "</table>"
      ],
      "text/plain": [
       "  #  region_place      year  home_type      mean_sold    mean_price    mean_rank    mean_size    min_sold    min_price    max_size    popular_area    sold_above_list_price    sold_below_list_price  is_popular    good_rank\n",
       "  0  L9R               2019  condo             517610        525411      18.2747      7.99522      222000       223900          16             248                       35                      213  True          True"
      ]
     },
     "execution_count": 397,
     "metadata": {},
     "output_type": "execute_result"
    }
   ],
   "source": [
    "# lowest mean sold place\n",
    "# find cheapest place\n",
    "\n",
    "# choose a year\n",
    "lowest_sold_mean = df_res1[(df_res1['year'] == target_year)]\n",
    "# want popular place or not\n",
    "lowest_sold_mean = lowest_sold_mean[(lowest_sold_mean['is_popular'] == target_popular)]\n",
    "# rank good or not\n",
    "lowest_sold_mean = lowest_sold_mean[(lowest_sold_mean['good_rank'] == is_good_rank)]\n",
    "# house or condo\n",
    "lowest_sold_mean = lowest_sold_mean[(lowest_sold_mean['home_type'] == target_house_type)]\n",
    "\n",
    "# home size\n",
    "#lowest_sold_mean = lowest_sold_mean[(lowest_sold_mean['mean_size'] >= target_size)]\n",
    "\n",
    "# find lowest mean place\n",
    "lowest_sold_mean = lowest_sold_mean[lowest_sold_mean['mean_sold'] == lowest_sold_mean['mean_sold'].min()]\n",
    "\n",
    "lowest_sold_mean"
   ]
  },
  {
   "cell_type": "code",
   "execution_count": null,
   "metadata": {},
   "outputs": [],
   "source": [
    "#################################################################################################################\n",
    "\n",
    "\n",
    "\n",
    "#      no need to check the code below\n",
    "\n",
    "\n",
    "\n",
    "\n",
    "#################################################################################################################"
   ]
  },
  {
   "cell_type": "code",
   "execution_count": null,
   "metadata": {},
   "outputs": [],
   "source": []
  },
  {
   "cell_type": "code",
   "execution_count": null,
   "metadata": {},
   "outputs": [],
   "source": [
    "# place with large size\n",
    "size_home = df_res1[(df_res1['year'] == target_year)]\n",
    "lowest_sold_mean = lowest_sold_mean[(lowest_sold_mean['is_popular'] == target_popular)]\n",
    "lowest_sold_mean = lowest_sold_mean[(lowest_sold_mean['home_type'] == target_house_type)]\n",
    "lowest_sold_mean = lowest_sold_mean[lowest_sold_mean['mean_sold'] == lowest_sold_mean['mean_sold'].min()]\n",
    "lowest_sold_mean"
   ]
  },
  {
   "cell_type": "code",
   "execution_count": 294,
   "metadata": {},
   "outputs": [
    {
     "data": {
      "text/html": [
       "<table>\n",
       "<thead>\n",
       "<tr><th>#                            </th><th>region_place  </th><th style=\"text-align: right;\">  year</th><th>home_type  </th><th style=\"text-align: right;\">  mean_sold</th><th style=\"text-align: right;\">  mean_price</th><th style=\"text-align: right;\">  mean_rank</th><th style=\"text-align: right;\">  mean_size</th><th style=\"text-align: right;\">  min_sold</th><th style=\"text-align: right;\">  min_price</th><th style=\"text-align: right;\">  max_size</th><th style=\"text-align: right;\">  popular_area</th><th style=\"text-align: right;\">  make_money</th><th style=\"text-align: right;\">  lose_money</th><th>is_popular  </th></tr>\n",
       "</thead>\n",
       "<tbody>\n",
       "<tr><td><i style='opacity: 0.6'>0</i></td><td>V0N           </td><td style=\"text-align: right;\">  2019</td><td>condo      </td><td style=\"text-align: right;\">      57000</td><td style=\"text-align: right;\">       60000</td><td style=\"text-align: right;\">         14</td><td style=\"text-align: right;\">        nan</td><td style=\"text-align: right;\">     57000</td><td style=\"text-align: right;\">      60000</td><td style=\"text-align: right;\">       inf</td><td style=\"text-align: right;\">             1</td><td style=\"text-align: right;\">           0</td><td style=\"text-align: right;\">           1</td><td>False       </td></tr>\n",
       "</tbody>\n",
       "</table>"
      ],
      "text/plain": [
       "  #  region_place      year  home_type      mean_sold    mean_price    mean_rank    mean_size    min_sold    min_price    max_size    popular_area    make_money    lose_money  is_popular\n",
       "  0  V0N               2019  condo              57000         60000           14          nan       57000        60000         inf               1             0             1  False"
      ]
     },
     "execution_count": 294,
     "metadata": {},
     "output_type": "execute_result"
    }
   ],
   "source": [
    "    # lowest mean sold place 2019\n",
    "place_lowest_mean_deals_2019 = df_res1[(df_res1['year'] == '2019')]\n",
    "place_lowest_mean_deals_2019 = place_lowest_mean_deals_2019[place_lowest_mean_deals_2019['mean_sold'] == place_lowest_mean_deals_2019['mean_sold'].min()]\n",
    "place_lowest_mean_deals_2019"
   ]
  },
  {
   "cell_type": "code",
   "execution_count": 295,
   "metadata": {},
   "outputs": [
    {
     "data": {
      "text/html": [
       "<table>\n",
       "<thead>\n",
       "<tr><th>#                            </th><th>region_place  </th><th style=\"text-align: right;\">  year</th><th>home_type  </th><th style=\"text-align: right;\">  mean_sold</th><th style=\"text-align: right;\">  mean_price</th><th style=\"text-align: right;\">  mean_rank</th><th style=\"text-align: right;\">  mean_size</th><th style=\"text-align: right;\">  min_sold</th><th style=\"text-align: right;\">  min_price</th><th style=\"text-align: right;\">  max_size</th><th style=\"text-align: right;\">  popular_area</th><th style=\"text-align: right;\">  make_money</th><th style=\"text-align: right;\">  lose_money</th><th>is_popular  </th></tr>\n",
       "</thead>\n",
       "<tbody>\n",
       "<tr><td><i style='opacity: 0.6'>0</i></td><td>N0P           </td><td style=\"text-align: right;\">  2020</td><td>condo      </td><td style=\"text-align: right;\">      58000</td><td style=\"text-align: right;\">       65000</td><td style=\"text-align: right;\">          1</td><td style=\"text-align: right;\">          5</td><td style=\"text-align: right;\">     58000</td><td style=\"text-align: right;\">      65000</td><td style=\"text-align: right;\">         5</td><td style=\"text-align: right;\">             1</td><td style=\"text-align: right;\">           0</td><td style=\"text-align: right;\">           1</td><td>False       </td></tr>\n",
       "</tbody>\n",
       "</table>"
      ],
      "text/plain": [
       "  #  region_place      year  home_type      mean_sold    mean_price    mean_rank    mean_size    min_sold    min_price    max_size    popular_area    make_money    lose_money  is_popular\n",
       "  0  N0P               2020  condo              58000         65000            1            5       58000        65000           5               1             0             1  False"
      ]
     },
     "execution_count": 295,
     "metadata": {},
     "output_type": "execute_result"
    }
   ],
   "source": [
    "    # lowest mean sold place 2020\n",
    "place_lowest_mean_deals_2020 = df_res1[(df_res1['year'] == '2020')]\n",
    "place_lowest_mean_deals_2020 = place_lowest_mean_deals_2020[place_lowest_mean_deals_2020['mean_sold'] == place_lowest_mean_deals_2020['mean_sold'].min()]\n",
    "place_lowest_mean_deals_2020"
   ]
  },
  {
   "cell_type": "code",
   "execution_count": 298,
   "metadata": {},
   "outputs": [
    {
     "data": {
      "text/html": [
       "<table>\n",
       "<thead>\n",
       "<tr><th>#                            </th><th>region_place  </th><th style=\"text-align: right;\">  year</th><th>home_type  </th><th style=\"text-align: right;\">  mean_sold</th><th style=\"text-align: right;\">  mean_price</th><th style=\"text-align: right;\">  mean_rank</th><th style=\"text-align: right;\">  mean_size</th><th style=\"text-align: right;\">  min_sold</th><th style=\"text-align: right;\">  min_price</th><th style=\"text-align: right;\">  max_size</th><th style=\"text-align: right;\">  popular_area</th><th style=\"text-align: right;\">  make_money</th><th style=\"text-align: right;\">  lose_money</th><th>is_popular  </th></tr>\n",
       "</thead>\n",
       "<tbody>\n",
       "<tr><td><i style='opacity: 0.6'>0</i></td><td>M9R           </td><td style=\"text-align: right;\">  2019</td><td>condo      </td><td style=\"text-align: right;\">     267699</td><td style=\"text-align: right;\">      272955</td><td style=\"text-align: right;\">    12.4202</td><td style=\"text-align: right;\">    5.52281</td><td style=\"text-align: right;\">     85000</td><td style=\"text-align: right;\">      87500</td><td style=\"text-align: right;\">         4</td><td style=\"text-align: right;\">           340</td><td style=\"text-align: right;\">         107</td><td style=\"text-align: right;\">         233</td><td>True        </td></tr>\n",
       "</tbody>\n",
       "</table>"
      ],
      "text/plain": [
       "  #  region_place      year  home_type      mean_sold    mean_price    mean_rank    mean_size    min_sold    min_price    max_size    popular_area    make_money    lose_money  is_popular\n",
       "  0  M9R               2019  condo             267699        272955      12.4202      5.52281       85000        87500           4             340           107           233  True"
      ]
     },
     "execution_count": 298,
     "metadata": {},
     "output_type": "execute_result"
    }
   ],
   "source": [
    "    # lowest mean sold place 2019 in popular area\n",
    "pop_place_lowest_mean_deals_2019 = df_res1[(df_res1['year'] == '2019')]\n",
    "pop_place_lowest_mean_deals_2019 = pop_place_lowest_mean_deals_2019[(pop_place_lowest_mean_deals_2019['is_popular'] == True)]\n",
    "pop_place_lowest_mean_deals_2019 = pop_place_lowest_mean_deals_2019[pop_place_lowest_mean_deals_2019['mean_sold'] == pop_place_lowest_mean_deals_2019['mean_sold'].min()]\n",
    "pop_place_lowest_mean_deals_2019"
   ]
  },
  {
   "cell_type": "code",
   "execution_count": 299,
   "metadata": {},
   "outputs": [
    {
     "data": {
      "text/html": [
       "<table>\n",
       "<thead>\n",
       "<tr><th>#                            </th><th>region_place  </th><th style=\"text-align: right;\">  year</th><th>home_type  </th><th style=\"text-align: right;\">  mean_sold</th><th style=\"text-align: right;\">  mean_price</th><th style=\"text-align: right;\">  mean_rank</th><th style=\"text-align: right;\">  mean_size</th><th style=\"text-align: right;\">  min_sold</th><th style=\"text-align: right;\">  min_price</th><th style=\"text-align: right;\">  max_size</th><th style=\"text-align: right;\">  popular_area</th><th style=\"text-align: right;\">  make_money</th><th style=\"text-align: right;\">  lose_money</th><th>is_popular  </th></tr>\n",
       "</thead>\n",
       "<tbody>\n",
       "<tr><td><i style='opacity: 0.6'>0</i></td><td>M9R           </td><td style=\"text-align: right;\">  2020</td><td>condo      </td><td style=\"text-align: right;\">     175963</td><td style=\"text-align: right;\">      180820</td><td style=\"text-align: right;\">    18.3279</td><td style=\"text-align: right;\">    5.22925</td><td style=\"text-align: right;\">     43500</td><td style=\"text-align: right;\">      79000</td><td style=\"text-align: right;\">         3</td><td style=\"text-align: right;\">           257</td><td style=\"text-align: right;\">          34</td><td style=\"text-align: right;\">         223</td><td>True        </td></tr>\n",
       "</tbody>\n",
       "</table>"
      ],
      "text/plain": [
       "  #  region_place      year  home_type      mean_sold    mean_price    mean_rank    mean_size    min_sold    min_price    max_size    popular_area    make_money    lose_money  is_popular\n",
       "  0  M9R               2020  condo             175963        180820      18.3279      5.22925       43500        79000           3             257            34           223  True"
      ]
     },
     "execution_count": 299,
     "metadata": {},
     "output_type": "execute_result"
    }
   ],
   "source": [
    "    # lowest mean sold place 2020 in popular area\n",
    "pop_place_lowest_mean_deals_2020 = df_res1[(df_res1['year'] == '2020')]\n",
    "pop_place_lowest_mean_deals_2020 = pop_place_lowest_mean_deals_2020[(pop_place_lowest_mean_deals_2020['is_popular'] == True)]\n",
    "pop_place_lowest_mean_deals_2020 = pop_place_lowest_mean_deals_2020[pop_place_lowest_mean_deals_2020['mean_sold'] == pop_place_lowest_mean_deals_2020['mean_sold'].min()]\n",
    "pop_place_lowest_mean_deals_2020"
   ]
  },
  {
   "cell_type": "code",
   "execution_count": 300,
   "metadata": {},
   "outputs": [
    {
     "data": {
      "text/html": [
       "<table>\n",
       "<thead>\n",
       "<tr><th>#                            </th><th>region_place  </th><th style=\"text-align: right;\">  year</th><th>home_type  </th><th style=\"text-align: right;\">  mean_sold</th><th style=\"text-align: right;\">  mean_price</th><th style=\"text-align: right;\">  mean_rank</th><th style=\"text-align: right;\">  mean_size</th><th style=\"text-align: right;\">  min_sold</th><th style=\"text-align: right;\">  min_price</th><th style=\"text-align: right;\">  max_size</th><th style=\"text-align: right;\">  popular_area</th><th style=\"text-align: right;\">  make_money</th><th style=\"text-align: right;\">  lose_money</th><th>is_popular  </th></tr>\n",
       "</thead>\n",
       "<tbody>\n",
       "<tr><td><i style='opacity: 0.6'>0</i></td><td>C0K           </td><td style=\"text-align: right;\">  2019</td><td>house      </td><td style=\"text-align: right;\">      80000</td><td style=\"text-align: right;\">       88000</td><td style=\"text-align: right;\">        nan</td><td style=\"text-align: right;\">        nan</td><td style=\"text-align: right;\">     80000</td><td style=\"text-align: right;\">      88000</td><td style=\"text-align: right;\">       inf</td><td style=\"text-align: right;\">             1</td><td style=\"text-align: right;\">           0</td><td style=\"text-align: right;\">           1</td><td>False       </td></tr>\n",
       "</tbody>\n",
       "</table>"
      ],
      "text/plain": [
       "  #  region_place      year  home_type      mean_sold    mean_price    mean_rank    mean_size    min_sold    min_price    max_size    popular_area    make_money    lose_money  is_popular\n",
       "  0  C0K               2019  house              80000         88000          nan          nan       80000        88000         inf               1             0             1  False"
      ]
     },
     "execution_count": 300,
     "metadata": {},
     "output_type": "execute_result"
    }
   ],
   "source": [
    "    # lowest mean sold house 2019\n",
    "house_lowest_mean_deals_2019 = df_res1[(df_res1['year'] == '2019')]\n",
    "house_lowest_mean_deals_2019 = house_lowest_mean_deals_2019[(house_lowest_mean_deals_2019['home_type'] == 'house')]\n",
    "house_lowest_mean_deals_2019 = house_lowest_mean_deals_2019[house_lowest_mean_deals_2019['mean_sold'] == house_lowest_mean_deals_2019['mean_sold'].min()]\n",
    "house_lowest_mean_deals_2019"
   ]
  },
  {
   "cell_type": "code",
   "execution_count": null,
   "metadata": {},
   "outputs": [],
   "source": [
    "    # lowest mean sold house 2020\n",
    "house_lowest_mean_deals_2020 = df_res1[(df_res1['year'] == '2020')]\n",
    "house_lowest_mean_deals_2020 = house_lowest_mean_deals_2020[(house_lowest_mean_deals_2020['home_type'] == 'house')]\n",
    "house_lowest_mean_deals_2020 = house_lowest_mean_deals_2020[house_lowest_mean_deals_2020['mean_sold'] == house_lowest_mean_deals_2020['mean_sold'].min()]\n",
    "house_lowest_mean_deals_2020"
   ]
  },
  {
   "cell_type": "code",
   "execution_count": 244,
   "metadata": {},
   "outputs": [
    {
     "data": {
      "text/html": [
       "<table>\n",
       "<thead>\n",
       "<tr><th>#                            </th><th>region_place  </th><th style=\"text-align: right;\">  year</th><th>home_type  </th><th style=\"text-align: right;\">  mean_sold</th><th style=\"text-align: right;\">  mean_price</th><th style=\"text-align: right;\">  mean_rank</th><th style=\"text-align: right;\">  mean_size</th><th style=\"text-align: right;\">  min_sold</th><th style=\"text-align: right;\">  min_price</th><th style=\"text-align: right;\">  max_size</th><th style=\"text-align: right;\">  popular_area</th><th style=\"text-align: right;\">  make_money</th><th style=\"text-align: right;\">  lose_money</th></tr>\n",
       "</thead>\n",
       "<tbody>\n",
       "<tr><td><i style='opacity: 0.6'>0</i></td><td>N0P           </td><td style=\"text-align: right;\">  2020</td><td>condo      </td><td style=\"text-align: right;\">      58000</td><td style=\"text-align: right;\">       65000</td><td style=\"text-align: right;\">          1</td><td style=\"text-align: right;\">          5</td><td style=\"text-align: right;\">     58000</td><td style=\"text-align: right;\">      65000</td><td style=\"text-align: right;\">         5</td><td style=\"text-align: right;\">             1</td><td style=\"text-align: right;\">           0</td><td style=\"text-align: right;\">           1</td></tr>\n",
       "</tbody>\n",
       "</table>"
      ],
      "text/plain": [
       "  #  region_place      year  home_type      mean_sold    mean_price    mean_rank    mean_size    min_sold    min_price    max_size    popular_area    make_money    lose_money\n",
       "  0  N0P               2020  condo              58000         65000            1            5       58000        65000           5               1             0             1"
      ]
     },
     "execution_count": 244,
     "metadata": {},
     "output_type": "execute_result"
    }
   ],
   "source": [
    "    # lowest mean sold condo 2019\n",
    "condo_lowest_mean_deals_2019 = df_res1[(df_res1['year'] == '2019')]\n",
    "condo_lowest_mean_deals_2019 = condo_lowest_mean_deals_2019[(condo_lowest_mean_deals_2019['home_type'] == 'condo')]\n",
    "condo_lowest_mean_deals_2019 = condo_lowest_mean_deals_2019[condo_lowest_mean_deals_2019['mean_sold'] == condo_lowest_mean_deals_2019['mean_sold'].min()]\n",
    "condo_lowest_mean_deals_2019"
   ]
  },
  {
   "cell_type": "code",
   "execution_count": 245,
   "metadata": {},
   "outputs": [
    {
     "data": {
      "text/html": [
       "<table>\n",
       "<thead>\n",
       "<tr><th>#                            </th><th>region_place  </th><th style=\"text-align: right;\">  year</th><th>home_type  </th><th style=\"text-align: right;\">  mean_sold</th><th style=\"text-align: right;\">  mean_price</th><th style=\"text-align: right;\">  mean_rank</th><th style=\"text-align: right;\">  mean_size</th><th style=\"text-align: right;\">  min_sold</th><th style=\"text-align: right;\">  min_price</th><th style=\"text-align: right;\">  max_size</th><th style=\"text-align: right;\">  popular_area</th><th style=\"text-align: right;\">  make_money</th><th style=\"text-align: right;\">  lose_money</th></tr>\n",
       "</thead>\n",
       "<tbody>\n",
       "<tr><td><i style='opacity: 0.6'>0</i></td><td>V0N           </td><td style=\"text-align: right;\">  2019</td><td>condo      </td><td style=\"text-align: right;\">      57000</td><td style=\"text-align: right;\">       60000</td><td style=\"text-align: right;\">         14</td><td style=\"text-align: right;\">        nan</td><td style=\"text-align: right;\">     57000</td><td style=\"text-align: right;\">      60000</td><td style=\"text-align: right;\">       inf</td><td style=\"text-align: right;\">             1</td><td style=\"text-align: right;\">           0</td><td style=\"text-align: right;\">           1</td></tr>\n",
       "</tbody>\n",
       "</table>"
      ],
      "text/plain": [
       "  #  region_place      year  home_type      mean_sold    mean_price    mean_rank    mean_size    min_sold    min_price    max_size    popular_area    make_money    lose_money\n",
       "  0  V0N               2019  condo              57000         60000           14          nan       57000        60000         inf               1             0             1"
      ]
     },
     "execution_count": 245,
     "metadata": {},
     "output_type": "execute_result"
    }
   ],
   "source": [
    "    # lowest mean sold condo 2020\n",
    "condo_lowest_mean_deals_2020 = df_res1[(df_res1['year'] == '2020')]\n",
    "condo_lowest_mean_deals_2020 = condo_lowest_mean_deals_2020[(condo_lowest_mean_deals_2020['home_type'] == 'condo')]\n",
    "condo_lowest_mean_deals_2020 = condo_lowest_mean_deals_2020[condo_lowest_mean_deals_2020['mean_sold'] == condo_lowest_mean_deals_2020['mean_sold'].min()]\n",
    "condo_lowest_mean_deals_2020"
   ]
  },
  {
   "cell_type": "code",
   "execution_count": 246,
   "metadata": {},
   "outputs": [
    {
     "data": {
      "text/html": [
       "<table>\n",
       "<thead>\n",
       "<tr><th>#                            </th><th>region_place  </th><th style=\"text-align: right;\">  year</th><th>home_type  </th><th style=\"text-align: right;\">  mean_sold</th><th style=\"text-align: right;\">  mean_price</th><th style=\"text-align: right;\">  make_money</th><th style=\"text-align: right;\">  lose_money</th></tr>\n",
       "</thead>\n",
       "<tbody>\n",
       "<tr><td><i style='opacity: 0.6'>0</i></td><td>M4W           </td><td style=\"text-align: right;\">  2019</td><td>house      </td><td style=\"text-align: right;\"> 3.4539e+06</td><td style=\"text-align: right;\">  3.4769e+06</td><td style=\"text-align: right;\">         106</td><td style=\"text-align: right;\">         131</td></tr>\n",
       "</tbody>\n",
       "</table>"
      ],
      "text/plain": [
       "  #  region_place      year  home_type      mean_sold    mean_price    make_money    lose_money\n",
       "  0  M4W               2019  house         3.4539e+06    3.4769e+06           106           131"
      ]
     },
     "execution_count": 246,
     "metadata": {},
     "output_type": "execute_result"
    }
   ],
   "source": [
    "place_best_mean_deals_2019 = df_res1[(df_res1['year'] == '2019')]\n",
    "place_best_mean_deals_2019 = place_best_deals_2019[place_best_deals_2019['mean_sold'] == place_best_deals_2019['mean_sold'].max()]\n",
    "place_best_mean_deals_2019"
   ]
  },
  {
   "cell_type": "code",
   "execution_count": 247,
   "metadata": {},
   "outputs": [
    {
     "data": {
      "text/html": [
       "<table>\n",
       "<thead>\n",
       "<tr><th>#                            </th><th>region_place  </th><th style=\"text-align: right;\">  year</th><th>home_type  </th><th style=\"text-align: right;\">  mean_sold</th><th style=\"text-align: right;\">  mean_price</th><th style=\"text-align: right;\">  make_money</th><th style=\"text-align: right;\">  lose_money</th></tr>\n",
       "</thead>\n",
       "<tbody>\n",
       "<tr><td><i style='opacity: 0.6'>0</i></td><td>M5P           </td><td style=\"text-align: right;\">  2020</td><td>house      </td><td style=\"text-align: right;\">3.62651e+06</td><td style=\"text-align: right;\"> 3.73924e+06</td><td style=\"text-align: right;\">          20</td><td style=\"text-align: right;\">          40</td></tr>\n",
       "</tbody>\n",
       "</table>"
      ],
      "text/plain": [
       "  #  region_place      year  home_type      mean_sold    mean_price    make_money    lose_money\n",
       "  0  M5P               2020  house        3.62651e+06   3.73924e+06            20            40"
      ]
     },
     "execution_count": 247,
     "metadata": {},
     "output_type": "execute_result"
    }
   ],
   "source": [
    "place_best_mean_deals_2020 = df_res1[(df_res1['year'] == '2020')]\n",
    "place_best_mean_deals_2020 = place_best_deals_2020[place_best_deals_2020['mean_sold'] == place_best_deals_2020['mean_sold'].max()]\n",
    "place_best_mean_deals_2020"
   ]
  },
  {
   "cell_type": "code",
   "execution_count": 248,
   "metadata": {},
   "outputs": [
    {
     "data": {
      "text/plain": [
       "['M2M',\n",
       " '2019',\n",
       " 'house',\n",
       " 1658787.7982608695,\n",
       " 1675520.9008695653,\n",
       " 14.23076923076923,\n",
       " 12.415458937198068,\n",
       " 53000.0,\n",
       " 65000.0,\n",
       " 4.0,\n",
       " 575,\n",
       " 163,\n",
       " 412]"
      ]
     },
     "execution_count": 248,
     "metadata": {},
     "output_type": "execute_result"
    }
   ],
   "source": [
    "condo_best_deals_2019 = df_res1[(df_res1['year'] == '2019') and (df_res1['mean_sold'].max == True) and  (df_res1['home_type'] == 'condo')]\n",
    "condo_best_deals_2019"
   ]
  },
  {
   "cell_type": "code",
   "execution_count": 1011,
   "metadata": {},
   "outputs": [],
   "source": [
    "df_sell_20 = df_sell[df_sell['year'] == '2020']\n",
    "df_sell_19 = df_sell[df_sell['year'] == '2019']\n",
    "\n",
    "\n",
    "df_sell_20_sep = df_sell[(df_sell['year'] == '2020') & (df_sell['month'] == '09')]\n",
    "df_sell_19_sep = df_sell[(df_sell['year'] == '2019') & (df_sell['month'] == '09')]\n",
    "#df_sell_20 = df_sell[df_sell['updated_on'].str.contains('2020-')]\n",
    "#df_sell_19 = df_sell[df_sell['updated_on'].str.contains('2019-')]\n",
    "\n",
    "#df_sell_sep_19 = df_sell[df_sell['year'] == '2019' and df_sell['month'] == '09']\n",
    "#df_sell_sep_20 = df_sell[df_sell['year'] == '2020' and df_sell['month'] == '09']\n",
    "\n",
    "#df_testres = df_sell[df_sell['year'].str.len()<4]"
   ]
  },
  {
   "cell_type": "code",
   "execution_count": 966,
   "metadata": {
    "scrolled": true
   },
   "outputs": [
    {
     "data": {
      "text/html": [
       "<table>\n",
       "<thead>\n",
       "<tr><th>#                                 </th><th>address                                            </th><th>municipality          </th><th>province  </th><th>postal_code  </th><th>price    </th><th>description                                        </th><th>bedrooms  </th><th>bathrooms  </th><th>status_id  </th><th>style_id  </th><th>created_at                   </th><th>updated_on                </th><th>extras                                             </th><th>address_components                                 </th><th>parking_spaces  </th><th>has_garage  </th><th>has_locker  </th><th>url_slug                                   </th><th>square_footage  </th><th>kitchen_count  </th><th>is_rental  </th><th>expired_at            </th><th>sold_price  </th><th>sold_at  </th><th>thumbnails_count  </th><th>address_id  </th><th>address_ids          </th><th>time   </th><th>year  </th><th>month  </th><th>municipality_same     </th><th>province_same  </th><th>region_territory  </th><th>region_place  </th><th>condo  </th><th>house  </th><th>earn     </th><th>earn_passive  </th><th>earn_negative  </th></tr>\n",
       "</thead>\n",
       "<tbody>\n",
       "<tr><td><i style='opacity: 0.6'>0</i>     </td><td>113 Meadowview Blvd, Clarington, ON, L1C4X4        </td><td>Clarington            </td><td>ON        </td><td>L1C4X4       </td><td>660000.0 </td><td>&#x27;Truly One Of A Kind! This Charming 4 + 1 Bedroo...</td><td>4.0       </td><td>4.0        </td><td>3          </td><td>101       </td><td>2019-07-25 11:54:25.195565-04</td><td>2019-09-15 17:49:21.662694</td><td>&#x27;{&quot;lot&quot;: {&quot;unit&quot;: &quot;feet&quot;, &quot;depth&quot;: 114.96, &quot;fron...</td><td>&#x27;{&quot;postal&quot;:&quot;L1C4X4&quot;,&quot;street&quot;:&quot;113 Meadowview Blv...</td><td>4.0             </td><td>t           </td><td>f           </td><td>113-meadowview-blvd-clarington-on          </td><td>[2000,2501)     </td><td>1.0            </td><td>f          </td><td>2019-09-12 00:00:00-04</td><td>640000.0    </td><td>None     </td><td>20.0              </td><td>371913.0    </td><td>{2794,1,2,7218}      </td><td>2019-09</td><td>2019  </td><td>09     </td><td>clarington            </td><td>on             </td><td>L                 </td><td>L1C           </td><td>False  </td><td>True   </td><td>-20000.0 </td><td>False         </td><td>True           </td></tr>\n",
       "<tr><td><i style='opacity: 0.6'>1</i>     </td><td>&#x27;15 Pine Vista Ave, Whitchurch-Stouffville, ON, ...</td><td>Whitchurch-Stouffville</td><td>ON        </td><td>L4A1R9       </td><td>1780000.0</td><td>&#x27;4,100 Sf Custom-Built Bungalow Loft On A 1-Acre...</td><td>3.0       </td><td>4.0        </td><td>3          </td><td>101       </td><td>2019-05-17 19:32:43.630743-04</td><td>2019-09-15 17:49:27.567509</td><td>&#x27;{&quot;lot&quot;: {&quot;unit&quot;: &quot;feet&quot;, &quot;depth&quot;: 268.92, &quot;fron...</td><td>&#x27;{&quot;postal&quot;:&quot;L4A1R9&quot;,&quot;street&quot;:&quot;15 Pine Vista Ave&quot;...</td><td>15.0            </td><td>t           </td><td>f           </td><td>15-pine-vista-ave-whitchurch-stouffville-on</td><td>[3500,5001)     </td><td>1.0            </td><td>f          </td><td>2019-09-13 00:00:00-04</td><td>1675000.0   </td><td>None     </td><td>19.0              </td><td>865368.0    </td><td>{1,2,2867}           </td><td>2019-09</td><td>2019  </td><td>09     </td><td>whitchurch-stouffville</td><td>on             </td><td>L                 </td><td>L4A           </td><td>False  </td><td>True   </td><td>-105000.0</td><td>False         </td><td>True           </td></tr>\n",
       "<tr><td><i style='opacity: 0.6'>2</i>     </td><td>1708-231 Fort York Blvd, Toronto, ON, M5V1B2       </td><td>Toronto               </td><td>ON        </td><td>M5V1B2       </td><td>499900.0 </td><td>&#x27;Spectacular View From This 17th Floor Suite. Th...</td><td>1.0       </td><td>1.0        </td><td>3          </td><td>105       </td><td>2019-07-10 14:50:05.123662-04</td><td>2019-09-07 02:43:32.57975 </td><td>&#x27;{&quot;tax&quot;: {&quot;year&quot;: 2019, &quot;amount&quot;: 1547.68}, &quot;pet...</td><td>&#x27;{&quot;unit&quot;:&quot;1708&quot;,&quot;postal&quot;:&quot;M5V1B2&quot;,&quot;street&quot;:&quot;231 ...</td><td>nan             </td><td>f           </td><td>f           </td><td>1708-231-fort-york-blvd-toronto-on         </td><td>[500,600)       </td><td>1.0            </td><td>f          </td><td>2019-08-13 00:00:00-04</td><td>470000.0    </td><td>None     </td><td>6.0               </td><td>1356199.0   </td><td>{1,2,2875,8181,12826}</td><td>2019-09</td><td>2019  </td><td>09     </td><td>toronto               </td><td>on             </td><td>M                 </td><td>M5V           </td><td>True   </td><td>False  </td><td>-29900.0 </td><td>False         </td><td>True           </td></tr>\n",
       "<tr><td><i style='opacity: 0.6'>3</i>     </td><td>317 Whitby Shores Green Way, Whitby, ON, L1N9N6    </td><td>Whitby                </td><td>ON        </td><td>L1N9N6       </td><td>1175000.0</td><td>&#x27;An Opportunity To Own This Gorgeous Home In The...</td><td>4.0       </td><td>3.0        </td><td>3          </td><td>101       </td><td>2019-07-24 17:47:07.610775-04</td><td>2019-09-07 05:32:56.120124</td><td>&#x27;{&quot;lot&quot;: {&quot;unit&quot;: &quot;feet&quot;, &quot;depth&quot;: 111.55, &quot;fron...</td><td>&#x27;{&quot;postal&quot;:&quot;L1N9N6&quot;,&quot;street&quot;:&quot;317 Whitby Shores ...</td><td>4.0             </td><td>t           </td><td>f           </td><td>317-whitby-shores-green-way-whitby-on      </td><td>                </td><td>1.0            </td><td>f          </td><td>2019-08-12 00:00:00-04</td><td>1143000.0   </td><td>None     </td><td>20.0              </td><td>1281640.0   </td><td>{2676,1,2,9339}      </td><td>2019-09</td><td>2019  </td><td>09     </td><td>whitby                </td><td>on             </td><td>L                 </td><td>L1N           </td><td>False  </td><td>True   </td><td>-32000.0 </td><td>False         </td><td>True           </td></tr>\n",
       "<tr><td><i style='opacity: 0.6'>4</i>     </td><td>617-5 Rosehill Ave, Toronto, ON, M4T3A6            </td><td>Toronto               </td><td>ON        </td><td>M4T3A6       </td><td>599300.0 </td><td>&#x27;Astonishing Two Bedroom, Two Full Bathroom In T...</td><td>2.0       </td><td>2.0        </td><td>3          </td><td>105       </td><td>2019-07-11 20:39:30.627672-04</td><td>2019-09-07 16:01:17.946827</td><td>&#x27;{&quot;tax&quot;: {&quot;year&quot;: 2019, &quot;amount&quot;: 2586.64}, &quot;pet...</td><td>&#x27;{&quot;unit&quot;:&quot;617&quot;,&quot;postal&quot;:&quot;M4T3A6&quot;,&quot;street&quot;:&quot;5 Ros...</td><td>1.0             </td><td>t           </td><td>t           </td><td>617-5-rosehill-ave-toronto-on              </td><td>None            </td><td>1.0            </td><td>f          </td><td>2019-07-17 00:00:00-04</td><td>787000.0    </td><td>None     </td><td>20.0              </td><td>1312570.0   </td><td>{1,2,2875,8199,39747}</td><td>2019-09</td><td>2019  </td><td>09     </td><td>toronto               </td><td>on             </td><td>M                 </td><td>M4T           </td><td>True   </td><td>False  </td><td>187700.0 </td><td>True          </td><td>False          </td></tr>\n",
       "<tr><td>...                               </td><td>...                                                </td><td>...                   </td><td>...       </td><td>...          </td><td>...      </td><td>...                                                </td><td>...       </td><td>...        </td><td>...        </td><td>...       </td><td>...                          </td><td>...                       </td><td>...                                                </td><td>...                                                </td><td>...             </td><td>...         </td><td>...         </td><td>...                                        </td><td>...             </td><td>...            </td><td>...        </td><td>...                   </td><td>...         </td><td>...      </td><td>...               </td><td>...         </td><td>...                  </td><td>...    </td><td>...   </td><td>...    </td><td>...                   </td><td>...            </td><td>...               </td><td>...           </td><td>...    </td><td>...    </td><td>...      </td><td>...           </td><td>...            </td></tr>\n",
       "<tr><td><i style='opacity: 0.6'>20,556</i></td><td>86 Evershot Cres, Markham, ON, L6E0L7              </td><td>Markham               </td><td>ON        </td><td>L6E0L7       </td><td>839900.0 </td><td>&#x27;Detached Home In High Demand Wismer Community*F...</td><td>3.0       </td><td>4.0        </td><td>3          </td><td>101       </td><td>2019-06-17 11:45:10.684779-04</td><td>2019-09-05 23:27:00.265532</td><td>&#x27;{&quot;lot&quot;: {&quot;unit&quot;: &quot;feet&quot;, &quot;depth&quot;: 98.43, &quot;front...</td><td>&#x27;{&quot;postal&quot;:&quot;L6E0L7&quot;,&quot;street&quot;:&quot;86 Evershot Cres&quot;,...</td><td>3.0             </td><td>t           </td><td>f           </td><td>86-evershot-cres-markham-on                </td><td>                </td><td>1.0            </td><td>f          </td><td>2019-07-11 00:00:00-04</td><td>829900.0    </td><td>None     </td><td>1.0               </td><td>163819.0    </td><td>{2865,1,2,7558}      </td><td>2019-09</td><td>2019  </td><td>09     </td><td>markham               </td><td>on             </td><td>L                 </td><td>L6E           </td><td>False  </td><td>True   </td><td>-10000.0 </td><td>False         </td><td>True           </td></tr>\n",
       "<tr><td><i style='opacity: 0.6'>20,557</i></td><td>17 Munch Pl, Milton, ON, L9T8K6                    </td><td>Milton                </td><td>ON        </td><td>L9T8K6       </td><td>689900.0 </td><td>&#x27;Spectacular Sought After Area &amp; &quot;Iris&quot; Model Ta...</td><td>3.0       </td><td>3.0        </td><td>3          </td><td>102       </td><td>2019-06-22 15:39:16.908921-04</td><td>2019-09-05 14:59:18.144603</td><td>&#x27;{&quot;lot&quot;: {&quot;unit&quot;: &quot;feet&quot;, &quot;depth&quot;: 105, &quot;front&quot;:...</td><td>&#x27;{&quot;postal&quot;:&quot;L9T8K6&quot;,&quot;street&quot;:&quot;17 Munch Pl&quot;,&quot;stre...</td><td>3.0             </td><td>t           </td><td>f           </td><td>17-munch-pl-milton-on                      </td><td>None            </td><td>1.0            </td><td>f          </td><td>2019-06-29 00:00:00-04</td><td>682000.0    </td><td>None     </td><td>20.0              </td><td>1235409.0   </td><td>{356,1,2,7592}       </td><td>2019-09</td><td>2019  </td><td>09     </td><td>milton                </td><td>on             </td><td>L                 </td><td>L9T           </td><td>False  </td><td>True   </td><td>-7900.0  </td><td>False         </td><td>True           </td></tr>\n",
       "<tr><td><i style='opacity: 0.6'>20,558</i></td><td>69 Patrick Dr, Whitby, ON, L1R2L3                  </td><td>Whitby                </td><td>ON        </td><td>L1R2L3       </td><td>899900.0 </td><td>&quot;*Must See Home In One Of Whitby&#x27;s Finest Sought...</td><td>4.0       </td><td>4.0        </td><td>3          </td><td>101       </td><td>2019-06-04 08:44:55.178532-04</td><td>2019-09-05 14:59:27.494089</td><td>&#x27;{&quot;lot&quot;: {&quot;unit&quot;: &quot;feet&quot;, &quot;depth&quot;: 127.19, &quot;fron...</td><td>&#x27;{&quot;postal&quot;:&quot;L1R2L3&quot;,&quot;street&quot;:&quot;69 Patrick Dr&quot;,&quot;st...</td><td>4.0             </td><td>t           </td><td>f           </td><td>69-patrick-dr-whitby-on                    </td><td>None            </td><td>1.0            </td><td>f          </td><td>2019-06-12 00:00:00-04</td><td>918000.0    </td><td>None     </td><td>1.0               </td><td>1236825.0   </td><td>{2676,1,2,9341}      </td><td>2019-09</td><td>2019  </td><td>09     </td><td>whitby                </td><td>on             </td><td>L                 </td><td>L1R           </td><td>False  </td><td>True   </td><td>18100.0  </td><td>True          </td><td>False          </td></tr>\n",
       "<tr><td><i style='opacity: 0.6'>20,559</i></td><td>6841 Shelter Bay Rd, Mississauga, ON, L5N1T8       </td><td>Mississauga           </td><td>ON        </td><td>L5N1T8       </td><td>849000.0 </td><td>&#x27;Spacious 4Br &amp; 3Wr Detached Home In The Meadowv...</td><td>4.0       </td><td>3.0        </td><td>3          </td><td>101       </td><td>2019-07-23 13:46:59.435145-04</td><td>2019-09-07 13:04:34.588434</td><td>&#x27;{&quot;lot&quot;: {&quot;unit&quot;: &quot;feet&quot;, &quot;depth&quot;: 120, &quot;front&quot;:...</td><td>&#x27;{&quot;postal&quot;:&quot;L5N1T8&quot;,&quot;street&quot;:&quot;6841 Shelter Bay R...</td><td>5.0             </td><td>t           </td><td>f           </td><td>6841-shelter-bay-rd-mississauga-on         </td><td>                </td><td>1.0            </td><td>f          </td><td>2019-08-27 00:00:00-04</td><td>830000.0    </td><td>None     </td><td>20.0              </td><td>1237254.0   </td><td>{2876,1,2,7635}      </td><td>2019-09</td><td>2019  </td><td>09     </td><td>mississauga           </td><td>on             </td><td>L                 </td><td>L5N           </td><td>False  </td><td>True   </td><td>-19000.0 </td><td>False         </td><td>True           </td></tr>\n",
       "<tr><td><i style='opacity: 0.6'>20,560</i></td><td>47 Sunnyside St, Dysart et al, ON, K0M1S0          </td><td>Dysart et al          </td><td>ON        </td><td>K0M1S0       </td><td>339000.0 </td><td>&#x27;Private Property Close To Downtown Haliburton, ...</td><td>3.0       </td><td>2.0        </td><td>3          </td><td>101       </td><td>2019-07-04 12:21:40.477525-04</td><td>2019-09-07 13:04:34.952512</td><td>&#x27;{&quot;lot&quot;: {&quot;unit&quot;: &quot;feet&quot;, &quot;depth&quot;: 170, &quot;front&quot;:...</td><td>&#x27;{&quot;postal&quot;:&quot;K0M1S0&quot;,&quot;street&quot;:&quot;47 Sunnyside St&quot;,&quot;...</td><td>3.0             </td><td>f           </td><td>f           </td><td>47-sunnyside-st-dysart-et-al-on            </td><td>None            </td><td>1.0            </td><td>f          </td><td>2019-08-12 00:00:00-04</td><td>330000.0    </td><td>None     </td><td>17.0              </td><td>819098.0    </td><td>{1,2,3107}           </td><td>2019-09</td><td>2019  </td><td>09     </td><td>dysart et al          </td><td>on             </td><td>K                 </td><td>K0M           </td><td>False  </td><td>True   </td><td>-9000.0  </td><td>False         </td><td>True           </td></tr>\n",
       "</tbody>\n",
       "</table>"
      ],
      "text/plain": [
       "#       address                                              municipality            province    postal_code    price      description                                          bedrooms    bathrooms    status_id    style_id    created_at                     updated_on                  extras                                               address_components                                   parking_spaces    has_garage    has_locker    url_slug                                     square_footage    kitchen_count    is_rental    expired_at              sold_price    sold_at    thumbnails_count    address_id    address_ids            time     year    month    municipality_same       province_same    region_territory    region_place    condo    house    earn       earn_passive    earn_negative\n",
       "0       113 Meadowview Blvd, Clarington, ON, L1C4X4          Clarington              ON          L1C4X4         660000.0   'Truly One Of A Kind! This Charming 4 + 1 Bedroo...  4.0         4.0          3            101         2019-07-25 11:54:25.195565-04  2019-09-15 17:49:21.662694  '{\"lot\": {\"unit\": \"feet\", \"depth\": 114.96, \"fron...  '{\"postal\":\"L1C4X4\",\"street\":\"113 Meadowview Blv...  4.0               t             f             113-meadowview-blvd-clarington-on            [2000,2501)       1.0              f            2019-09-12 00:00:00-04  640000.0      None       20.0                371913.0      {2794,1,2,7218}        2019-09  2019    09       clarington              on               L                   L1C             False    True     -20000.0   False           True\n",
       "1       '15 Pine Vista Ave, Whitchurch-Stouffville, ON, ...  Whitchurch-Stouffville  ON          L4A1R9         1780000.0  '4,100 Sf Custom-Built Bungalow Loft On A 1-Acre...  3.0         4.0          3            101         2019-05-17 19:32:43.630743-04  2019-09-15 17:49:27.567509  '{\"lot\": {\"unit\": \"feet\", \"depth\": 268.92, \"fron...  '{\"postal\":\"L4A1R9\",\"street\":\"15 Pine Vista Ave\"...  15.0              t             f             15-pine-vista-ave-whitchurch-stouffville-on  [3500,5001)       1.0              f            2019-09-13 00:00:00-04  1675000.0     None       19.0                865368.0      {1,2,2867}             2019-09  2019    09       whitchurch-stouffville  on               L                   L4A             False    True     -105000.0  False           True\n",
       "2       1708-231 Fort York Blvd, Toronto, ON, M5V1B2         Toronto                 ON          M5V1B2         499900.0   'Spectacular View From This 17th Floor Suite. Th...  1.0         1.0          3            105         2019-07-10 14:50:05.123662-04  2019-09-07 02:43:32.57975   '{\"tax\": {\"year\": 2019, \"amount\": 1547.68}, \"pet...  '{\"unit\":\"1708\",\"postal\":\"M5V1B2\",\"street\":\"231 ...  nan               f             f             1708-231-fort-york-blvd-toronto-on           [500,600)         1.0              f            2019-08-13 00:00:00-04  470000.0      None       6.0                 1356199.0     {1,2,2875,8181,12826}  2019-09  2019    09       toronto                 on               M                   M5V             True     False    -29900.0   False           True\n",
       "3       317 Whitby Shores Green Way, Whitby, ON, L1N9N6      Whitby                  ON          L1N9N6         1175000.0  'An Opportunity To Own This Gorgeous Home In The...  4.0         3.0          3            101         2019-07-24 17:47:07.610775-04  2019-09-07 05:32:56.120124  '{\"lot\": {\"unit\": \"feet\", \"depth\": 111.55, \"fron...  '{\"postal\":\"L1N9N6\",\"street\":\"317 Whitby Shores ...  4.0               t             f             317-whitby-shores-green-way-whitby-on                          1.0              f            2019-08-12 00:00:00-04  1143000.0     None       20.0                1281640.0     {2676,1,2,9339}        2019-09  2019    09       whitby                  on               L                   L1N             False    True     -32000.0   False           True\n",
       "4       617-5 Rosehill Ave, Toronto, ON, M4T3A6              Toronto                 ON          M4T3A6         599300.0   'Astonishing Two Bedroom, Two Full Bathroom In T...  2.0         2.0          3            105         2019-07-11 20:39:30.627672-04  2019-09-07 16:01:17.946827  '{\"tax\": {\"year\": 2019, \"amount\": 2586.64}, \"pet...  '{\"unit\":\"617\",\"postal\":\"M4T3A6\",\"street\":\"5 Ros...  1.0               t             t             617-5-rosehill-ave-toronto-on                None              1.0              f            2019-07-17 00:00:00-04  787000.0      None       20.0                1312570.0     {1,2,2875,8199,39747}  2019-09  2019    09       toronto                 on               M                   M4T             True     False    187700.0   True            False\n",
       "...     ...                                                  ...                     ...         ...            ...        ...                                                  ...         ...          ...          ...         ...                            ...                         ...                                                  ...                                                  ...               ...           ...           ...                                          ...               ...              ...          ...                     ...           ...        ...                 ...           ...                    ...      ...     ...      ...                     ...              ...                 ...             ...      ...      ...        ...             ...\n",
       "20,556  86 Evershot Cres, Markham, ON, L6E0L7                Markham                 ON          L6E0L7         839900.0   'Detached Home In High Demand Wismer Community*F...  3.0         4.0          3            101         2019-06-17 11:45:10.684779-04  2019-09-05 23:27:00.265532  '{\"lot\": {\"unit\": \"feet\", \"depth\": 98.43, \"front...  '{\"postal\":\"L6E0L7\",\"street\":\"86 Evershot Cres\",...  3.0               t             f             86-evershot-cres-markham-on                                    1.0              f            2019-07-11 00:00:00-04  829900.0      None       1.0                 163819.0      {2865,1,2,7558}        2019-09  2019    09       markham                 on               L                   L6E             False    True     -10000.0   False           True\n",
       "20,557  17 Munch Pl, Milton, ON, L9T8K6                      Milton                  ON          L9T8K6         689900.0   'Spectacular Sought After Area & \"Iris\" Model Ta...  3.0         3.0          3            102         2019-06-22 15:39:16.908921-04  2019-09-05 14:59:18.144603  '{\"lot\": {\"unit\": \"feet\", \"depth\": 105, \"front\":...  '{\"postal\":\"L9T8K6\",\"street\":\"17 Munch Pl\",\"stre...  3.0               t             f             17-munch-pl-milton-on                        None              1.0              f            2019-06-29 00:00:00-04  682000.0      None       20.0                1235409.0     {356,1,2,7592}         2019-09  2019    09       milton                  on               L                   L9T             False    True     -7900.0    False           True\n",
       "20,558  69 Patrick Dr, Whitby, ON, L1R2L3                    Whitby                  ON          L1R2L3         899900.0   \"*Must See Home In One Of Whitby's Finest Sought...  4.0         4.0          3            101         2019-06-04 08:44:55.178532-04  2019-09-05 14:59:27.494089  '{\"lot\": {\"unit\": \"feet\", \"depth\": 127.19, \"fron...  '{\"postal\":\"L1R2L3\",\"street\":\"69 Patrick Dr\",\"st...  4.0               t             f             69-patrick-dr-whitby-on                      None              1.0              f            2019-06-12 00:00:00-04  918000.0      None       1.0                 1236825.0     {2676,1,2,9341}        2019-09  2019    09       whitby                  on               L                   L1R             False    True     18100.0    True            False\n",
       "20,559  6841 Shelter Bay Rd, Mississauga, ON, L5N1T8         Mississauga             ON          L5N1T8         849000.0   'Spacious 4Br & 3Wr Detached Home In The Meadowv...  4.0         3.0          3            101         2019-07-23 13:46:59.435145-04  2019-09-07 13:04:34.588434  '{\"lot\": {\"unit\": \"feet\", \"depth\": 120, \"front\":...  '{\"postal\":\"L5N1T8\",\"street\":\"6841 Shelter Bay R...  5.0               t             f             6841-shelter-bay-rd-mississauga-on                             1.0              f            2019-08-27 00:00:00-04  830000.0      None       20.0                1237254.0     {2876,1,2,7635}        2019-09  2019    09       mississauga             on               L                   L5N             False    True     -19000.0   False           True\n",
       "20,560  47 Sunnyside St, Dysart et al, ON, K0M1S0            Dysart et al            ON          K0M1S0         339000.0   'Private Property Close To Downtown Haliburton, ...  3.0         2.0          3            101         2019-07-04 12:21:40.477525-04  2019-09-07 13:04:34.952512  '{\"lot\": {\"unit\": \"feet\", \"depth\": 170, \"front\":...  '{\"postal\":\"K0M1S0\",\"street\":\"47 Sunnyside St\",\"...  3.0               f             f             47-sunnyside-st-dysart-et-al-on              None              1.0              f            2019-08-12 00:00:00-04  330000.0      None       17.0                819098.0      {1,2,3107}             2019-09  2019    09       dysart et al            on               K                   K0M             False    True     -9000.0    False           True"
      ]
     },
     "execution_count": 966,
     "metadata": {},
     "output_type": "execute_result"
    }
   ],
   "source": [
    "df_sell_19_sep"
   ]
  },
  {
   "cell_type": "code",
   "execution_count": 140,
   "metadata": {},
   "outputs": [],
   "source": []
  },
  {
   "cell_type": "code",
   "execution_count": null,
   "metadata": {},
   "outputs": [],
   "source": []
  }
 ],
 "metadata": {
  "kernelspec": {
   "display_name": "Python 3",
   "language": "python",
   "name": "python3"
  },
  "language_info": {
   "codemirror_mode": {
    "name": "ipython",
    "version": 3
   },
   "file_extension": ".py",
   "mimetype": "text/x-python",
   "name": "python",
   "nbconvert_exporter": "python",
   "pygments_lexer": "ipython3",
   "version": "3.8.3"
  }
 },
 "nbformat": 4,
 "nbformat_minor": 4
}
