{
 "cells": [
  {
   "cell_type": "code",
   "execution_count": 336,
   "metadata": {},
   "outputs": [],
   "source": [
    "    # import the libraies that will be using\n",
    "import numpy as np\n",
    "import pandas as pd\n",
    "import vaex \n",
    "import glob\n",
    "\n",
    "# about how to use vaex and run this jupyter note book\n",
    "# please install vaex with Anaconda or with regular python intall\n",
    "# in Anaconda cmd: conda install -c conda-forge vaex\n",
    "# in regular cmd(python installed): pip install vaex"
   ]
  },
  {
   "cell_type": "code",
   "execution_count": 337,
   "metadata": {},
   "outputs": [],
   "source": [
    "# open the hdf5 file with vaex, todealing with the large dataset, should convert the csv to hdf5\n",
    "# caution with Windows operating system, python 3.8 with Windows may cause bugs when dealing with vaex\n",
    "\n",
    "# After debugging the data, sold_at seems have some relation to expired_at. I don't know why sold_at can't filter out None, it will show error.\n",
    "# Also, every time I try to catch specific information in the sold_at, such as find which row contains 2019 or 2020, it still shows a lot of None on sold_at column.\n",
    "# It should output rows that is with stings contains 2019 or 2020 in sold_at but not with None, it seems sold_at column do have some problems.\n",
    "# I do find when I search sold_at with contains 2019 or 2020, the date such as expired_at, created_at, or updated_on do have some relation to it, even sold_at still shows None.\n",
    "\n",
    "    # road the hdf5 file\n",
    "df = vaex.open('listings_hdf5.hdf5')\n",
    "\n",
    "# to convert csv to hdf5 is to type in cmd with : vaex convert file gaia-dr1.fits gaia-dr1.hdf5\n",
    "\n"
   ]
  },
  {
   "cell_type": "code",
   "execution_count": 338,
   "metadata": {},
   "outputs": [
    {
     "data": {
      "text/html": [
       "<table>\n",
       "<thead>\n",
       "<tr><th>#                            </th><th>address                                        </th><th>municipality  </th><th>province  </th><th>postal_code  </th><th style=\"text-align: right;\">  geocoding_type_id</th><th style=\"text-align: right;\">         id</th><th style=\"text-align: right;\">    mls</th><th style=\"text-align: right;\">  price</th><th>description                                        </th><th style=\"text-align: right;\">  bedrooms</th><th style=\"text-align: right;\">  bathrooms</th><th style=\"text-align: right;\">  url</th><th>search  </th><th style=\"text-align: right;\">  broker_id</th><th style=\"text-align: right;\">  status_id</th><th style=\"text-align: right;\">  style_id</th><th>created_at                   </th><th>updated_on                </th><th>the_geom                                          </th><th style=\"text-align: right;\">  provider_id</th><th>virtual_tour_url  </th><th style=\"text-align: right;\">  web_bug_url</th><th style=\"text-align: right;\">             quad_tree</th><th>title  </th><th style=\"text-align: right;\">  real_estate_board_id</th><th style=\"text-align: right;\">  bedrooms_partial</th><th style=\"text-align: right;\">  bathrooms_partial</th><th style=\"text-align: right;\">  source_id</th><th style=\"text-align: right;\">  email</th><th>extras                                             </th><th>address_components                                 </th><th style=\"text-align: right;\">  listing_images_count</th><th style=\"text-align: right;\">  parking_spaces</th><th>has_garage  </th><th>has_locker  </th><th>url_slug                             </th><th>square_footage  </th><th style=\"text-align: right;\">  kitchen_count</th><th>is_rental  </th><th>expired_at                </th><th style=\"text-align: right;\">  sold_price</th><th>sold_at  </th><th style=\"text-align: right;\">  thumbnails_count</th><th style=\"text-align: right;\">  address_id</th><th>address_ids    </th></tr>\n",
       "</thead>\n",
       "<tbody>\n",
       "<tr><td><i style='opacity: 0.6'>0</i></td><td>9099 RIVERSIDE E Unit 704W, WINDSOR, ON, N8S4R1</td><td>WINDSOR       </td><td>ON        </td><td>N8S4R1       </td><td style=\"text-align: right;\">                 24</td><td style=\"text-align: right;\">3.73021e+06</td><td style=\"text-align: right;\">1600414</td><td style=\"text-align: right;\"> 129900</td><td>&#x27;WESTCHESTER AT THE LAKE 7TH FLOOR CONDO WITH 2 ...</td><td style=\"text-align: right;\">         1</td><td style=\"text-align: right;\">          1</td><td style=\"text-align: right;\">  nan</td><td>None    </td><td style=\"text-align: right;\">     144194</td><td style=\"text-align: right;\">          2</td><td style=\"text-align: right;\">       106</td><td>2016-01-19 11:21:23.955684-05</td><td>2019-03-30 01:49:12.653968</td><td>0101000020E61000001B05D20FB4BB54C06E241AEE6D2B4540</td><td style=\"text-align: right;\">        30002</td><td>None              </td><td style=\"text-align: right;\">          nan</td><td style=\"text-align: right;\">0302232120220310302232</td><td>None   </td><td style=\"text-align: right;\">                   nan</td><td style=\"text-align: right;\">               nan</td><td style=\"text-align: right;\">                nan</td><td style=\"text-align: right;\">     400787</td><td style=\"text-align: right;\">    nan</td><td>&#x27;{&quot;lot&quot;: {&quot;irregular_size&quot;: &quot;800 SQ FT&quot;}, &quot;type&quot;...</td><td>&#x27;{&quot;postal&quot;:&quot;N8S4R1&quot;,&quot;street_name&quot;:&quot;Riverside Dri...</td><td style=\"text-align: right;\">                    20</td><td style=\"text-align: right;\">             nan</td><td>f           </td><td>f           </td><td>9099-riverside-e-unit-704w-windsor-on</td><td>None            </td><td style=\"text-align: right;\">            nan</td><td>f          </td><td>2016-02-13 09:42:33.812-05</td><td style=\"text-align: right;\">         nan</td><td>None     </td><td style=\"text-align: right;\">               nan</td><td style=\"text-align: right;\">       52907</td><td>{2838,1,2,8307}</td></tr>\n",
       "</tbody>\n",
       "</table>"
      ],
      "text/plain": [
       "  #  address                                          municipality    province    postal_code      geocoding_type_id           id      mls    price  description                                            bedrooms    bathrooms    url  search      broker_id    status_id    style_id  created_at                     updated_on                  the_geom                                              provider_id  virtual_tour_url      web_bug_url               quad_tree  title      real_estate_board_id    bedrooms_partial    bathrooms_partial    source_id    email  extras                                               address_components                                     listing_images_count    parking_spaces  has_garage    has_locker    url_slug                               square_footage      kitchen_count  is_rental    expired_at                    sold_price  sold_at      thumbnails_count    address_id  address_ids\n",
       "  0  9099 RIVERSIDE E Unit 704W, WINDSOR, ON, N8S4R1  WINDSOR         ON          N8S4R1                          24  3.73021e+06  1600414   129900  'WESTCHESTER AT THE LAKE 7TH FLOOR CONDO WITH 2 ...           1            1    nan  None           144194            2         106  2016-01-19 11:21:23.955684-05  2019-03-30 01:49:12.653968  0101000020E61000001B05D20FB4BB54C06E241AEE6D2B4540          30002  None                          nan  0302232120220310302232  None                        nan                 nan                  nan       400787      nan  '{\"lot\": {\"irregular_size\": \"800 SQ FT\"}, \"type\"...  '{\"postal\":\"N8S4R1\",\"street_name\":\"Riverside Dri...                      20               nan  f             f             9099-riverside-e-unit-704w-windsor-on  None                          nan  f            2016-02-13 09:42:33.812-05           nan  None                      nan         52907  {2838,1,2,8307}"
      ]
     },
     "execution_count": 338,
     "metadata": {},
     "output_type": "execute_result"
    }
   ],
   "source": [
    "# testing the is_rental correctness\n",
    "#df['is_rental']\n",
    "#(df.is_rental.values == 'f').sum() # 3508281\n",
    "#(df.is_rental.values == 't').sum() # 406839\n",
    "#(df.is_rental.values != 'f').sum() # 406968\n",
    "#(df.is_rental.values != 't').sum() # 3508410\n",
    "df.head(1)"
   ]
  },
  {
   "cell_type": "code",
   "execution_count": 339,
   "metadata": {},
   "outputs": [
    {
     "data": {
      "text/html": [
       "<div>\n",
       "<style scoped>\n",
       "    .dataframe tbody tr th:only-of-type {\n",
       "        vertical-align: middle;\n",
       "    }\n",
       "\n",
       "    .dataframe tbody tr th {\n",
       "        vertical-align: top;\n",
       "    }\n",
       "\n",
       "    .dataframe thead th {\n",
       "        text-align: right;\n",
       "    }\n",
       "</style>\n",
       "<table border=\"1\" class=\"dataframe\">\n",
       "  <thead>\n",
       "    <tr style=\"text-align: right;\">\n",
       "      <th></th>\n",
       "      <th>address</th>\n",
       "      <th>municipality</th>\n",
       "      <th>province</th>\n",
       "      <th>postal_code</th>\n",
       "      <th>geocoding_type_id</th>\n",
       "      <th>id</th>\n",
       "      <th>mls</th>\n",
       "      <th>price</th>\n",
       "      <th>description</th>\n",
       "      <th>bedrooms</th>\n",
       "      <th>...</th>\n",
       "      <th>url_slug</th>\n",
       "      <th>square_footage</th>\n",
       "      <th>kitchen_count</th>\n",
       "      <th>is_rental</th>\n",
       "      <th>expired_at</th>\n",
       "      <th>sold_price</th>\n",
       "      <th>sold_at</th>\n",
       "      <th>thumbnails_count</th>\n",
       "      <th>address_id</th>\n",
       "      <th>address_ids</th>\n",
       "    </tr>\n",
       "  </thead>\n",
       "  <tbody>\n",
       "    <tr>\n",
       "      <th>dtype</th>\n",
       "      <td>str</td>\n",
       "      <td>str</td>\n",
       "      <td>str</td>\n",
       "      <td>str</td>\n",
       "      <td>float64</td>\n",
       "      <td>int64</td>\n",
       "      <td>str</td>\n",
       "      <td>float64</td>\n",
       "      <td>str</td>\n",
       "      <td>float64</td>\n",
       "      <td>...</td>\n",
       "      <td>str</td>\n",
       "      <td>str</td>\n",
       "      <td>float64</td>\n",
       "      <td>str</td>\n",
       "      <td>str</td>\n",
       "      <td>float64</td>\n",
       "      <td>str</td>\n",
       "      <td>float64</td>\n",
       "      <td>float64</td>\n",
       "      <td>str</td>\n",
       "    </tr>\n",
       "    <tr>\n",
       "      <th>count</th>\n",
       "      <td>3915249</td>\n",
       "      <td>3914119</td>\n",
       "      <td>3909013</td>\n",
       "      <td>3858369</td>\n",
       "      <td>3505731</td>\n",
       "      <td>3915249</td>\n",
       "      <td>3915249</td>\n",
       "      <td>3913763</td>\n",
       "      <td>3907421</td>\n",
       "      <td>3690058</td>\n",
       "      <td>...</td>\n",
       "      <td>3915249</td>\n",
       "      <td>2578383</td>\n",
       "      <td>2974091</td>\n",
       "      <td>3915120</td>\n",
       "      <td>3587429</td>\n",
       "      <td>691112</td>\n",
       "      <td>613900</td>\n",
       "      <td>1503831</td>\n",
       "      <td>3849194</td>\n",
       "      <td>3858615</td>\n",
       "    </tr>\n",
       "    <tr>\n",
       "      <th>NA</th>\n",
       "      <td>0</td>\n",
       "      <td>1130</td>\n",
       "      <td>6236</td>\n",
       "      <td>56880</td>\n",
       "      <td>409518</td>\n",
       "      <td>0</td>\n",
       "      <td>0</td>\n",
       "      <td>1486</td>\n",
       "      <td>7828</td>\n",
       "      <td>225191</td>\n",
       "      <td>...</td>\n",
       "      <td>0</td>\n",
       "      <td>1336866</td>\n",
       "      <td>941158</td>\n",
       "      <td>129</td>\n",
       "      <td>327820</td>\n",
       "      <td>3224137</td>\n",
       "      <td>3301349</td>\n",
       "      <td>2411418</td>\n",
       "      <td>66055</td>\n",
       "      <td>56634</td>\n",
       "    </tr>\n",
       "    <tr>\n",
       "      <th>mean</th>\n",
       "      <td>--</td>\n",
       "      <td>--</td>\n",
       "      <td>--</td>\n",
       "      <td>--</td>\n",
       "      <td>22.882743142585667</td>\n",
       "      <td>5336143.436108917</td>\n",
       "      <td>--</td>\n",
       "      <td>581522.0258825024</td>\n",
       "      <td>--</td>\n",
       "      <td>3.0052253921212078</td>\n",
       "      <td>...</td>\n",
       "      <td>--</td>\n",
       "      <td>--</td>\n",
       "      <td>0.9920829591293608</td>\n",
       "      <td>--</td>\n",
       "      <td>--</td>\n",
       "      <td>483661.85834939935</td>\n",
       "      <td>--</td>\n",
       "      <td>21.069484536493796</td>\n",
       "      <td>1206016.7423920436</td>\n",
       "      <td>--</td>\n",
       "    </tr>\n",
       "    <tr>\n",
       "      <th>std</th>\n",
       "      <td>--</td>\n",
       "      <td>--</td>\n",
       "      <td>--</td>\n",
       "      <td>--</td>\n",
       "      <td>1.76213</td>\n",
       "      <td>1.1308e+06</td>\n",
       "      <td>--</td>\n",
       "      <td>1.08284e+06</td>\n",
       "      <td>--</td>\n",
       "      <td>1.52657</td>\n",
       "      <td>...</td>\n",
       "      <td>--</td>\n",
       "      <td>--</td>\n",
       "      <td>0.390108</td>\n",
       "      <td>--</td>\n",
       "      <td>--</td>\n",
       "      <td>552604</td>\n",
       "      <td>--</td>\n",
       "      <td>12.3117</td>\n",
       "      <td>795788</td>\n",
       "      <td>--</td>\n",
       "    </tr>\n",
       "    <tr>\n",
       "      <th>min</th>\n",
       "      <td>--</td>\n",
       "      <td>--</td>\n",
       "      <td>--</td>\n",
       "      <td>--</td>\n",
       "      <td>1</td>\n",
       "      <td>1</td>\n",
       "      <td>--</td>\n",
       "      <td>0</td>\n",
       "      <td>--</td>\n",
       "      <td>0</td>\n",
       "      <td>...</td>\n",
       "      <td>--</td>\n",
       "      <td>--</td>\n",
       "      <td>0</td>\n",
       "      <td>--</td>\n",
       "      <td>--</td>\n",
       "      <td>0</td>\n",
       "      <td>--</td>\n",
       "      <td>0</td>\n",
       "      <td>9431</td>\n",
       "      <td>--</td>\n",
       "    </tr>\n",
       "    <tr>\n",
       "      <th>max</th>\n",
       "      <td>--</td>\n",
       "      <td>--</td>\n",
       "      <td>--</td>\n",
       "      <td>--</td>\n",
       "      <td>27</td>\n",
       "      <td>7294048</td>\n",
       "      <td>--</td>\n",
       "      <td>1e+09</td>\n",
       "      <td>--</td>\n",
       "      <td>1593</td>\n",
       "      <td>...</td>\n",
       "      <td>--</td>\n",
       "      <td>--</td>\n",
       "      <td>11</td>\n",
       "      <td>--</td>\n",
       "      <td>--</td>\n",
       "      <td>4.625e+07</td>\n",
       "      <td>--</td>\n",
       "      <td>100</td>\n",
       "      <td>2.76438e+06</td>\n",
       "      <td>--</td>\n",
       "    </tr>\n",
       "  </tbody>\n",
       "</table>\n",
       "<p>7 rows × 45 columns</p>\n",
       "</div>"
      ],
      "text/plain": [
       "       address municipality province postal_code   geocoding_type_id  \\\n",
       "dtype      str          str      str         str             float64   \n",
       "count  3915249      3914119  3909013     3858369             3505731   \n",
       "NA           0         1130     6236       56880              409518   \n",
       "mean        --           --       --          --  22.882743142585667   \n",
       "std         --           --       --          --             1.76213   \n",
       "min         --           --       --          --                   1   \n",
       "max         --           --       --          --                  27   \n",
       "\n",
       "                      id      mls              price description  \\\n",
       "dtype              int64      str            float64         str   \n",
       "count            3915249  3915249            3913763     3907421   \n",
       "NA                     0        0               1486        7828   \n",
       "mean   5336143.436108917       --  581522.0258825024          --   \n",
       "std           1.1308e+06       --        1.08284e+06          --   \n",
       "min                    1       --                  0          --   \n",
       "max              7294048       --              1e+09          --   \n",
       "\n",
       "                 bedrooms  ... url_slug square_footage       kitchen_count  \\\n",
       "dtype             float64  ...      str            str             float64   \n",
       "count             3690058  ...  3915249        2578383             2974091   \n",
       "NA                 225191  ...        0        1336866              941158   \n",
       "mean   3.0052253921212078  ...       --             --  0.9920829591293608   \n",
       "std               1.52657  ...       --             --            0.390108   \n",
       "min                     0  ...       --             --                   0   \n",
       "max                  1593  ...       --             --                  11   \n",
       "\n",
       "      is_rental expired_at          sold_price  sold_at    thumbnails_count  \\\n",
       "dtype       str        str             float64      str             float64   \n",
       "count   3915120    3587429              691112   613900             1503831   \n",
       "NA          129     327820             3224137  3301349             2411418   \n",
       "mean         --         --  483661.85834939935       --  21.069484536493796   \n",
       "std          --         --              552604       --             12.3117   \n",
       "min          --         --                   0       --                   0   \n",
       "max          --         --           4.625e+07       --                 100   \n",
       "\n",
       "               address_id address_ids  \n",
       "dtype             float64         str  \n",
       "count             3849194     3858615  \n",
       "NA                  66055       56634  \n",
       "mean   1206016.7423920436          --  \n",
       "std                795788          --  \n",
       "min                  9431          --  \n",
       "max           2.76438e+06          --  \n",
       "\n",
       "[7 rows x 45 columns]"
      ]
     },
     "execution_count": 339,
     "metadata": {},
     "output_type": "execute_result"
    }
   ],
   "source": [
    "df.describe()"
   ]
  },
  {
   "cell_type": "code",
   "execution_count": 340,
   "metadata": {},
   "outputs": [],
   "source": [
    "    # testing area\n",
    "#ttt = df[df['sold_price'] > df['price']*3]\n",
    "#ttt.head(5)"
   ]
  },
  {
   "cell_type": "code",
   "execution_count": 341,
   "metadata": {},
   "outputs": [],
   "source": [
    "    # analyze and filter out useless information, make it more easy for data analysis and higher correctness.\n",
    "\n",
    "    # lines that maybe useful\n",
    "#(df_testna.municipality.isna()).sum()\n",
    "#(df.municipality.isna()).sum()\n",
    "#df = df[df['province'].isna() == False]\n",
    "#df = df[df['province_same'].isna() == False]\n",
    "#df = df[df['municipality'].isna() == False]\n",
    "#df = df[df['municipality_same'].isna() == False]\n",
    "#(df_testna.municipality.isna()).sum()\n",
    "#(df.municipality.isna()).sum()\n",
    "\n",
    "    # filter out the null value from several columns\n",
    "df = df[df['updated_on'].isna() == False]\n",
    "df = df[df['is_rental'].isna() == False]\n",
    "    # not using isna() for postal code, because it will cause 2019 data with index error\n",
    "df = df[df['postal_code'].str.len()>5]\n",
    "df = df[df['sold_price'].isna() == False]\n",
    "df = df[df['price'].isna() == False]\n",
    "    # remove na and also which house type is not house or condo\n",
    "df = df[df['style_id'].isna() == False]\n",
    "df = df[df['style_id'] != 24]\n",
    "df = df[df['style_id'] != 111]\n",
    "\n",
    "    # filter out the single value of year and month\n",
    "df['updated_on'].str.replace(' ', '-')\n",
    "df['time'] = df['updated_on'].str.slice(start=0, stop=7)\n",
    "df['year'] = df['time'].str.slice(start=0, stop=4)\n",
    "df = df[df['year'].str.isdigit()]\n",
    "df = df[df['year'].str.len()==4]\n",
    "df['month'] = df['time'].str.slice(start=5, stop=7)\n",
    "    \n",
    "    # ignore the difference with upper and lower letter and export useful information with regions and postal code\n",
    "#df['municipality_same'] = df.municipality.str.lower()\n",
    "df['province_same'] = df.province.str.lower()\n",
    "df['region_territory'] = df['postal_code'].str.slice(start=0, stop=1)\n",
    "df['region_territory'] = df['region_territory'].str.upper()\n",
    "df = df[df['region_territory'].str.isalpha()]\n",
    "df['region_place'] = df['postal_code'].str.slice(start=0, stop=3)\n",
    "df['region_place'] = df['region_place'].str.upper()\n",
    "\n",
    "    # using number of kitchens, parking slots, bedrooms, and bathrooms to find out the size of the house\n",
    "    # 4 data columns have high data completion\n",
    "    # the data of square_footage has over 1336866 missing data it may impact the result\n",
    "    # it is also possible to use square_footage though \n",
    "df['home_size'] = df['kitchen_count'] + df['parking_spaces'] + df['bedrooms'] + df['bathrooms']\n",
    "\n",
    "    # it contains 82% of data with NA value, is a risk to filter it out, need to do it carefully\n",
    "    # sold_at data do has some problems, most of it only shows None in the column\n",
    "#df = df[df['sold_at'].isna() == False]"
   ]
  },
  {
   "cell_type": "code",
   "execution_count": 342,
   "metadata": {},
   "outputs": [],
   "source": [
    "# show whether the deal is in Sep. Use it if only want the Sep. deals.\n",
    "df['is_sep'] = df['month'] == '09'\n",
    "df['is_for_sell'] = df['is_rental'] == 'f'"
   ]
  },
  {
   "cell_type": "code",
   "execution_count": 343,
   "metadata": {},
   "outputs": [
    {
     "name": "stderr",
     "output_type": "stream",
     "text": [
      "<string>:1: RuntimeWarning: invalid value encountered in greater\n",
      "<string>:1: RuntimeWarning: invalid value encountered in less\n"
     ]
    }
   ],
   "source": [
    "# find the total numbers of each deals that is sold price > list price and list price > sold price\n",
    "    # earn_passive shows the deal higher than expected, earn_negative shows the deal lower than expected\n",
    "df['earn'] = df['sold_price'] - df['price']\n",
    "\n",
    "df['earn_passive'] = df['earn'] > 0\n",
    "df['earn_negative'] = df['earn'] <= 0\n",
    "\n",
    "# separate rent and sell only houses, not yet consider the house for both\n",
    "    \n",
    "    # this is for house only for sell\n",
    "    # setting the condition to filter out noise data.\n",
    "    # need a better improve for this part with a more detailed house price knowledge.\n",
    "    # Vaex do have the bug when cleaning noise data when using multiple conditions\n",
    "\n",
    "df_res = df[(df['year'] == '2020')|(df['year'] == '2019')  ]\n",
    "\n",
    "for_sell = df_res['is_for_sell'] == True\n",
    "for_rent = df_res['is_for_sell'] == False\n",
    "\n",
    "df_res = df_res[\n",
    "    ((df_res['sold_price']<20000000) & (df_res['price']<20000000) & (df_res['sold_price']>40000) & (df_res['sold_price']>40000) & (for_sell)) | \n",
    "    ((df_res['sold_price']<40000) & (df_res['price']<40000) & (df_res['sold_price']>100) & (df_res['price']>100) & (for_rent))\n",
    "]\n",
    "\n",
    "#df_res = df_res[() & (for_sell)]\n",
    "\n",
    "#df_res = df_res[(df_res['price']>40000) & (for_sell)]\n",
    "#df_res = df_res[() & (for_sell)]\n",
    "    \n",
    "\n",
    "#df_res = df_res[(df_res['sold_price']<40000) & (for_rent)]\n",
    "#df_res = df_res[(df_res['sold_price']>100) & (for_rent)]\n",
    "\n",
    "#df_res = df_res[(df_res['price']<40000) & (for_rent)]\n",
    "#df_res = df_res[(df_res['price']>100) & (for_rent)]    \n",
    "    \n"
   ]
  },
  {
   "cell_type": "code",
   "execution_count": 344,
   "metadata": {},
   "outputs": [],
   "source": [
    "    # columns show which is condo or house\n",
    "df['condo'] = ((df['style_id'] <= 108) & (df['style_id'] > 104))\n",
    "df['house'] = ((df['style_id'] > 108) | (df['style_id'] <= 104))\n",
    "df['home_type'] = df.condo.apply(lambda s: 'condo' if s==True else 'house')\n"
   ]
  },
  {
   "cell_type": "code",
   "execution_count": 345,
   "metadata": {},
   "outputs": [],
   "source": [
    "    # filter out useless columns\n",
    "df_clean = df.drop(['geocoding_type_id','id','mls','url','search','broker_id','the_geom','provider_id','virtual_tour_url'\n",
    "                   ,'web_bug_url', 'quad_tree', 'title', 'real_estate_board_id', 'bedrooms_partial', 'bathrooms_partial', 'source_id'\n",
    "                   , 'email', 'listing_images_count'])"
   ]
  },
  {
   "cell_type": "code",
   "execution_count": 346,
   "metadata": {},
   "outputs": [],
   "source": [
    "#df_clean"
   ]
  },
  {
   "cell_type": "code",
   "execution_count": 347,
   "metadata": {},
   "outputs": [],
   "source": [
    "#df_clean[(df_clean['house']==False) & (df_clean['condo'] == False)]"
   ]
  },
  {
   "cell_type": "code",
   "execution_count": 439,
   "metadata": {},
   "outputs": [],
   "source": [
    "# visual the chart plots\n",
    "import matplotlib.pylab as pltlab\n",
    "import matplotlib.pyplot as plt\n",
    "import matplotlib.colors as col\n",
    "import matplotlib.cm as cm\n",
    "import scipy.stats as stats\n"
   ]
  },
  {
   "cell_type": "code",
   "execution_count": 440,
   "metadata": {},
   "outputs": [],
   "source": [
    "graph_year = '2019'\n",
    "graph_place = 'L6H'\n",
    "graph_home = 'condo'\n",
    "graph_home_type = True\n",
    "graph_price = 'sold_price'\n",
    "graph_sellrent = True"
   ]
  },
  {
   "cell_type": "code",
   "execution_count": 395,
   "metadata": {},
   "outputs": [],
   "source": [
    "\n",
    "# select year\n",
    "#graph_res = df_clean[df_clean['year']==graph_year]\n",
    "\n",
    "# select home type\n",
    "#graph_res = graph_res[graph_res['home_type'] == graph_home]\n",
    "\n",
    "# price type\n",
    "#graph_res = graph_res[graph_res[graph_price]]\n",
    "\n",
    "# select sell or rent\n",
    "#graph_res = graph_res[graph_res['is_for_sell'] == graph_sellrent]\n",
    "\n",
    "# select place\n",
    "#graph_res = graph_res[graph_res['region_place'] == graph_place]"
   ]
  },
  {
   "cell_type": "code",
   "execution_count": 396,
   "metadata": {},
   "outputs": [],
   "source": [
    "#graph_test1 = graph_res.groupby(['month'], agg={\n",
    "#                        'mean_price': vaex.agg.mean(graph_price)\n",
    "#})   #.mean()\n",
    "#graph_test1 = graph_test1.sort(by = 'month')"
   ]
  },
  {
   "cell_type": "code",
   "execution_count": 441,
   "metadata": {},
   "outputs": [],
   "source": [
    "# the result of the graph present\n",
    "\n",
    "# select year\n",
    "graph_res2 = df_clean[df_clean['year']==graph_year]\n",
    "\n",
    "# price type\n",
    "graph_res2 = graph_res2[graph_res2[graph_price]]\n",
    "\n",
    "# select sell or rent\n",
    "graph_res2 = graph_res2[graph_res2['is_for_sell'] == graph_sellrent]\n",
    "\n",
    "# select place\n",
    "graph_res2 = graph_res2[graph_res2['region_place'] == graph_place]"
   ]
  },
  {
   "cell_type": "code",
   "execution_count": 390,
   "metadata": {},
   "outputs": [
    {
     "data": {
      "text/html": [
       "<table>\n",
       "<thead>\n",
       "<tr><th>#                                </th><th>address                                       </th><th>municipality  </th><th>province  </th><th>postal_code  </th><th>price    </th><th>description                                        </th><th>bedrooms  </th><th>bathrooms  </th><th>status_id  </th><th>style_id  </th><th>created_at                   </th><th>updated_on                </th><th>extras                                             </th><th>address_components                                 </th><th>parking_spaces  </th><th>has_garage  </th><th>has_locker  </th><th>url_slug                            </th><th>square_footage  </th><th>kitchen_count  </th><th>is_rental  </th><th>expired_at            </th><th>sold_price  </th><th>sold_at               </th><th>thumbnails_count  </th><th>address_id  </th><th>address_ids           </th><th>time   </th><th>year  </th><th>month  </th><th>province_same  </th><th>region_territory  </th><th>region_place  </th><th>home_size  </th><th>is_sep  </th><th>is_for_sell  </th><th>earn     </th><th>earn_passive  </th><th>earn_negative  </th><th>condo  </th><th>house  </th><th>home_type  </th></tr>\n",
       "</thead>\n",
       "<tbody>\n",
       "<tr><td><i style='opacity: 0.6'>0</i>    </td><td>2406 Valley Heights Cres, Oakville, ON, L6H6X2</td><td>Oakville      </td><td>ON        </td><td>L6H6X2       </td><td>1298800.0</td><td>&#x27;Absolutely Spectacular Recently Renovated Execu...</td><td>4.0       </td><td>4.0        </td><td>3          </td><td>101       </td><td>2017-11-10 16:16:29.109184-05</td><td>2019-04-02 07:57:57.78036 </td><td>&#x27;{&quot;lot&quot;: {&quot;unit&quot;: &quot;feet&quot;, &quot;depth&quot;: 108.27, &quot;fron...</td><td>&#x27;{&quot;postal&quot;:&quot;L6H6X2&quot;,&quot;street&quot;:&quot;2406 Valley Height...</td><td>4.0             </td><td>t           </td><td>f           </td><td>2406-valley-heights-cres-oakville-on</td><td>None            </td><td>1.0            </td><td>f          </td><td>2018-01-14 00:00:00-05</td><td>1275000.0   </td><td>None                  </td><td>nan               </td><td>921185.0    </td><td>{2829,1,2,7766}       </td><td>2019-04</td><td>2019  </td><td>04     </td><td>on             </td><td>L                 </td><td>L6H           </td><td>13.0       </td><td>False   </td><td>True         </td><td>-23800.0 </td><td>False         </td><td>True           </td><td>False  </td><td>True   </td><td>house      </td></tr>\n",
       "<tr><td><i style='opacity: 0.6'>1</i>    </td><td>1046 Kent Ave, Oakville, ON, L6H1Z6           </td><td>Oakville      </td><td>ON        </td><td>L6H1Z6       </td><td>899900.0 </td><td>&#x27;Build Your Dream Home On This Fantastic Buildin...</td><td>3.0       </td><td>2.0        </td><td>3          </td><td>101       </td><td>2017-10-28 14:18:18.294146-04</td><td>2019-04-02 06:29:30.706333</td><td>&#x27;{&quot;lot&quot;: {&quot;unit&quot;: &quot;feet&quot;, &quot;depth&quot;: 187.46, &quot;fron...</td><td>&#x27;{&quot;postal&quot;:&quot;L6H1Z6&quot;,&quot;street&quot;:&quot;1046 Kent Ave&quot;,&quot;st...</td><td>6.0             </td><td>f           </td><td>f           </td><td>1046-kent-ave-oakville-on           </td><td>[1100,1501)     </td><td>nan            </td><td>f          </td><td>2017-10-31 00:00:00-04</td><td>890000.0    </td><td>None                  </td><td>nan               </td><td>511042.0    </td><td>{2829,1,2,7752}       </td><td>2019-04</td><td>2019  </td><td>04     </td><td>on             </td><td>L                 </td><td>L6H           </td><td>nan        </td><td>False   </td><td>True         </td><td>-9900.0  </td><td>False         </td><td>True           </td><td>False  </td><td>True   </td><td>house      </td></tr>\n",
       "<tr><td><i style='opacity: 0.6'>2</i>    </td><td>338 Riverstone Dr, Oakville, ON, L6H7M3       </td><td>Oakville      </td><td>ON        </td><td>L6H7M3       </td><td>749000.0 </td><td>&#x27;Beautiful 3-Bdrm End Unit Townhouse On Private ...</td><td>3.0       </td><td>4.0        </td><td>3          </td><td>102       </td><td>2017-10-28 12:21:04.814054-04</td><td>2019-04-02 06:29:30.706333</td><td>&#x27;{&quot;lot&quot;: {&quot;unit&quot;: &quot;feet&quot;, &quot;depth&quot;: 127.99, &quot;fron...</td><td>&#x27;{&quot;postal&quot;:&quot;L6H7M3&quot;,&quot;street&quot;:&quot;338 Riverstone Dr&quot;...</td><td>3.0             </td><td>t           </td><td>f           </td><td>338-riverstone-dr-oakville-on       </td><td>[1500,2001)     </td><td>2.0            </td><td>f          </td><td>2017-11-16 00:00:00-05</td><td>738000.0    </td><td>None                  </td><td>nan               </td><td>1311431.0   </td><td>{2829,1,2,7747}       </td><td>2019-04</td><td>2019  </td><td>04     </td><td>on             </td><td>L                 </td><td>L6H           </td><td>12.0       </td><td>False   </td><td>True         </td><td>-11000.0 </td><td>False         </td><td>True           </td><td>False  </td><td>True   </td><td>house      </td></tr>\n",
       "<tr><td><i style='opacity: 0.6'>3</i>    </td><td>1131 Riverbank Way, Oakville, ON, L6H6X4      </td><td>Oakville      </td><td>ON        </td><td>L6H6X4       </td><td>1899000.0</td><td>&#x27;Beautiful Markay-Built Bungaloft In River Oaks ...</td><td>3.0       </td><td>3.0        </td><td>3          </td><td>101       </td><td>2017-10-31 11:24:58.510131-04</td><td>2019-04-02 06:37:52.277174</td><td>&#x27;{&quot;lot&quot;: {&quot;unit&quot;: &quot;feet&quot;, &quot;depth&quot;: 140.8, &quot;front...</td><td>&#x27;{&quot;postal&quot;:&quot;L6H6X4&quot;,&quot;street&quot;:&quot;1131 Riverbank Way...</td><td>4.0             </td><td>t           </td><td>f           </td><td>1131-riverbank-way-oakville-on      </td><td>[2500,3001)     </td><td>1.0            </td><td>f          </td><td>2017-11-09 00:00:00-05</td><td>1860000.0   </td><td>2017-11-09 00:00:00-05</td><td>nan               </td><td>263402.0    </td><td>{2829,1,2,7766}       </td><td>2019-04</td><td>2019  </td><td>04     </td><td>on             </td><td>L                 </td><td>L6H           </td><td>11.0       </td><td>False   </td><td>True         </td><td>-39000.0 </td><td>False         </td><td>True           </td><td>False  </td><td>True   </td><td>house      </td></tr>\n",
       "<tr><td><i style='opacity: 0.6'>4</i>    </td><td>1217 Eighth Line, Oakville, ON, L6H2H2        </td><td>Oakville      </td><td>ON        </td><td>L6H2H2       </td><td>599000.0 </td><td>&#x27;Excellent Opportunity In Oakville. Freehold Tow...</td><td>3.0       </td><td>2.0        </td><td>3          </td><td>102       </td><td>2017-10-30 11:22:11.331553-04</td><td>2019-04-02 06:37:52.277174</td><td>&#x27;{&quot;lot&quot;: {&quot;unit&quot;: &quot;feet&quot;, &quot;depth&quot;: 124.15, &quot;fron...</td><td>&#x27;{&quot;postal&quot;:&quot;L6H2H2&quot;,&quot;street&quot;:&quot;1217 Eighth Line&quot;,...</td><td>3.0             </td><td>t           </td><td>f           </td><td>1217-eighth-line-oakville-on        </td><td>                </td><td>1.0            </td><td>f          </td><td>2017-11-11 00:00:00-05</td><td>594000.0    </td><td>2017-11-11 00:00:00-05</td><td>nan               </td><td>1311974.0   </td><td>{2829,1,2,7746}       </td><td>2019-04</td><td>2019  </td><td>04     </td><td>on             </td><td>L                 </td><td>L6H           </td><td>9.0        </td><td>False   </td><td>True         </td><td>-5000.0  </td><td>False         </td><td>True           </td><td>False  </td><td>True   </td><td>house      </td></tr>\n",
       "<tr><td>...                              </td><td>...                                           </td><td>...           </td><td>...       </td><td>...          </td><td>...      </td><td>...                                                </td><td>...       </td><td>...        </td><td>...        </td><td>...       </td><td>...                          </td><td>...                       </td><td>...                                                </td><td>...                                                </td><td>...             </td><td>...         </td><td>...         </td><td>...                                 </td><td>...             </td><td>...            </td><td>...        </td><td>...                   </td><td>...         </td><td>...                   </td><td>...               </td><td>...         </td><td>...                   </td><td>...    </td><td>...   </td><td>...    </td><td>...            </td><td>...               </td><td>...           </td><td>...        </td><td>...     </td><td>...          </td><td>...      </td><td>...           </td><td>...            </td><td>...    </td><td>...    </td><td>...        </td></tr>\n",
       "<tr><td><i style='opacity: 0.6'>3,316</i></td><td>1052 Valley Crest Circ, Oakville, ON, L6H6W8  </td><td>Oakville      </td><td>ON        </td><td>L6H6W8       </td><td>2399000.0</td><td>&#x27;A Magnificent Backyard For Entertaining! Over 3...</td><td>5.0       </td><td>5.0        </td><td>3          </td><td>101       </td><td>2017-10-27 11:37:54.585804-04</td><td>2019-04-02 06:22:40.706888</td><td>&#x27;{&quot;lot&quot;: {&quot;unit&quot;: &quot;feet&quot;, &quot;depth&quot;: 119.52, &quot;fron...</td><td>&#x27;{&quot;postal&quot;:&quot;L6H6W8&quot;,&quot;street&quot;:&quot;1052 Valley Crest ...</td><td>9.0             </td><td>t           </td><td>f           </td><td>1052-valley-crest-circ-oakville-on  </td><td>None            </td><td>1.0            </td><td>f          </td><td>2017-11-23 00:00:00-05</td><td>2200000.0   </td><td>None                  </td><td>nan               </td><td>1234608.0   </td><td>{2829,1,2,7766}       </td><td>2019-04</td><td>2019  </td><td>04     </td><td>on             </td><td>L                 </td><td>L6H           </td><td>20.0       </td><td>False   </td><td>True         </td><td>-199000.0</td><td>False         </td><td>True           </td><td>False  </td><td>True   </td><td>house      </td></tr>\n",
       "<tr><td><i style='opacity: 0.6'>3,317</i></td><td>#99-1042 Falgarwood Dr, Oakville, ON, L6H2P3  </td><td>Oakville      </td><td>ON        </td><td>L6H2P3       </td><td>329000.0 </td><td>&#x27;Great Opportunity For First Time Home Buyers Or...</td><td>3.0       </td><td>1.0        </td><td>3          </td><td>109       </td><td>2017-10-27 11:18:53.671437-04</td><td>2019-04-02 06:22:40.706888</td><td>&#x27;{&quot;tax&quot;: {&quot;year&quot;: 2017, &quot;amount&quot;: 1624.89}, &quot;pet...</td><td>&#x27;{&quot;unit&quot;:&quot;#99&quot;,&quot;postal&quot;:&quot;L6H2P3&quot;,&quot;street&quot;:&quot;1042 ...</td><td>1.0             </td><td>t           </td><td>f           </td><td>99-1042-falgarwood-dr-oakville-on   </td><td>None            </td><td>1.0            </td><td>f          </td><td>2017-11-06 00:00:00-05</td><td>350000.0    </td><td>None                  </td><td>nan               </td><td>1100602.0   </td><td>{1,2,2829,7746,11845} </td><td>2019-04</td><td>2019  </td><td>04     </td><td>on             </td><td>L                 </td><td>L6H           </td><td>6.0        </td><td>False   </td><td>True         </td><td>21000.0  </td><td>True          </td><td>False          </td><td>False  </td><td>True   </td><td>house      </td></tr>\n",
       "<tr><td><i style='opacity: 0.6'>3,318</i></td><td>178 Huguenot Rd, Oakville, ON, L6H7C3         </td><td>Oakville      </td><td>ON        </td><td>L6H7C3       </td><td>749900.0 </td><td>&#x27;Welcome Home. Brand New Updated Modern Tri-Stac...</td><td>3.0       </td><td>3.0        </td><td>3          </td><td>102       </td><td>2017-10-27 20:27:51.627041-04</td><td>2019-04-02 06:22:40.706888</td><td>&#x27;{&quot;lot&quot;: {&quot;unit&quot;: &quot;feet&quot;, &quot;depth&quot;: 83.66, &quot;front...</td><td>&#x27;{&quot;postal&quot;:&quot;L6H7C3&quot;,&quot;street&quot;:&quot;178 Huguenot Rd&quot;,&quot;...</td><td>2.0             </td><td>t           </td><td>f           </td><td>178-huguenot-rd-oakville-on         </td><td>[1500,2001)     </td><td>1.0            </td><td>f          </td><td>2017-11-10 00:00:00-05</td><td>736000.0    </td><td>None                  </td><td>nan               </td><td>756172.0    </td><td>{2829,1,2,7766}       </td><td>2019-04</td><td>2019  </td><td>04     </td><td>on             </td><td>L                 </td><td>L6H           </td><td>9.0        </td><td>False   </td><td>True         </td><td>-13900.0 </td><td>False         </td><td>True           </td><td>False  </td><td>True   </td><td>house      </td></tr>\n",
       "<tr><td><i style='opacity: 0.6'>3,319</i></td><td># 6-35 Hays Blvd, Oakville, ON, L6H0J1        </td><td>Oakville      </td><td>ON        </td><td>L6H0J1       </td><td>418000.0 </td><td>&#x27;Rarely Offered, Gorgeous Premium, End Unit With...</td><td>2.0       </td><td>2.0        </td><td>3          </td><td>109       </td><td>2017-02-18 13:24:49.798476-05</td><td>2019-03-31 15:31:03.937612</td><td>&#x27;{&quot;tax&quot;: {&quot;year&quot;: 2016, &quot;amount&quot;: 2366.22}, &quot;pet...</td><td>&#x27;{&quot;unit&quot;:&quot;# 6&quot;,&quot;postal&quot;:&quot;L6H0J1&quot;,&quot;street&quot;:&quot;35 Ha...</td><td>nan             </td><td>t           </td><td>t           </td><td>6-35-hays-blvd-oakville-on          </td><td>[900,1000)      </td><td>1.0            </td><td>f          </td><td>2017-02-28 00:00:00-05</td><td>450000.0    </td><td>2017-02-28 00:00:00-05</td><td>nan               </td><td>665838.0    </td><td>{1,2,2829,7766,140327}</td><td>2019-03</td><td>2019  </td><td>03     </td><td>on             </td><td>L                 </td><td>L6H           </td><td>nan        </td><td>False   </td><td>True         </td><td>32000.0  </td><td>True          </td><td>False          </td><td>False  </td><td>True   </td><td>house      </td></tr>\n",
       "<tr><td><i style='opacity: 0.6'>3,320</i></td><td>3115 Mintwood Circ, Oakville, ON, L6H0P2      </td><td>Oakville      </td><td>ON        </td><td>L6H0P2       </td><td>879900.0 </td><td>&quot;Rare Pie Lot 44&#x27; (Rear). Chic Urban End Unit To...</td><td>3.0       </td><td>4.0        </td><td>3          </td><td>102       </td><td>2017-10-27 17:28:10.469708-04</td><td>2019-04-02 06:22:40.706888</td><td>&#x27;{&quot;lot&quot;: {&quot;unit&quot;: &quot;feet&quot;, &quot;depth&quot;: 84.01, &quot;front...</td><td>&#x27;{&quot;postal&quot;:&quot;L6H0P2&quot;,&quot;street&quot;:&quot;3115 Mintwood Circ...</td><td>2.0             </td><td>t           </td><td>f           </td><td>3115-mintwood-circ-oakville-on      </td><td>[2000,2501)     </td><td>1.0            </td><td>f          </td><td>2017-11-09 00:00:00-05</td><td>860000.0    </td><td>None                  </td><td>nan               </td><td>1242167.0   </td><td>{2829,1,2,7766}       </td><td>2019-04</td><td>2019  </td><td>04     </td><td>on             </td><td>L                 </td><td>L6H           </td><td>10.0       </td><td>False   </td><td>True         </td><td>-19900.0 </td><td>False         </td><td>True           </td><td>False  </td><td>True   </td><td>house      </td></tr>\n",
       "</tbody>\n",
       "</table>"
      ],
      "text/plain": [
       "#      address                                         municipality    province    postal_code    price      description                                          bedrooms    bathrooms    status_id    style_id    created_at                     updated_on                  extras                                               address_components                                   parking_spaces    has_garage    has_locker    url_slug                              square_footage    kitchen_count    is_rental    expired_at              sold_price    sold_at                 thumbnails_count    address_id    address_ids             time     year    month    province_same    region_territory    region_place    home_size    is_sep    is_for_sell    earn       earn_passive    earn_negative    condo    house    home_type\n",
       "0      2406 Valley Heights Cres, Oakville, ON, L6H6X2  Oakville        ON          L6H6X2         1298800.0  'Absolutely Spectacular Recently Renovated Execu...  4.0         4.0          3            101         2017-11-10 16:16:29.109184-05  2019-04-02 07:57:57.78036   '{\"lot\": {\"unit\": \"feet\", \"depth\": 108.27, \"fron...  '{\"postal\":\"L6H6X2\",\"street\":\"2406 Valley Height...  4.0               t             f             2406-valley-heights-cres-oakville-on  None              1.0              f            2018-01-14 00:00:00-05  1275000.0     None                    nan                 921185.0      {2829,1,2,7766}         2019-04  2019    04       on               L                   L6H             13.0         False     True           -23800.0   False           True             False    True     house\n",
       "1      1046 Kent Ave, Oakville, ON, L6H1Z6             Oakville        ON          L6H1Z6         899900.0   'Build Your Dream Home On This Fantastic Buildin...  3.0         2.0          3            101         2017-10-28 14:18:18.294146-04  2019-04-02 06:29:30.706333  '{\"lot\": {\"unit\": \"feet\", \"depth\": 187.46, \"fron...  '{\"postal\":\"L6H1Z6\",\"street\":\"1046 Kent Ave\",\"st...  6.0               f             f             1046-kent-ave-oakville-on             [1100,1501)       nan              f            2017-10-31 00:00:00-04  890000.0      None                    nan                 511042.0      {2829,1,2,7752}         2019-04  2019    04       on               L                   L6H             nan          False     True           -9900.0    False           True             False    True     house\n",
       "2      338 Riverstone Dr, Oakville, ON, L6H7M3         Oakville        ON          L6H7M3         749000.0   'Beautiful 3-Bdrm End Unit Townhouse On Private ...  3.0         4.0          3            102         2017-10-28 12:21:04.814054-04  2019-04-02 06:29:30.706333  '{\"lot\": {\"unit\": \"feet\", \"depth\": 127.99, \"fron...  '{\"postal\":\"L6H7M3\",\"street\":\"338 Riverstone Dr\"...  3.0               t             f             338-riverstone-dr-oakville-on         [1500,2001)       2.0              f            2017-11-16 00:00:00-05  738000.0      None                    nan                 1311431.0     {2829,1,2,7747}         2019-04  2019    04       on               L                   L6H             12.0         False     True           -11000.0   False           True             False    True     house\n",
       "3      1131 Riverbank Way, Oakville, ON, L6H6X4        Oakville        ON          L6H6X4         1899000.0  'Beautiful Markay-Built Bungaloft In River Oaks ...  3.0         3.0          3            101         2017-10-31 11:24:58.510131-04  2019-04-02 06:37:52.277174  '{\"lot\": {\"unit\": \"feet\", \"depth\": 140.8, \"front...  '{\"postal\":\"L6H6X4\",\"street\":\"1131 Riverbank Way...  4.0               t             f             1131-riverbank-way-oakville-on        [2500,3001)       1.0              f            2017-11-09 00:00:00-05  1860000.0     2017-11-09 00:00:00-05  nan                 263402.0      {2829,1,2,7766}         2019-04  2019    04       on               L                   L6H             11.0         False     True           -39000.0   False           True             False    True     house\n",
       "4      1217 Eighth Line, Oakville, ON, L6H2H2          Oakville        ON          L6H2H2         599000.0   'Excellent Opportunity In Oakville. Freehold Tow...  3.0         2.0          3            102         2017-10-30 11:22:11.331553-04  2019-04-02 06:37:52.277174  '{\"lot\": {\"unit\": \"feet\", \"depth\": 124.15, \"fron...  '{\"postal\":\"L6H2H2\",\"street\":\"1217 Eighth Line\",...  3.0               t             f             1217-eighth-line-oakville-on                            1.0              f            2017-11-11 00:00:00-05  594000.0      2017-11-11 00:00:00-05  nan                 1311974.0     {2829,1,2,7746}         2019-04  2019    04       on               L                   L6H             9.0          False     True           -5000.0    False           True             False    True     house\n",
       "...    ...                                             ...             ...         ...            ...        ...                                                  ...         ...          ...          ...         ...                            ...                         ...                                                  ...                                                  ...               ...           ...           ...                                   ...               ...              ...          ...                     ...           ...                     ...                 ...           ...                     ...      ...     ...      ...              ...                 ...             ...          ...       ...            ...        ...             ...              ...      ...      ...\n",
       "3,316  1052 Valley Crest Circ, Oakville, ON, L6H6W8    Oakville        ON          L6H6W8         2399000.0  'A Magnificent Backyard For Entertaining! Over 3...  5.0         5.0          3            101         2017-10-27 11:37:54.585804-04  2019-04-02 06:22:40.706888  '{\"lot\": {\"unit\": \"feet\", \"depth\": 119.52, \"fron...  '{\"postal\":\"L6H6W8\",\"street\":\"1052 Valley Crest ...  9.0               t             f             1052-valley-crest-circ-oakville-on    None              1.0              f            2017-11-23 00:00:00-05  2200000.0     None                    nan                 1234608.0     {2829,1,2,7766}         2019-04  2019    04       on               L                   L6H             20.0         False     True           -199000.0  False           True             False    True     house\n",
       "3,317  #99-1042 Falgarwood Dr, Oakville, ON, L6H2P3    Oakville        ON          L6H2P3         329000.0   'Great Opportunity For First Time Home Buyers Or...  3.0         1.0          3            109         2017-10-27 11:18:53.671437-04  2019-04-02 06:22:40.706888  '{\"tax\": {\"year\": 2017, \"amount\": 1624.89}, \"pet...  '{\"unit\":\"#99\",\"postal\":\"L6H2P3\",\"street\":\"1042 ...  1.0               t             f             99-1042-falgarwood-dr-oakville-on     None              1.0              f            2017-11-06 00:00:00-05  350000.0      None                    nan                 1100602.0     {1,2,2829,7746,11845}   2019-04  2019    04       on               L                   L6H             6.0          False     True           21000.0    True            False            False    True     house\n",
       "3,318  178 Huguenot Rd, Oakville, ON, L6H7C3           Oakville        ON          L6H7C3         749900.0   'Welcome Home. Brand New Updated Modern Tri-Stac...  3.0         3.0          3            102         2017-10-27 20:27:51.627041-04  2019-04-02 06:22:40.706888  '{\"lot\": {\"unit\": \"feet\", \"depth\": 83.66, \"front...  '{\"postal\":\"L6H7C3\",\"street\":\"178 Huguenot Rd\",\"...  2.0               t             f             178-huguenot-rd-oakville-on           [1500,2001)       1.0              f            2017-11-10 00:00:00-05  736000.0      None                    nan                 756172.0      {2829,1,2,7766}         2019-04  2019    04       on               L                   L6H             9.0          False     True           -13900.0   False           True             False    True     house\n",
       "3,319  # 6-35 Hays Blvd, Oakville, ON, L6H0J1          Oakville        ON          L6H0J1         418000.0   'Rarely Offered, Gorgeous Premium, End Unit With...  2.0         2.0          3            109         2017-02-18 13:24:49.798476-05  2019-03-31 15:31:03.937612  '{\"tax\": {\"year\": 2016, \"amount\": 2366.22}, \"pet...  '{\"unit\":\"# 6\",\"postal\":\"L6H0J1\",\"street\":\"35 Ha...  nan               t             t             6-35-hays-blvd-oakville-on            [900,1000)        1.0              f            2017-02-28 00:00:00-05  450000.0      2017-02-28 00:00:00-05  nan                 665838.0      {1,2,2829,7766,140327}  2019-03  2019    03       on               L                   L6H             nan          False     True           32000.0    True            False            False    True     house\n",
       "3,320  3115 Mintwood Circ, Oakville, ON, L6H0P2        Oakville        ON          L6H0P2         879900.0   \"Rare Pie Lot 44' (Rear). Chic Urban End Unit To...  3.0         4.0          3            102         2017-10-27 17:28:10.469708-04  2019-04-02 06:22:40.706888  '{\"lot\": {\"unit\": \"feet\", \"depth\": 84.01, \"front...  '{\"postal\":\"L6H0P2\",\"street\":\"3115 Mintwood Circ...  2.0               t             f             3115-mintwood-circ-oakville-on        [2000,2501)       1.0              f            2017-11-09 00:00:00-05  860000.0      None                    nan                 1242167.0     {2829,1,2,7766}         2019-04  2019    04       on               L                   L6H             10.0         False     True           -19900.0   False           True             False    True     house"
      ]
     },
     "execution_count": 390,
     "metadata": {},
     "output_type": "execute_result"
    }
   ],
   "source": [
    "graph_res2"
   ]
  },
  {
   "cell_type": "code",
   "execution_count": 445,
   "metadata": {},
   "outputs": [],
   "source": [
    "# input function for condition in selecting values for house price and condo price into two different columns.\n",
    "# By separating the price, will make the graph easier to reuse and present.\n",
    "# value nan will be skip when finding the mean value, so it will not impact the final result of the whole mean value.\n",
    "def fxy(x,y):\n",
    "    if x == True:\n",
    "        y = y\n",
    "    else:\n",
    "        y = np.nan\n",
    "    return y\n",
    "\n",
    "#df['newcolumn'] = df.apply(lambda x: fxy(x['A'], x['B']), axis=1)\n",
    "\n",
    "graph_res2['house_p'] = graph_res2.apply(fxy, arguments=[graph_res2.house, graph_res2.sold_price])\n",
    "graph_res2['condo_p'] = graph_res2.apply(fxy, arguments=[graph_res2.condo, graph_res2.sold_price])\n"
   ]
  },
  {
   "cell_type": "code",
   "execution_count": 446,
   "metadata": {},
   "outputs": [],
   "source": [
    "# show each month of both mean_price in house and condo\n",
    "graph_test2 = graph_res2.groupby(['month'], agg={\n",
    "                        'house_mean_price': vaex.agg.mean('house_p'),\n",
    "                        'condo_mean_price': vaex.agg.mean('condo_p')\n",
    "})   #.mean()\n",
    "graph_test2 = graph_test2.sort(by = 'month')"
   ]
  },
  {
   "cell_type": "code",
   "execution_count": 447,
   "metadata": {},
   "outputs": [
    {
     "data": {
      "text/html": [
       "<table>\n",
       "<thead>\n",
       "<tr><th>#                            </th><th style=\"text-align: right;\">  month</th><th style=\"text-align: right;\">  house_mean_price</th><th style=\"text-align: right;\">  condo_mean_price</th></tr>\n",
       "</thead>\n",
       "<tbody>\n",
       "<tr><td><i style='opacity: 0.6'>0</i></td><td style=\"text-align: right;\">     03</td><td style=\"text-align: right;\">       1.02861e+06</td><td style=\"text-align: right;\">            428937</td></tr>\n",
       "<tr><td><i style='opacity: 0.6'>1</i></td><td style=\"text-align: right;\">     04</td><td style=\"text-align: right;\">  930069          </td><td style=\"text-align: right;\">            441067</td></tr>\n",
       "<tr><td><i style='opacity: 0.6'>2</i></td><td style=\"text-align: right;\">     05</td><td style=\"text-align: right;\">  924844          </td><td style=\"text-align: right;\">            464773</td></tr>\n",
       "<tr><td><i style='opacity: 0.6'>3</i></td><td style=\"text-align: right;\">     06</td><td style=\"text-align: right;\">  936010          </td><td style=\"text-align: right;\">            471310</td></tr>\n",
       "<tr><td><i style='opacity: 0.6'>4</i></td><td style=\"text-align: right;\">     07</td><td style=\"text-align: right;\">  945987          </td><td style=\"text-align: right;\">            498576</td></tr>\n",
       "<tr><td><i style='opacity: 0.6'>5</i></td><td style=\"text-align: right;\">     08</td><td style=\"text-align: right;\">  985250          </td><td style=\"text-align: right;\">               nan</td></tr>\n",
       "<tr><td><i style='opacity: 0.6'>6</i></td><td style=\"text-align: right;\">     09</td><td style=\"text-align: right;\">  947133          </td><td style=\"text-align: right;\">            511496</td></tr>\n",
       "<tr><td><i style='opacity: 0.6'>7</i></td><td style=\"text-align: right;\">     10</td><td style=\"text-align: right;\">  937275          </td><td style=\"text-align: right;\">            484856</td></tr>\n",
       "<tr><td><i style='opacity: 0.6'>8</i></td><td style=\"text-align: right;\">     11</td><td style=\"text-align: right;\">  925055          </td><td style=\"text-align: right;\">            527671</td></tr>\n",
       "<tr><td><i style='opacity: 0.6'>9</i></td><td style=\"text-align: right;\">     12</td><td style=\"text-align: right;\">  966251          </td><td style=\"text-align: right;\">            465162</td></tr>\n",
       "</tbody>\n",
       "</table>"
      ],
      "text/plain": [
       "  #    month    house_mean_price    condo_mean_price\n",
       "  0       03         1.02861e+06              428937\n",
       "  1       04    930069                        441067\n",
       "  2       05    924844                        464773\n",
       "  3       06    936010                        471310\n",
       "  4       07    945987                        498576\n",
       "  5       08    985250                           nan\n",
       "  6       09    947133                        511496\n",
       "  7       10    937275                        484856\n",
       "  8       11    925055                        527671\n",
       "  9       12    966251                        465162"
      ]
     },
     "execution_count": 447,
     "metadata": {},
     "output_type": "execute_result"
    }
   ],
   "source": [
    "graph_test2"
   ]
  },
  {
   "cell_type": "code",
   "execution_count": 451,
   "metadata": {},
   "outputs": [
    {
     "data": {
      "text/plain": [
       "Text(0, 0.5, 'mean_price: sold_price')"
      ]
     },
     "execution_count": 451,
     "metadata": {},
     "output_type": "execute_result"
    },
    {
     "data": {
      "image/png": "[encoded data removed]",
      "text/plain": [
       "<Figure size 432x288 with 1 Axes>"
      ]
     },
     "metadata": {
      "needs_background": "light"
     },
     "output_type": "display_data"
    }
   ],
   "source": [
    "graph_result = graph_test2.to_pandas_df()\n",
    "graph_result.reset_index().plot(\n",
    "    x=\"month\", y=[\"house_mean_price\", \"condo_mean_price\"], kind=\"bar\"\n",
    ")\n",
    "plt.title(\"mean price graph of \"+ graph_place + \" \" + graph_year)\n",
    "plt.xlabel(\"month\")\n",
    "plt.ylabel(\"mean_price: \"+ graph_price)"
   ]
  },
  {
   "cell_type": "code",
   "execution_count": 435,
   "metadata": {},
   "outputs": [],
   "source": [
    "#graph_test3 = graph_res2.groupby(['month','house'], agg={\n",
    "#                        'mean_price': vaex.agg.mean('sold_price'),\n",
    "                        \n",
    "#})   #.mean()\n",
    "#graph_test3 = graph_test3.sort(by = 'month')"
   ]
  },
  {
   "cell_type": "code",
   "execution_count": 356,
   "metadata": {},
   "outputs": [],
   "source": [
    "import matplotlib\n",
    "import matplotlib.pyplot as plt\n",
    "import numpy as np"
   ]
  },
  {
   "cell_type": "code",
   "execution_count": 360,
   "metadata": {},
   "outputs": [],
   "source": [
    "# df2 = pd.DataFrame(np.random.rand(10, 4), columns=['a', 'b', 'c', 'd'])\n",
    "\n",
    "\n",
    "#fig, axes = plt.subplots(nrows=2, ncols=2)\n",
    "\n",
    "\n",
    "#labels = graph_test_res['month']\n",
    "#house_means = graph_test_res[graph_test_res['house'] == True]\n",
    "#house_means = house_means['mean_price']\n",
    "#condo_means = graph_test_res[(graph_test_res['house'] == False) & ]\n",
    "\n",
    "#condo_means = condo_means['mean_price']\n",
    "\n",
    "#house_means\n",
    "#condo_means\n",
    "\n",
    "\n",
    "        \n",
    "#df1 = graph_test_res[graph_test_res['house'] ==True]\n",
    "#df2 = graph_test_res[graph_test_res['house'] ==False]\n",
    "\n",
    "#df1.plot(ax=axes[0,0], kind='bar')\n",
    "#df2.plot(ax=axes[0,1], kind='bar')\n",
    "#df2 = graph_test_res #.DataFrame(graph_test_res.month, columns=['condo', 'house'])\n",
    "#df2[['condo','house']].plot(kind='bar')\n",
    "#df2.plot.bar()\n",
    "\n",
    "#labels\n",
    "#graph_test_res.plot.bar(x=\"month\", y=\"mean_price\", title=\"mean price each month in 2019\");"
   ]
  },
  {
   "cell_type": "code",
   "execution_count": 361,
   "metadata": {},
   "outputs": [],
   "source": [
    "#pandas_house_19 = res_house_2019_mean_price.to_pandas_df()\n",
    "#pandas_house_19.plot.bar(x=\"month\", y=\"mean_price\", title=\"house mean price each month in 2019\");"
   ]
  },
  {
   "cell_type": "code",
   "execution_count": 362,
   "metadata": {},
   "outputs": [],
   "source": [
    "#pandas_house_20 = res_house_2020_mean_price.to_pandas_df()\n",
    "#pandas_house_20.plot.bar(x=\"month\", y=\"mean_price\", title=\"house mean price each month in 2020\");"
   ]
  },
  {
   "cell_type": "code",
   "execution_count": 363,
   "metadata": {},
   "outputs": [],
   "source": [
    "#pandas_condo_20 = res_condo_2020_mean_price.to_pandas_df()\n",
    "#pandas_condo_20.plot.bar(x=\"month\", y=\"mean_price\", title=\"condo mean price each month in 2020\");"
   ]
  },
  {
   "cell_type": "code",
   "execution_count": 364,
   "metadata": {},
   "outputs": [],
   "source": [
    "# for the region place data table\n",
    "sellrent = True\n",
    "# select sell or rent\n",
    "df_sell_res = df_clean[grapg_res['is_for_sell'] == graph_sellrent]"
   ]
  },
  {
   "cell_type": "code",
   "execution_count": null,
   "metadata": {},
   "outputs": [],
   "source": []
  },
  {
   "cell_type": "code",
   "execution_count": 365,
   "metadata": {},
   "outputs": [
    {
     "name": "stderr",
     "output_type": "stream",
     "text": [
      "<string>:1: RuntimeWarning: invalid value encountered in less_equal\n"
     ]
    }
   ],
   "source": [
    "    # the result of only grouping month, year, and home_type\n",
    "df_month = df_sell_res.groupby(['month','year','home_type'],\n",
    "              agg={'mean_sold': vaex.agg.mean('sold_price'),\n",
    "                   'mean_price': vaex.agg.mean('price'),\n",
    "                   'mean_rank': vaex.agg.mean('thumbnails_count'),\n",
    "                   'mean_size': vaex.agg.mean('home_size'),\n",
    "                   'min_sold': vaex.agg.min('sold_price'),\n",
    "                   'min_price': vaex.agg.min('price'),\n",
    "                   'max_size': vaex.agg.max('home_size'),\n",
    "                   'popular_area': vaex.agg.count('sold_price'),\n",
    "                   'sold_above_list_price': vaex.agg.sum('earn_passive'),\n",
    "                   'sold_below_list_price': vaex.agg.sum('earn_negative')\n",
    "              }\n",
    "          )\n",
    "\n",
    "#pandas_yeah = df_month.to_pandas_df()"
   ]
  },
  {
   "cell_type": "code",
   "execution_count": 366,
   "metadata": {},
   "outputs": [
    {
     "data": {
      "text/html": [
       "<table>\n",
       "<thead>\n",
       "<tr><th>#                             </th><th>month  </th><th>year  </th><th>home_type  </th><th>mean_sold        </th><th>mean_price       </th><th>mean_rank         </th><th>mean_size         </th><th>min_sold  </th><th>min_price  </th><th>max_size  </th><th>popular_area  </th><th>sold_above_list_price  </th><th>sold_below_list_price  </th></tr>\n",
       "</thead>\n",
       "<tbody>\n",
       "<tr><td><i style='opacity: 0.6'>0</i> </td><td>06     </td><td>2019  </td><td>house      </td><td>842578.2947263204</td><td>850535.0431900792</td><td>17.25406852248394 </td><td>11.605391613046372</td><td>12000.0   </td><td>15000.0    </td><td>109.0     </td><td>9354          </td><td>2377                   </td><td>6977                   </td></tr>\n",
       "<tr><td><i style='opacity: 0.6'>1</i> </td><td>06     </td><td>2019  </td><td>condo      </td><td>567562.7011412268</td><td>569802.4015691868</td><td>15.836603638958259</td><td>5.603542808941375 </td><td>47500.0   </td><td>54900.0    </td><td>268.0     </td><td>2804          </td><td>769                    </td><td>2035                   </td></tr>\n",
       "<tr><td><i style='opacity: 0.6'>2</i> </td><td>06     </td><td>2020  </td><td>house      </td><td>917270.5968499511</td><td>916557.2265395895</td><td>26.62617621899059 </td><td>10.832890911389205</td><td>4300.0    </td><td>79999.0    </td><td>62.0      </td><td>8184          </td><td>2984                   </td><td>5200                   </td></tr>\n",
       "<tr><td><i style='opacity: 0.6'>3</i> </td><td>06     </td><td>2020  </td><td>condo      </td><td>612440.2578740157</td><td>615538.0883014624</td><td>22.76827896512936 </td><td>5.587714116952156 </td><td>143000.0  </td><td>149000.0   </td><td>260.0     </td><td>1778          </td><td>478                    </td><td>1300                   </td></tr>\n",
       "<tr><td><i style='opacity: 0.6'>4</i> </td><td>04     </td><td>2019  </td><td>house      </td><td>799564.6873234846</td><td>813953.1214543824</td><td>nan               </td><td>11.57012989378951 </td><td>1.0       </td><td>2200.0     </td><td>195.0     </td><td>115953        </td><td>23820                  </td><td>92133                  </td></tr>\n",
       "<tr><td>...                           </td><td>...    </td><td>...   </td><td>...        </td><td>...              </td><td>...              </td><td>...               </td><td>...               </td><td>...       </td><td>...        </td><td>...       </td><td>...           </td><td>...                    </td><td>...                    </td></tr>\n",
       "<tr><td><i style='opacity: 0.6'>33</i></td><td>03     </td><td>2020  </td><td>condo      </td><td>634376.96799117  </td><td>613442.706401766 </td><td>16.767328918322296</td><td>5.727844782380703 </td><td>95000.0   </td><td>101000.0   </td><td>360.0     </td><td>2265          </td><td>1353                   </td><td>912                    </td></tr>\n",
       "<tr><td><i style='opacity: 0.6'>34</i></td><td>02     </td><td>2020  </td><td>house      </td><td>904681.0096191666</td><td>890316.5938816919</td><td>17.296706727017323</td><td>11.86294911396521 </td><td>44000.0   </td><td>44000.0    </td><td>63.0      </td><td>6407          </td><td>3034                   </td><td>3373                   </td></tr>\n",
       "<tr><td><i style='opacity: 0.6'>35</i></td><td>02     </td><td>2020  </td><td>condo      </td><td>647709.9276948669</td><td>634153.8854562738</td><td>15.841730038022813</td><td>5.570219966159052 </td><td>30000.0   </td><td>30000.0    </td><td>91.0      </td><td>2104          </td><td>1122                   </td><td>982                    </td></tr>\n",
       "<tr><td><i style='opacity: 0.6'>36</i></td><td>11     </td><td>2019  </td><td>house      </td><td>840812.247000993 </td><td>852377.3908355795</td><td>17.318343027379772</td><td>11.732238010657193</td><td>10000.0   </td><td>10000.0    </td><td>87.0      </td><td>7049          </td><td>1657                   </td><td>5392                   </td></tr>\n",
       "<tr><td><i style='opacity: 0.6'>37</i></td><td>11     </td><td>2019  </td><td>condo      </td><td>601992.1351998242</td><td>605423.7285902504</td><td>16.209486166007906</td><td>5.5781650435674015</td><td>2625.0    </td><td>2650.0     </td><td>31.0      </td><td>2277          </td><td>633                    </td><td>1644                   </td></tr>\n",
       "</tbody>\n",
       "</table>"
      ],
      "text/plain": [
       "#    month    year    home_type    mean_sold          mean_price         mean_rank           mean_size           min_sold    min_price    max_size    popular_area    sold_above_list_price    sold_below_list_price\n",
       "0    06       2019    house        842578.2947263204  850535.0431900792  17.25406852248394   11.605391613046372  12000.0     15000.0      109.0       9354            2377                     6977\n",
       "1    06       2019    condo        567562.7011412268  569802.4015691868  15.836603638958259  5.603542808941375   47500.0     54900.0      268.0       2804            769                      2035\n",
       "2    06       2020    house        917270.5968499511  916557.2265395895  26.62617621899059   10.832890911389205  4300.0      79999.0      62.0        8184            2984                     5200\n",
       "3    06       2020    condo        612440.2578740157  615538.0883014624  22.76827896512936   5.587714116952156   143000.0    149000.0     260.0       1778            478                      1300\n",
       "4    04       2019    house        799564.6873234846  813953.1214543824  nan                 11.57012989378951   1.0         2200.0       195.0       115953          23820                    92133\n",
       "...  ...      ...     ...          ...                ...                ...                 ...                 ...         ...          ...         ...             ...                      ...\n",
       "33   03       2020    condo        634376.96799117    613442.706401766   16.767328918322296  5.727844782380703   95000.0     101000.0     360.0       2265            1353                     912\n",
       "34   02       2020    house        904681.0096191666  890316.5938816919  17.296706727017323  11.86294911396521   44000.0     44000.0      63.0        6407            3034                     3373\n",
       "35   02       2020    condo        647709.9276948669  634153.8854562738  15.841730038022813  5.570219966159052   30000.0     30000.0      91.0        2104            1122                     982\n",
       "36   11       2019    house        840812.247000993   852377.3908355795  17.318343027379772  11.732238010657193  10000.0     10000.0      87.0        7049            1657                     5392\n",
       "37   11       2019    condo        601992.1351998242  605423.7285902504  16.209486166007906  5.5781650435674015  2625.0      2650.0       31.0        2277            633                      1644"
      ]
     },
     "execution_count": 366,
     "metadata": {},
     "output_type": "execute_result"
    }
   ],
   "source": [
    "df_month"
   ]
  },
  {
   "cell_type": "code",
   "execution_count": null,
   "metadata": {},
   "outputs": [],
   "source": []
  },
  {
   "cell_type": "code",
   "execution_count": null,
   "metadata": {},
   "outputs": [],
   "source": []
  },
  {
   "cell_type": "code",
   "execution_count": 367,
   "metadata": {},
   "outputs": [
    {
     "data": {
      "text/html": [
       "<table>\n",
       "<thead>\n",
       "<tr><th>#                                </th><th>region_place  </th><th>year  </th><th>home_type  </th><th>mean_sold         </th><th>mean_price        </th><th>mean_rank         </th><th>mean_size         </th><th>min_sold  </th><th>min_price  </th><th>max_size  </th><th>popular_area  </th><th>sold_above_list_price  </th><th>sold_below_list_price  </th></tr>\n",
       "</thead>\n",
       "<tbody>\n",
       "<tr><td><i style='opacity: 0.6'>0</i>    </td><td>M1E           </td><td>2019  </td><td>house      </td><td>673325.5950617284 </td><td>669742.975308642  </td><td>16.035971223021583</td><td>10.070175438596491</td><td>105000.0  </td><td>100000.0   </td><td>23.0      </td><td>1215          </td><td>395                    </td><td>820                    </td></tr>\n",
       "<tr><td><i style='opacity: 0.6'>1</i>    </td><td>M1E           </td><td>2019  </td><td>condo      </td><td>354280.3027522936 </td><td>356767.3944954128 </td><td>16.16949152542373 </td><td>6.65748031496063  </td><td>57100.0   </td><td>42500.0    </td><td>197.0     </td><td>327           </td><td>91                     </td><td>236                    </td></tr>\n",
       "<tr><td><i style='opacity: 0.6'>2</i>    </td><td>M1E           </td><td>2020  </td><td>house      </td><td>509168.67139959434</td><td>502065.90263691684</td><td>21.37102473498233 </td><td>8.5439672801636   </td><td>105000.0  </td><td>105000.0   </td><td>24.0      </td><td>493           </td><td>157                    </td><td>336                    </td></tr>\n",
       "<tr><td><i style='opacity: 0.6'>3</i>    </td><td>M1E           </td><td>2020  </td><td>condo      </td><td>239205.3908045977 </td><td>242364.05747126436</td><td>18.98             </td><td>5.745664739884393 </td><td>1150.0    </td><td>99999.0    </td><td>10.0      </td><td>174           </td><td>30                     </td><td>144                    </td></tr>\n",
       "<tr><td><i style='opacity: 0.6'>4</i>    </td><td>M1L           </td><td>2019  </td><td>house      </td><td>767759.4557329463 </td><td>748274.5210449927 </td><td>15.704            </td><td>9.61032028469751  </td><td>310000.0  </td><td>329900.0   </td><td>23.0      </td><td>689           </td><td>321                    </td><td>368                    </td></tr>\n",
       "<tr><td>...                              </td><td>...           </td><td>...   </td><td>...        </td><td>...               </td><td>...               </td><td>...               </td><td>...               </td><td>...       </td><td>...        </td><td>...       </td><td>...           </td><td>...                    </td><td>...                    </td></tr>\n",
       "<tr><td><i style='opacity: 0.6'>2,082</i></td><td>E2J           </td><td>2019  </td><td>house      </td><td>159000.0          </td><td>148000.0          </td><td>nan               </td><td>8.0               </td><td>159000.0  </td><td>148000.0   </td><td>8.0       </td><td>1             </td><td>1                      </td><td>0                      </td></tr>\n",
       "<tr><td><i style='opacity: 0.6'>2,083</i></td><td>L2C           </td><td>2019  </td><td>house      </td><td>719990.0          </td><td>719990.0          </td><td>1.0               </td><td>15.0              </td><td>719990.0  </td><td>719990.0   </td><td>15.0      </td><td>1             </td><td>0                      </td><td>1                      </td></tr>\n",
       "<tr><td><i style='opacity: 0.6'>2,084</i></td><td>N4Y           </td><td>2020  </td><td>house      </td><td>443000.0          </td><td>449900.0          </td><td>9.0               </td><td>nan               </td><td>443000.0  </td><td>449900.0   </td><td>-inf      </td><td>1             </td><td>0                      </td><td>1                      </td></tr>\n",
       "<tr><td><i style='opacity: 0.6'>2,085</i></td><td>V9G           </td><td>2019  </td><td>house      </td><td>667000.0          </td><td>677000.0          </td><td>19.0              </td><td>nan               </td><td>667000.0  </td><td>677000.0   </td><td>-inf      </td><td>1             </td><td>0                      </td><td>1                      </td></tr>\n",
       "<tr><td><i style='opacity: 0.6'>2,086</i></td><td>T5G           </td><td>2020  </td><td>house      </td><td>366000.0          </td><td>365000.0          </td><td>20.0              </td><td>nan               </td><td>366000.0  </td><td>365000.0   </td><td>-inf      </td><td>1             </td><td>1                      </td><td>0                      </td></tr>\n",
       "</tbody>\n",
       "</table>"
      ],
      "text/plain": [
       "#      region_place    year    home_type    mean_sold           mean_price          mean_rank           mean_size           min_sold    min_price    max_size    popular_area    sold_above_list_price    sold_below_list_price\n",
       "0      M1E             2019    house        673325.5950617284   669742.975308642    16.035971223021583  10.070175438596491  105000.0    100000.0     23.0        1215            395                      820\n",
       "1      M1E             2019    condo        354280.3027522936   356767.3944954128   16.16949152542373   6.65748031496063    57100.0     42500.0      197.0       327             91                       236\n",
       "2      M1E             2020    house        509168.67139959434  502065.90263691684  21.37102473498233   8.5439672801636     105000.0    105000.0     24.0        493             157                      336\n",
       "3      M1E             2020    condo        239205.3908045977   242364.05747126436  18.98               5.745664739884393   1150.0      99999.0      10.0        174             30                       144\n",
       "4      M1L             2019    house        767759.4557329463   748274.5210449927   15.704              9.61032028469751    310000.0    329900.0     23.0        689             321                      368\n",
       "...    ...             ...     ...          ...                 ...                 ...                 ...                 ...         ...          ...         ...             ...                      ...\n",
       "2,082  E2J             2019    house        159000.0            148000.0            nan                 8.0                 159000.0    148000.0     8.0         1               1                        0\n",
       "2,083  L2C             2019    house        719990.0            719990.0            1.0                 15.0                719990.0    719990.0     15.0        1               0                        1\n",
       "2,084  N4Y             2020    house        443000.0            449900.0            9.0                 nan                 443000.0    449900.0     -inf        1               0                        1\n",
       "2,085  V9G             2019    house        667000.0            677000.0            19.0                nan                 667000.0    677000.0     -inf        1               0                        1\n",
       "2,086  T5G             2020    house        366000.0            365000.0            20.0                nan                 366000.0    365000.0     -inf        1               1                        0"
      ]
     },
     "execution_count": 367,
     "metadata": {},
     "output_type": "execute_result"
    }
   ],
   "source": [
    "    # the result grouping with place, year, and home type\n",
    "df_res1 = df_sell_res.groupby(['region_place','year','home_type'],\n",
    "              agg={'mean_sold': vaex.agg.mean('sold_price'),\n",
    "                   'mean_price': vaex.agg.mean('price'),\n",
    "                   'mean_rank': vaex.agg.mean('thumbnails_count'),\n",
    "                   'mean_size': vaex.agg.mean('home_size'),\n",
    "                   'min_sold': vaex.agg.min('sold_price'),\n",
    "                   'min_price': vaex.agg.min('price'),\n",
    "                   'max_size': vaex.agg.max('home_size'),\n",
    "                   'popular_area': vaex.agg.count('sold_price'),\n",
    "                   'sold_above_list_price': vaex.agg.sum('earn_passive'),\n",
    "                   'sold_below_list_price': vaex.agg.sum('earn_negative')\n",
    "              }\n",
    "          )\n",
    "df_res1\n",
    "#df_res1.export_csv('res1.csv')"
   ]
  },
  {
   "cell_type": "code",
   "execution_count": null,
   "metadata": {},
   "outputs": [],
   "source": [
    "    "
   ]
  },
  {
   "cell_type": "code",
   "execution_count": 368,
   "metadata": {},
   "outputs": [],
   "source": [
    "    # find the avg of popular deals\n",
    "    # it means how many houses were sold\n",
    "mean_pop = df_res1['popular_area'].mean()\n",
    "\n",
    "df_res1['is_popular'] = df_res1['popular_area'] >= 200\n",
    "#df_res1"
   ]
  },
  {
   "cell_type": "code",
   "execution_count": 369,
   "metadata": {},
   "outputs": [],
   "source": [
    "    # find the avg of ranks\n",
    "    # it means how many avg ranks of the place\n",
    "total_mean_rank = df_res1['mean_rank'].mean()\n",
    "#total_mean_rank\n",
    "df_res1['good_rank'] = df_res1['mean_rank'] >= 18\n",
    "#df_res1\n",
    "    # besty ranking\n",
    "#total_mean_rank = df_res1['mean_rank'].max()"
   ]
  },
  {
   "cell_type": "code",
   "execution_count": 370,
   "metadata": {},
   "outputs": [
    {
     "name": "stderr",
     "output_type": "stream",
     "text": [
      "<string>:1: RuntimeWarning: invalid value encountered in greater_equal\n"
     ]
    },
    {
     "data": {
      "text/html": [
       "<table>\n",
       "<thead>\n",
       "<tr><th>#                            </th><th>region_place  </th><th style=\"text-align: right;\">  year</th><th>home_type  </th><th style=\"text-align: right;\">   mean_sold</th><th style=\"text-align: right;\">    mean_price</th><th style=\"text-align: right;\">  mean_rank</th><th style=\"text-align: right;\">  mean_size</th><th style=\"text-align: right;\">    min_sold</th><th style=\"text-align: right;\">     min_price</th><th style=\"text-align: right;\">  max_size</th><th style=\"text-align: right;\">  popular_area</th><th style=\"text-align: right;\">  sold_above_list_price</th><th style=\"text-align: right;\">  sold_below_list_price</th><th>is_popular  </th><th>good_rank  </th></tr>\n",
       "</thead>\n",
       "<tbody>\n",
       "<tr><td><i style='opacity: 0.6'>0</i></td><td>L5P           </td><td style=\"text-align: right;\">  2019</td><td>house      </td><td style=\"text-align: right;\">     1.6e+06</td><td style=\"text-align: right;\">     1.629e+06</td><td style=\"text-align: right;\">        nan</td><td style=\"text-align: right;\">         11</td><td style=\"text-align: right;\">     1.6e+06</td><td style=\"text-align: right;\">     1.629e+06</td><td style=\"text-align: right;\">        11</td><td style=\"text-align: right;\">             1</td><td style=\"text-align: right;\">                      0</td><td style=\"text-align: right;\">                      1</td><td>False       </td><td>False      </td></tr>\n",
       "<tr><td><i style='opacity: 0.6'>1</i></td><td>L5P           </td><td style=\"text-align: right;\">  2019</td><td>condo      </td><td style=\"text-align: right;\">554000      </td><td style=\"text-align: right;\">559500        </td><td style=\"text-align: right;\">        nan</td><td style=\"text-align: right;\">          8</td><td style=\"text-align: right;\">554000      </td><td style=\"text-align: right;\">559500        </td><td style=\"text-align: right;\">         8</td><td style=\"text-align: right;\">             1</td><td style=\"text-align: right;\">                      0</td><td style=\"text-align: right;\">                      1</td><td>False       </td><td>False      </td></tr>\n",
       "</tbody>\n",
       "</table>"
      ],
      "text/plain": [
       "  #  region_place      year  home_type       mean_sold      mean_price    mean_rank    mean_size      min_sold       min_price    max_size    popular_area    sold_above_list_price    sold_below_list_price  is_popular    good_rank\n",
       "  0  L5P               2019  house             1.6e+06       1.629e+06          nan           11       1.6e+06       1.629e+06          11               1                        0                        1  False         False\n",
       "  1  L5P               2019  condo        554000        559500                  nan            8  554000        559500                   8               1                        0                        1  False         False"
      ]
     },
     "execution_count": 370,
     "metadata": {},
     "output_type": "execute_result"
    }
   ],
   "source": [
    "# find specific place of data, please change the 3 character in first_three_postal\n",
    "first_three_postal = 'L5P'\n",
    "target_place = df_res1[df_res1['region_place'] == first_three_postal]\n",
    "target_place"
   ]
  },
  {
   "cell_type": "code",
   "execution_count": 371,
   "metadata": {},
   "outputs": [],
   "source": [
    "    # please change the value you want here\n",
    "    # changing values here to make further method output different results\n",
    "\n",
    "# mainly with 2019 and 2020\n",
    "target_year = '2020'\n",
    "# house deal avg which is higher than the mean\n",
    "target_popular = True\n",
    "# two types: house or condo\n",
    "target_house_type = 'house'\n",
    "# do the ranking higher than the mean\n",
    "is_good_rank = True\n",
    "# tpye a size for searching\n",
    "target_size = '6'\n"
   ]
  },
  {
   "cell_type": "code",
   "execution_count": 372,
   "metadata": {},
   "outputs": [
    {
     "data": {
      "text/html": [
       "<table>\n",
       "<thead>\n",
       "<tr><th>#                            </th><th>region_place  </th><th style=\"text-align: right;\">  year</th><th>home_type  </th><th style=\"text-align: right;\">  mean_sold</th><th style=\"text-align: right;\">  mean_price</th><th style=\"text-align: right;\">  mean_rank</th><th style=\"text-align: right;\">  mean_size</th><th style=\"text-align: right;\">  min_sold</th><th style=\"text-align: right;\">  min_price</th><th style=\"text-align: right;\">  max_size</th><th style=\"text-align: right;\">  popular_area</th><th style=\"text-align: right;\">  sold_above_list_price</th><th style=\"text-align: right;\">  sold_below_list_price</th><th>is_popular  </th><th>good_rank  </th></tr>\n",
       "</thead>\n",
       "<tbody>\n",
       "<tr><td><i style='opacity: 0.6'>0</i></td><td>L8L           </td><td style=\"text-align: right;\">  2020</td><td>house      </td><td style=\"text-align: right;\">     429305</td><td style=\"text-align: right;\">      419099</td><td style=\"text-align: right;\">    20.4348</td><td style=\"text-align: right;\">    8.11602</td><td style=\"text-align: right;\">    187000</td><td style=\"text-align: right;\">     169000</td><td style=\"text-align: right;\">        15</td><td style=\"text-align: right;\">           230</td><td style=\"text-align: right;\">                    112</td><td style=\"text-align: right;\">                    118</td><td>True        </td><td>True       </td></tr>\n",
       "</tbody>\n",
       "</table>"
      ],
      "text/plain": [
       "  #  region_place      year  home_type      mean_sold    mean_price    mean_rank    mean_size    min_sold    min_price    max_size    popular_area    sold_above_list_price    sold_below_list_price  is_popular    good_rank\n",
       "  0  L8L               2020  house             429305        419099      20.4348      8.11602      187000       169000          15             230                      112                      118  True          True"
      ]
     },
     "execution_count": 372,
     "metadata": {},
     "output_type": "execute_result"
    }
   ],
   "source": [
    "# lowest mean sold place\n",
    "# find cheapest place\n",
    "\n",
    "# choose a year\n",
    "lowest_sold_mean = df_res1[(df_res1['year'] == target_year)]\n",
    "# want popular place or not\n",
    "lowest_sold_mean = lowest_sold_mean[(lowest_sold_mean['is_popular'] == target_popular)]\n",
    "# rank good or not\n",
    "lowest_sold_mean = lowest_sold_mean[(lowest_sold_mean['good_rank'] == is_good_rank)]\n",
    "# house or condo\n",
    "lowest_sold_mean = lowest_sold_mean[(lowest_sold_mean['home_type'] == target_house_type)]\n",
    "\n",
    "# home size\n",
    "#lowest_sold_mean = lowest_sold_mean[(lowest_sold_mean['mean_size'] >= target_size)]\n",
    "\n",
    "# find lowest mean place\n",
    "lowest_sold_mean = lowest_sold_mean[lowest_sold_mean['mean_sold'] == lowest_sold_mean['mean_sold'].min()]\n",
    "\n",
    "lowest_sold_mean"
   ]
  },
  {
   "cell_type": "code",
   "execution_count": 373,
   "metadata": {},
   "outputs": [],
   "source": [
    "#################################################################################################################\n",
    "\n",
    "\n",
    "\n",
    "#      no need to check the code below\n",
    "\n",
    "\n",
    "\n",
    "\n",
    "#################################################################################################################"
   ]
  },
  {
   "cell_type": "code",
   "execution_count": null,
   "metadata": {},
   "outputs": [],
   "source": []
  },
  {
   "cell_type": "code",
   "execution_count": 374,
   "metadata": {},
   "outputs": [
    {
     "data": {
      "text/html": [
       "<table>\n",
       "<thead>\n",
       "<tr><th>#                            </th><th>region_place  </th><th style=\"text-align: right;\">  year</th><th>home_type  </th><th style=\"text-align: right;\">  mean_sold</th><th style=\"text-align: right;\">  mean_price</th><th style=\"text-align: right;\">  mean_rank</th><th style=\"text-align: right;\">  mean_size</th><th style=\"text-align: right;\">  min_sold</th><th style=\"text-align: right;\">  min_price</th><th style=\"text-align: right;\">  max_size</th><th style=\"text-align: right;\">  popular_area</th><th style=\"text-align: right;\">  sold_above_list_price</th><th style=\"text-align: right;\">  sold_below_list_price</th><th>is_popular  </th><th>good_rank  </th></tr>\n",
       "</thead>\n",
       "<tbody>\n",
       "<tr><td><i style='opacity: 0.6'>0</i></td><td>L8L           </td><td style=\"text-align: right;\">  2020</td><td>house      </td><td style=\"text-align: right;\">     429305</td><td style=\"text-align: right;\">      419099</td><td style=\"text-align: right;\">    20.4348</td><td style=\"text-align: right;\">    8.11602</td><td style=\"text-align: right;\">    187000</td><td style=\"text-align: right;\">     169000</td><td style=\"text-align: right;\">        15</td><td style=\"text-align: right;\">           230</td><td style=\"text-align: right;\">                    112</td><td style=\"text-align: right;\">                    118</td><td>True        </td><td>True       </td></tr>\n",
       "</tbody>\n",
       "</table>"
      ],
      "text/plain": [
       "  #  region_place      year  home_type      mean_sold    mean_price    mean_rank    mean_size    min_sold    min_price    max_size    popular_area    sold_above_list_price    sold_below_list_price  is_popular    good_rank\n",
       "  0  L8L               2020  house             429305        419099      20.4348      8.11602      187000       169000          15             230                      112                      118  True          True"
      ]
     },
     "execution_count": 374,
     "metadata": {},
     "output_type": "execute_result"
    }
   ],
   "source": [
    "# place with large size\n",
    "size_home = df_res1[(df_res1['year'] == target_year)]\n",
    "lowest_sold_mean = lowest_sold_mean[(lowest_sold_mean['is_popular'] == target_popular)]\n",
    "lowest_sold_mean = lowest_sold_mean[(lowest_sold_mean['home_type'] == target_house_type)]\n",
    "lowest_sold_mean = lowest_sold_mean[lowest_sold_mean['mean_sold'] == lowest_sold_mean['mean_sold'].min()]\n",
    "lowest_sold_mean"
   ]
  },
  {
   "cell_type": "code",
   "execution_count": 375,
   "metadata": {},
   "outputs": [
    {
     "data": {
      "text/html": [
       "<table>\n",
       "<thead>\n",
       "<tr><th>#                            </th><th>region_place  </th><th style=\"text-align: right;\">  year</th><th>home_type  </th><th style=\"text-align: right;\">  mean_sold</th><th style=\"text-align: right;\">  mean_price</th><th style=\"text-align: right;\">  mean_rank</th><th style=\"text-align: right;\">  mean_size</th><th style=\"text-align: right;\">  min_sold</th><th style=\"text-align: right;\">  min_price</th><th style=\"text-align: right;\">  max_size</th><th style=\"text-align: right;\">  popular_area</th><th style=\"text-align: right;\">  sold_above_list_price</th><th style=\"text-align: right;\">  sold_below_list_price</th><th>is_popular  </th><th>good_rank  </th></tr>\n",
       "</thead>\n",
       "<tbody>\n",
       "<tr><td><i style='opacity: 0.6'>0</i></td><td>P0B           </td><td style=\"text-align: right;\">  2019</td><td>condo      </td><td style=\"text-align: right;\">      47000</td><td style=\"text-align: right;\">       47000</td><td style=\"text-align: right;\">        nan</td><td style=\"text-align: right;\">        nan</td><td style=\"text-align: right;\">     47000</td><td style=\"text-align: right;\">      47000</td><td style=\"text-align: right;\">      -inf</td><td style=\"text-align: right;\">             1</td><td style=\"text-align: right;\">                      0</td><td style=\"text-align: right;\">                      1</td><td>False       </td><td>False      </td></tr>\n",
       "</tbody>\n",
       "</table>"
      ],
      "text/plain": [
       "  #  region_place      year  home_type      mean_sold    mean_price    mean_rank    mean_size    min_sold    min_price    max_size    popular_area    sold_above_list_price    sold_below_list_price  is_popular    good_rank\n",
       "  0  P0B               2019  condo              47000         47000          nan          nan       47000        47000        -inf               1                        0                        1  False         False"
      ]
     },
     "execution_count": 375,
     "metadata": {},
     "output_type": "execute_result"
    }
   ],
   "source": [
    "    # lowest mean sold place 2019\n",
    "place_lowest_mean_deals_2019 = df_res1[(df_res1['year'] == '2019')]\n",
    "place_lowest_mean_deals_2019 = place_lowest_mean_deals_2019[place_lowest_mean_deals_2019['mean_sold'] == place_lowest_mean_deals_2019['mean_sold'].min()]\n",
    "place_lowest_mean_deals_2019"
   ]
  },
  {
   "cell_type": "code",
   "execution_count": 376,
   "metadata": {},
   "outputs": [
    {
     "data": {
      "text/html": [
       "<table>\n",
       "<thead>\n",
       "<tr><th>#                            </th><th>region_place  </th><th style=\"text-align: right;\">  year</th><th>home_type  </th><th style=\"text-align: right;\">  mean_sold</th><th style=\"text-align: right;\">  mean_price</th><th style=\"text-align: right;\">  mean_rank</th><th style=\"text-align: right;\">  mean_size</th><th style=\"text-align: right;\">  min_sold</th><th style=\"text-align: right;\">  min_price</th><th style=\"text-align: right;\">  max_size</th><th style=\"text-align: right;\">  popular_area</th><th style=\"text-align: right;\">  sold_above_list_price</th><th style=\"text-align: right;\">  sold_below_list_price</th><th>is_popular  </th><th>good_rank  </th></tr>\n",
       "</thead>\n",
       "<tbody>\n",
       "<tr><td><i style='opacity: 0.6'>0</i></td><td>M3V           </td><td style=\"text-align: right;\">  2020</td><td>condo      </td><td style=\"text-align: right;\">       1350</td><td style=\"text-align: right;\">        1350</td><td style=\"text-align: right;\">        nan</td><td style=\"text-align: right;\">          5</td><td style=\"text-align: right;\">      1350</td><td style=\"text-align: right;\">       1350</td><td style=\"text-align: right;\">         5</td><td style=\"text-align: right;\">             1</td><td style=\"text-align: right;\">                      0</td><td style=\"text-align: right;\">                      1</td><td>False       </td><td>False      </td></tr>\n",
       "</tbody>\n",
       "</table>"
      ],
      "text/plain": [
       "  #  region_place      year  home_type      mean_sold    mean_price    mean_rank    mean_size    min_sold    min_price    max_size    popular_area    sold_above_list_price    sold_below_list_price  is_popular    good_rank\n",
       "  0  M3V               2020  condo               1350          1350          nan            5        1350         1350           5               1                        0                        1  False         False"
      ]
     },
     "execution_count": 376,
     "metadata": {},
     "output_type": "execute_result"
    }
   ],
   "source": [
    "    # lowest mean sold place 2020\n",
    "place_lowest_mean_deals_2020 = df_res1[(df_res1['year'] == '2020')]\n",
    "place_lowest_mean_deals_2020 = place_lowest_mean_deals_2020[place_lowest_mean_deals_2020['mean_sold'] == place_lowest_mean_deals_2020['mean_sold'].min()]\n",
    "place_lowest_mean_deals_2020"
   ]
  },
  {
   "cell_type": "code",
   "execution_count": 377,
   "metadata": {},
   "outputs": [
    {
     "data": {
      "text/html": [
       "<table>\n",
       "<thead>\n",
       "<tr><th>#                            </th><th>region_place  </th><th style=\"text-align: right;\">  year</th><th>home_type  </th><th style=\"text-align: right;\">  mean_sold</th><th style=\"text-align: right;\">  mean_price</th><th style=\"text-align: right;\">  mean_rank</th><th style=\"text-align: right;\">  mean_size</th><th style=\"text-align: right;\">  min_sold</th><th style=\"text-align: right;\">  min_price</th><th style=\"text-align: right;\">  max_size</th><th style=\"text-align: right;\">  popular_area</th><th style=\"text-align: right;\">  sold_above_list_price</th><th style=\"text-align: right;\">  sold_below_list_price</th><th>is_popular  </th><th>good_rank  </th></tr>\n",
       "</thead>\n",
       "<tbody>\n",
       "<tr><td><i style='opacity: 0.6'>0</i></td><td>M3N           </td><td style=\"text-align: right;\">  2019</td><td>condo      </td><td style=\"text-align: right;\">     201944</td><td style=\"text-align: right;\">      208299</td><td style=\"text-align: right;\">    11.6308</td><td style=\"text-align: right;\">    5.30864</td><td style=\"text-align: right;\">     38000</td><td style=\"text-align: right;\">      38900</td><td style=\"text-align: right;\">         8</td><td style=\"text-align: right;\">           202</td><td style=\"text-align: right;\">                     31</td><td style=\"text-align: right;\">                    171</td><td>True        </td><td>False      </td></tr>\n",
       "</tbody>\n",
       "</table>"
      ],
      "text/plain": [
       "  #  region_place      year  home_type      mean_sold    mean_price    mean_rank    mean_size    min_sold    min_price    max_size    popular_area    sold_above_list_price    sold_below_list_price  is_popular    good_rank\n",
       "  0  M3N               2019  condo             201944        208299      11.6308      5.30864       38000        38900           8             202                       31                      171  True          False"
      ]
     },
     "execution_count": 377,
     "metadata": {},
     "output_type": "execute_result"
    }
   ],
   "source": [
    "    # lowest mean sold place 2019 in popular area\n",
    "pop_place_lowest_mean_deals_2019 = df_res1[(df_res1['year'] == '2019')]\n",
    "pop_place_lowest_mean_deals_2019 = pop_place_lowest_mean_deals_2019[(pop_place_lowest_mean_deals_2019['is_popular'] == True)]\n",
    "pop_place_lowest_mean_deals_2019 = pop_place_lowest_mean_deals_2019[pop_place_lowest_mean_deals_2019['mean_sold'] == pop_place_lowest_mean_deals_2019['mean_sold'].min()]\n",
    "pop_place_lowest_mean_deals_2019"
   ]
  },
  {
   "cell_type": "code",
   "execution_count": 378,
   "metadata": {},
   "outputs": [
    {
     "data": {
      "text/html": [
       "<table>\n",
       "<thead>\n",
       "<tr><th>#                            </th><th>region_place  </th><th style=\"text-align: right;\">  year</th><th>home_type  </th><th style=\"text-align: right;\">  mean_sold</th><th style=\"text-align: right;\">  mean_price</th><th style=\"text-align: right;\">  mean_rank</th><th style=\"text-align: right;\">  mean_size</th><th style=\"text-align: right;\">  min_sold</th><th style=\"text-align: right;\">  min_price</th><th style=\"text-align: right;\">  max_size</th><th style=\"text-align: right;\">  popular_area</th><th style=\"text-align: right;\">  sold_above_list_price</th><th style=\"text-align: right;\">  sold_below_list_price</th><th>is_popular  </th><th>good_rank  </th></tr>\n",
       "</thead>\n",
       "<tbody>\n",
       "<tr><td><i style='opacity: 0.6'>0</i></td><td>M9R           </td><td style=\"text-align: right;\">  2020</td><td>condo      </td><td style=\"text-align: right;\">     175249</td><td style=\"text-align: right;\">      180082</td><td style=\"text-align: right;\">    18.3279</td><td style=\"text-align: right;\">    5.23346</td><td style=\"text-align: right;\">     43500</td><td style=\"text-align: right;\">      79000</td><td style=\"text-align: right;\">         8</td><td style=\"text-align: right;\">           261</td><td style=\"text-align: right;\">                     26</td><td style=\"text-align: right;\">                    235</td><td>True        </td><td>True       </td></tr>\n",
       "</tbody>\n",
       "</table>"
      ],
      "text/plain": [
       "  #  region_place      year  home_type      mean_sold    mean_price    mean_rank    mean_size    min_sold    min_price    max_size    popular_area    sold_above_list_price    sold_below_list_price  is_popular    good_rank\n",
       "  0  M9R               2020  condo             175249        180082      18.3279      5.23346       43500        79000           8             261                       26                      235  True          True"
      ]
     },
     "execution_count": 378,
     "metadata": {},
     "output_type": "execute_result"
    }
   ],
   "source": [
    "    # lowest mean sold place 2020 in popular area\n",
    "pop_place_lowest_mean_deals_2020 = df_res1[(df_res1['year'] == '2020')]\n",
    "pop_place_lowest_mean_deals_2020 = pop_place_lowest_mean_deals_2020[(pop_place_lowest_mean_deals_2020['is_popular'] == True)]\n",
    "pop_place_lowest_mean_deals_2020 = pop_place_lowest_mean_deals_2020[pop_place_lowest_mean_deals_2020['mean_sold'] == pop_place_lowest_mean_deals_2020['mean_sold'].min()]\n",
    "pop_place_lowest_mean_deals_2020"
   ]
  },
  {
   "cell_type": "code",
   "execution_count": 379,
   "metadata": {},
   "outputs": [
    {
     "data": {
      "text/html": [
       "<table>\n",
       "<thead>\n",
       "<tr><th>#                            </th><th>region_place  </th><th style=\"text-align: right;\">  year</th><th>home_type  </th><th style=\"text-align: right;\">  mean_sold</th><th style=\"text-align: right;\">  mean_price</th><th style=\"text-align: right;\">  mean_rank</th><th style=\"text-align: right;\">  mean_size</th><th style=\"text-align: right;\">  min_sold</th><th style=\"text-align: right;\">  min_price</th><th style=\"text-align: right;\">  max_size</th><th style=\"text-align: right;\">  popular_area</th><th style=\"text-align: right;\">  sold_above_list_price</th><th style=\"text-align: right;\">  sold_below_list_price</th><th>is_popular  </th><th>good_rank  </th></tr>\n",
       "</thead>\n",
       "<tbody>\n",
       "<tr><td><i style='opacity: 0.6'>0</i></td><td>C0K           </td><td style=\"text-align: right;\">  2019</td><td>house      </td><td style=\"text-align: right;\">      80000</td><td style=\"text-align: right;\">       88000</td><td style=\"text-align: right;\">        nan</td><td style=\"text-align: right;\">        nan</td><td style=\"text-align: right;\">     80000</td><td style=\"text-align: right;\">      88000</td><td style=\"text-align: right;\">      -inf</td><td style=\"text-align: right;\">             1</td><td style=\"text-align: right;\">                      0</td><td style=\"text-align: right;\">                      1</td><td>False       </td><td>False      </td></tr>\n",
       "</tbody>\n",
       "</table>"
      ],
      "text/plain": [
       "  #  region_place      year  home_type      mean_sold    mean_price    mean_rank    mean_size    min_sold    min_price    max_size    popular_area    sold_above_list_price    sold_below_list_price  is_popular    good_rank\n",
       "  0  C0K               2019  house              80000         88000          nan          nan       80000        88000        -inf               1                        0                        1  False         False"
      ]
     },
     "execution_count": 379,
     "metadata": {},
     "output_type": "execute_result"
    }
   ],
   "source": [
    "    # lowest mean sold house 2019\n",
    "house_lowest_mean_deals_2019 = df_res1[(df_res1['year'] == '2019')]\n",
    "house_lowest_mean_deals_2019 = house_lowest_mean_deals_2019[(house_lowest_mean_deals_2019['home_type'] == 'house')]\n",
    "house_lowest_mean_deals_2019 = house_lowest_mean_deals_2019[house_lowest_mean_deals_2019['mean_sold'] == house_lowest_mean_deals_2019['mean_sold'].min()]\n",
    "house_lowest_mean_deals_2019"
   ]
  },
  {
   "cell_type": "code",
   "execution_count": 380,
   "metadata": {},
   "outputs": [
    {
     "data": {
      "text/html": [
       "<table>\n",
       "<thead>\n",
       "<tr><th>#                            </th><th>region_place  </th><th style=\"text-align: right;\">  year</th><th>home_type  </th><th style=\"text-align: right;\">  mean_sold</th><th style=\"text-align: right;\">  mean_price</th><th style=\"text-align: right;\">  mean_rank</th><th style=\"text-align: right;\">  mean_size</th><th style=\"text-align: right;\">  min_sold</th><th style=\"text-align: right;\">  min_price</th><th style=\"text-align: right;\">  max_size</th><th style=\"text-align: right;\">  popular_area</th><th style=\"text-align: right;\">  sold_above_list_price</th><th style=\"text-align: right;\">  sold_below_list_price</th><th>is_popular  </th><th>good_rank  </th></tr>\n",
       "</thead>\n",
       "<tbody>\n",
       "<tr><td><i style='opacity: 0.6'>0</i></td><td>P0T           </td><td style=\"text-align: right;\">  2020</td><td>house      </td><td style=\"text-align: right;\">    53813.5</td><td style=\"text-align: right;\">       61500</td><td style=\"text-align: right;\">        9.5</td><td style=\"text-align: right;\">        nan</td><td style=\"text-align: right;\">     14000</td><td style=\"text-align: right;\">      18000</td><td style=\"text-align: right;\">      -inf</td><td style=\"text-align: right;\">             2</td><td style=\"text-align: right;\">                      0</td><td style=\"text-align: right;\">                      2</td><td>False       </td><td>False      </td></tr>\n",
       "</tbody>\n",
       "</table>"
      ],
      "text/plain": [
       "  #  region_place      year  home_type      mean_sold    mean_price    mean_rank    mean_size    min_sold    min_price    max_size    popular_area    sold_above_list_price    sold_below_list_price  is_popular    good_rank\n",
       "  0  P0T               2020  house            53813.5         61500          9.5          nan       14000        18000        -inf               2                        0                        2  False         False"
      ]
     },
     "execution_count": 380,
     "metadata": {},
     "output_type": "execute_result"
    }
   ],
   "source": [
    "    # lowest mean sold house 2020\n",
    "house_lowest_mean_deals_2020 = df_res1[(df_res1['year'] == '2020')]\n",
    "house_lowest_mean_deals_2020 = house_lowest_mean_deals_2020[(house_lowest_mean_deals_2020['home_type'] == 'house')]\n",
    "house_lowest_mean_deals_2020 = house_lowest_mean_deals_2020[house_lowest_mean_deals_2020['mean_sold'] == house_lowest_mean_deals_2020['mean_sold'].min()]\n",
    "house_lowest_mean_deals_2020"
   ]
  },
  {
   "cell_type": "code",
   "execution_count": 381,
   "metadata": {},
   "outputs": [
    {
     "data": {
      "text/html": [
       "<table>\n",
       "<thead>\n",
       "<tr><th>#                            </th><th>region_place  </th><th style=\"text-align: right;\">  year</th><th>home_type  </th><th style=\"text-align: right;\">  mean_sold</th><th style=\"text-align: right;\">  mean_price</th><th style=\"text-align: right;\">  mean_rank</th><th style=\"text-align: right;\">  mean_size</th><th style=\"text-align: right;\">  min_sold</th><th style=\"text-align: right;\">  min_price</th><th style=\"text-align: right;\">  max_size</th><th style=\"text-align: right;\">  popular_area</th><th style=\"text-align: right;\">  sold_above_list_price</th><th style=\"text-align: right;\">  sold_below_list_price</th><th>is_popular  </th><th>good_rank  </th></tr>\n",
       "</thead>\n",
       "<tbody>\n",
       "<tr><td><i style='opacity: 0.6'>0</i></td><td>P0B           </td><td style=\"text-align: right;\">  2019</td><td>condo      </td><td style=\"text-align: right;\">      47000</td><td style=\"text-align: right;\">       47000</td><td style=\"text-align: right;\">        nan</td><td style=\"text-align: right;\">        nan</td><td style=\"text-align: right;\">     47000</td><td style=\"text-align: right;\">      47000</td><td style=\"text-align: right;\">      -inf</td><td style=\"text-align: right;\">             1</td><td style=\"text-align: right;\">                      0</td><td style=\"text-align: right;\">                      1</td><td>False       </td><td>False      </td></tr>\n",
       "</tbody>\n",
       "</table>"
      ],
      "text/plain": [
       "  #  region_place      year  home_type      mean_sold    mean_price    mean_rank    mean_size    min_sold    min_price    max_size    popular_area    sold_above_list_price    sold_below_list_price  is_popular    good_rank\n",
       "  0  P0B               2019  condo              47000         47000          nan          nan       47000        47000        -inf               1                        0                        1  False         False"
      ]
     },
     "execution_count": 381,
     "metadata": {},
     "output_type": "execute_result"
    }
   ],
   "source": [
    "    # lowest mean sold condo 2019\n",
    "condo_lowest_mean_deals_2019 = df_res1[(df_res1['year'] == '2019')]\n",
    "condo_lowest_mean_deals_2019 = condo_lowest_mean_deals_2019[(condo_lowest_mean_deals_2019['home_type'] == 'condo')]\n",
    "condo_lowest_mean_deals_2019 = condo_lowest_mean_deals_2019[condo_lowest_mean_deals_2019['mean_sold'] == condo_lowest_mean_deals_2019['mean_sold'].min()]\n",
    "condo_lowest_mean_deals_2019"
   ]
  },
  {
   "cell_type": "code",
   "execution_count": 382,
   "metadata": {},
   "outputs": [
    {
     "data": {
      "text/html": [
       "<table>\n",
       "<thead>\n",
       "<tr><th>#                            </th><th>region_place  </th><th style=\"text-align: right;\">  year</th><th>home_type  </th><th style=\"text-align: right;\">  mean_sold</th><th style=\"text-align: right;\">  mean_price</th><th style=\"text-align: right;\">  mean_rank</th><th style=\"text-align: right;\">  mean_size</th><th style=\"text-align: right;\">  min_sold</th><th style=\"text-align: right;\">  min_price</th><th style=\"text-align: right;\">  max_size</th><th style=\"text-align: right;\">  popular_area</th><th style=\"text-align: right;\">  sold_above_list_price</th><th style=\"text-align: right;\">  sold_below_list_price</th><th>is_popular  </th><th>good_rank  </th></tr>\n",
       "</thead>\n",
       "<tbody>\n",
       "<tr><td><i style='opacity: 0.6'>0</i></td><td>M3V           </td><td style=\"text-align: right;\">  2020</td><td>condo      </td><td style=\"text-align: right;\">       1350</td><td style=\"text-align: right;\">        1350</td><td style=\"text-align: right;\">        nan</td><td style=\"text-align: right;\">          5</td><td style=\"text-align: right;\">      1350</td><td style=\"text-align: right;\">       1350</td><td style=\"text-align: right;\">         5</td><td style=\"text-align: right;\">             1</td><td style=\"text-align: right;\">                      0</td><td style=\"text-align: right;\">                      1</td><td>False       </td><td>False      </td></tr>\n",
       "</tbody>\n",
       "</table>"
      ],
      "text/plain": [
       "  #  region_place      year  home_type      mean_sold    mean_price    mean_rank    mean_size    min_sold    min_price    max_size    popular_area    sold_above_list_price    sold_below_list_price  is_popular    good_rank\n",
       "  0  M3V               2020  condo               1350          1350          nan            5        1350         1350           5               1                        0                        1  False         False"
      ]
     },
     "execution_count": 382,
     "metadata": {},
     "output_type": "execute_result"
    }
   ],
   "source": [
    "    # lowest mean sold condo 2020\n",
    "condo_lowest_mean_deals_2020 = df_res1[(df_res1['year'] == '2020')]\n",
    "condo_lowest_mean_deals_2020 = condo_lowest_mean_deals_2020[(condo_lowest_mean_deals_2020['home_type'] == 'condo')]\n",
    "condo_lowest_mean_deals_2020 = condo_lowest_mean_deals_2020[condo_lowest_mean_deals_2020['mean_sold'] == condo_lowest_mean_deals_2020['mean_sold'].min()]\n",
    "condo_lowest_mean_deals_2020"
   ]
  },
  {
   "cell_type": "code",
   "execution_count": 383,
   "metadata": {},
   "outputs": [
    {
     "ename": "NameError",
     "evalue": "name 'place_best_deals_2019' is not defined",
     "output_type": "error",
     "traceback": [
      "\u001b[1;31m---------------------------------------------------------------------------\u001b[0m",
      "\u001b[1;31mNameError\u001b[0m                                 Traceback (most recent call last)",
      "\u001b[1;32m<ipython-input-383-63bc7977932e>\u001b[0m in \u001b[0;36m<module>\u001b[1;34m\u001b[0m\n\u001b[0;32m      1\u001b[0m \u001b[0mplace_best_mean_deals_2019\u001b[0m \u001b[1;33m=\u001b[0m \u001b[0mdf_res1\u001b[0m\u001b[1;33m[\u001b[0m\u001b[1;33m(\u001b[0m\u001b[0mdf_res1\u001b[0m\u001b[1;33m[\u001b[0m\u001b[1;34m'year'\u001b[0m\u001b[1;33m]\u001b[0m \u001b[1;33m==\u001b[0m \u001b[1;34m'2019'\u001b[0m\u001b[1;33m)\u001b[0m\u001b[1;33m]\u001b[0m\u001b[1;33m\u001b[0m\u001b[1;33m\u001b[0m\u001b[0m\n\u001b[1;32m----> 2\u001b[1;33m \u001b[0mplace_best_mean_deals_2019\u001b[0m \u001b[1;33m=\u001b[0m \u001b[0mplace_best_deals_2019\u001b[0m\u001b[1;33m[\u001b[0m\u001b[0mplace_best_deals_2019\u001b[0m\u001b[1;33m[\u001b[0m\u001b[1;34m'mean_sold'\u001b[0m\u001b[1;33m]\u001b[0m \u001b[1;33m==\u001b[0m \u001b[0mplace_best_deals_2019\u001b[0m\u001b[1;33m[\u001b[0m\u001b[1;34m'mean_sold'\u001b[0m\u001b[1;33m]\u001b[0m\u001b[1;33m.\u001b[0m\u001b[0mmax\u001b[0m\u001b[1;33m(\u001b[0m\u001b[1;33m)\u001b[0m\u001b[1;33m]\u001b[0m\u001b[1;33m\u001b[0m\u001b[1;33m\u001b[0m\u001b[0m\n\u001b[0m\u001b[0;32m      3\u001b[0m \u001b[0mplace_best_mean_deals_2019\u001b[0m\u001b[1;33m\u001b[0m\u001b[1;33m\u001b[0m\u001b[0m\n",
      "\u001b[1;31mNameError\u001b[0m: name 'place_best_deals_2019' is not defined"
     ]
    }
   ],
   "source": [
    "place_best_mean_deals_2019 = df_res1[(df_res1['year'] == '2019')]\n",
    "place_best_mean_deals_2019 = place_best_deals_2019[place_best_deals_2019['mean_sold'] == place_best_deals_2019['mean_sold'].max()]\n",
    "place_best_mean_deals_2019"
   ]
  },
  {
   "cell_type": "code",
   "execution_count": null,
   "metadata": {},
   "outputs": [],
   "source": [
    "place_best_mean_deals_2020 = df_res1[(df_res1['year'] == '2020')]\n",
    "place_best_mean_deals_2020 = place_best_deals_2020[place_best_deals_2020['mean_sold'] == place_best_deals_2020['mean_sold'].max()]\n",
    "place_best_mean_deals_2020"
   ]
  },
  {
   "cell_type": "code",
   "execution_count": null,
   "metadata": {},
   "outputs": [],
   "source": [
    "condo_best_deals_2019 = df_res1[(df_res1['year'] == '2019') and (df_res1['mean_sold'].max == True) and  (df_res1['home_type'] == 'condo')]\n",
    "condo_best_deals_2019"
   ]
  },
  {
   "cell_type": "code",
   "execution_count": null,
   "metadata": {},
   "outputs": [],
   "source": [
    "df_sell_20 = df_sell[df_sell['year'] == '2020']\n",
    "df_sell_19 = df_sell[df_sell['year'] == '2019']\n",
    "\n",
    "\n",
    "df_sell_20_sep = df_sell[(df_sell['year'] == '2020') & (df_sell['month'] == '09')]\n",
    "df_sell_19_sep = df_sell[(df_sell['year'] == '2019') & (df_sell['month'] == '09')]\n",
    "#df_sell_20 = df_sell[df_sell['updated_on'].str.contains('2020-')]\n",
    "#df_sell_19 = df_sell[df_sell['updated_on'].str.contains('2019-')]\n",
    "\n",
    "#df_sell_sep_19 = df_sell[df_sell['year'] == '2019' and df_sell['month'] == '09']\n",
    "#df_sell_sep_20 = df_sell[df_sell['year'] == '2020' and df_sell['month'] == '09']\n",
    "\n",
    "#df_testres = df_sell[df_sell['year'].str.len()<4]"
   ]
  },
  {
   "cell_type": "code",
   "execution_count": null,
   "metadata": {
    "scrolled": true
   },
   "outputs": [],
   "source": [
    "df_sell_19_sep"
   ]
  },
  {
   "cell_type": "code",
   "execution_count": null,
   "metadata": {},
   "outputs": [],
   "source": []
  },
  {
   "cell_type": "code",
   "execution_count": null,
   "metadata": {},
   "outputs": [],
   "source": []
  }
 ],
 "metadata": {
  "kernelspec": {
   "display_name": "Python 3",
   "language": "python",
   "name": "python3"
  },
  "language_info": {
   "codemirror_mode": {
    "name": "ipython",
    "version": 3
   },
   "file_extension": ".py",
   "mimetype": "text/x-python",
   "name": "python",
   "nbconvert_exporter": "python",
   "pygments_lexer": "ipython3",
   "version": "3.8.3"
  }
 },
 "nbformat": 4,
 "nbformat_minor": 4
}
